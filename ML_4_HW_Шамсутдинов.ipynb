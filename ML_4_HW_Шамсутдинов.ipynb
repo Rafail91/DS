{
 "cells": [
  {
   "cell_type": "markdown",
   "metadata": {
    "toc": true
   },
   "source": [
    "<h1>Table of Contents<span class=\"tocSkip\"></span></h1>\n",
    "<div class=\"toc\"><ul class=\"toc-item\"></ul></div>"
   ]
  },
  {
   "cell_type": "code",
   "execution_count": 1,
   "metadata": {},
   "outputs": [],
   "source": [
    "import pandas as pd\n",
    "import numpy as np\n",
    "from sklearn.tree import DecisionTreeClassifier\n",
    "from sklearn.metrics import accuracy_score\n",
    "from sklearn.model_selection import cross_val_score\n",
    "from sklearn.ensemble import BaggingClassifier, RandomForestClassifier, GradientBoostingClassifier\n",
    "from sklearn.model_selection import train_test_split\n",
    "from matplotlib import pyplot as plt\n",
    "from sklearn.preprocessing import LabelEncoder\n",
    "from xgboost import XGBClassifier\n",
    "from sklearn.model_selection import GridSearchCV\n"
   ]
  },
  {
   "cell_type": "markdown",
   "metadata": {},
   "source": [
    "https://archive.ics.uci.edu/ml/datasets/wine+quality"
   ]
  },
  {
   "cell_type": "code",
   "execution_count": 2,
   "metadata": {},
   "outputs": [
    {
     "data": {
      "text/html": [
       "<div>\n",
       "<style scoped>\n",
       "    .dataframe tbody tr th:only-of-type {\n",
       "        vertical-align: middle;\n",
       "    }\n",
       "\n",
       "    .dataframe tbody tr th {\n",
       "        vertical-align: top;\n",
       "    }\n",
       "\n",
       "    .dataframe thead th {\n",
       "        text-align: right;\n",
       "    }\n",
       "</style>\n",
       "<table border=\"1\" class=\"dataframe\">\n",
       "  <thead>\n",
       "    <tr style=\"text-align: right;\">\n",
       "      <th></th>\n",
       "      <th>fixed acidity</th>\n",
       "      <th>volatile acidity</th>\n",
       "      <th>citric acid</th>\n",
       "      <th>residual sugar</th>\n",
       "      <th>chlorides</th>\n",
       "      <th>free sulfur dioxide</th>\n",
       "      <th>total sulfur dioxide</th>\n",
       "      <th>density</th>\n",
       "      <th>pH</th>\n",
       "      <th>sulphates</th>\n",
       "      <th>alcohol</th>\n",
       "      <th>quality</th>\n",
       "    </tr>\n",
       "  </thead>\n",
       "  <tbody>\n",
       "    <tr>\n",
       "      <th>0</th>\n",
       "      <td>7.4</td>\n",
       "      <td>0.70</td>\n",
       "      <td>0.00</td>\n",
       "      <td>1.9</td>\n",
       "      <td>0.076</td>\n",
       "      <td>11.0</td>\n",
       "      <td>34.0</td>\n",
       "      <td>0.9978</td>\n",
       "      <td>3.51</td>\n",
       "      <td>0.56</td>\n",
       "      <td>9.4</td>\n",
       "      <td>5</td>\n",
       "    </tr>\n",
       "    <tr>\n",
       "      <th>1</th>\n",
       "      <td>7.8</td>\n",
       "      <td>0.88</td>\n",
       "      <td>0.00</td>\n",
       "      <td>2.6</td>\n",
       "      <td>0.098</td>\n",
       "      <td>25.0</td>\n",
       "      <td>67.0</td>\n",
       "      <td>0.9968</td>\n",
       "      <td>3.20</td>\n",
       "      <td>0.68</td>\n",
       "      <td>9.8</td>\n",
       "      <td>5</td>\n",
       "    </tr>\n",
       "    <tr>\n",
       "      <th>2</th>\n",
       "      <td>7.8</td>\n",
       "      <td>0.76</td>\n",
       "      <td>0.04</td>\n",
       "      <td>2.3</td>\n",
       "      <td>0.092</td>\n",
       "      <td>15.0</td>\n",
       "      <td>54.0</td>\n",
       "      <td>0.9970</td>\n",
       "      <td>3.26</td>\n",
       "      <td>0.65</td>\n",
       "      <td>9.8</td>\n",
       "      <td>5</td>\n",
       "    </tr>\n",
       "    <tr>\n",
       "      <th>3</th>\n",
       "      <td>11.2</td>\n",
       "      <td>0.28</td>\n",
       "      <td>0.56</td>\n",
       "      <td>1.9</td>\n",
       "      <td>0.075</td>\n",
       "      <td>17.0</td>\n",
       "      <td>60.0</td>\n",
       "      <td>0.9980</td>\n",
       "      <td>3.16</td>\n",
       "      <td>0.58</td>\n",
       "      <td>9.8</td>\n",
       "      <td>6</td>\n",
       "    </tr>\n",
       "    <tr>\n",
       "      <th>4</th>\n",
       "      <td>7.4</td>\n",
       "      <td>0.70</td>\n",
       "      <td>0.00</td>\n",
       "      <td>1.9</td>\n",
       "      <td>0.076</td>\n",
       "      <td>11.0</td>\n",
       "      <td>34.0</td>\n",
       "      <td>0.9978</td>\n",
       "      <td>3.51</td>\n",
       "      <td>0.56</td>\n",
       "      <td>9.4</td>\n",
       "      <td>5</td>\n",
       "    </tr>\n",
       "  </tbody>\n",
       "</table>\n",
       "</div>"
      ],
      "text/plain": [
       "   fixed acidity  volatile acidity  citric acid  residual sugar  chlorides  \\\n",
       "0            7.4              0.70         0.00             1.9      0.076   \n",
       "1            7.8              0.88         0.00             2.6      0.098   \n",
       "2            7.8              0.76         0.04             2.3      0.092   \n",
       "3           11.2              0.28         0.56             1.9      0.075   \n",
       "4            7.4              0.70         0.00             1.9      0.076   \n",
       "\n",
       "   free sulfur dioxide  total sulfur dioxide  density    pH  sulphates  \\\n",
       "0                 11.0                  34.0   0.9978  3.51       0.56   \n",
       "1                 25.0                  67.0   0.9968  3.20       0.68   \n",
       "2                 15.0                  54.0   0.9970  3.26       0.65   \n",
       "3                 17.0                  60.0   0.9980  3.16       0.58   \n",
       "4                 11.0                  34.0   0.9978  3.51       0.56   \n",
       "\n",
       "   alcohol  quality  \n",
       "0      9.4        5  \n",
       "1      9.8        5  \n",
       "2      9.8        5  \n",
       "3      9.8        6  \n",
       "4      9.4        5  "
      ]
     },
     "execution_count": 2,
     "metadata": {},
     "output_type": "execute_result"
    }
   ],
   "source": [
    "data = pd.read_csv('winequality-red.csv', sep = ';')\n",
    "data.head()"
   ]
  },
  {
   "cell_type": "code",
   "execution_count": 3,
   "metadata": {},
   "outputs": [
    {
     "name": "stdout",
     "output_type": "stream",
     "text": [
      "<class 'pandas.core.frame.DataFrame'>\n",
      "RangeIndex: 1599 entries, 0 to 1598\n",
      "Data columns (total 12 columns):\n",
      " #   Column                Non-Null Count  Dtype  \n",
      "---  ------                --------------  -----  \n",
      " 0   fixed acidity         1599 non-null   float64\n",
      " 1   volatile acidity      1599 non-null   float64\n",
      " 2   citric acid           1599 non-null   float64\n",
      " 3   residual sugar        1599 non-null   float64\n",
      " 4   chlorides             1599 non-null   float64\n",
      " 5   free sulfur dioxide   1599 non-null   float64\n",
      " 6   total sulfur dioxide  1599 non-null   float64\n",
      " 7   density               1599 non-null   float64\n",
      " 8   pH                    1599 non-null   float64\n",
      " 9   sulphates             1599 non-null   float64\n",
      " 10  alcohol               1599 non-null   float64\n",
      " 11  quality               1599 non-null   int64  \n",
      "dtypes: float64(11), int64(1)\n",
      "memory usage: 150.0 KB\n"
     ]
    }
   ],
   "source": [
    "data.info()"
   ]
  },
  {
   "cell_type": "markdown",
   "metadata": {},
   "source": [
    "1.Разделите выборку на обучающую и тестовую в отношении 70%/30%"
   ]
  },
  {
   "cell_type": "code",
   "execution_count": 4,
   "metadata": {},
   "outputs": [
    {
     "data": {
      "text/plain": [
       "0    5\n",
       "1    5\n",
       "2    5\n",
       "3    6\n",
       "4    5\n",
       "Name: quality, dtype: int64"
      ]
     },
     "execution_count": 4,
     "metadata": {},
     "output_type": "execute_result"
    }
   ],
   "source": [
    "RANDOM_STATE = 42\n",
    "\n",
    "X = data.iloc[:,:11]\n",
    "X.head()\n",
    "\n",
    "y = data.iloc[:,11]\n",
    "y.head()"
   ]
  },
  {
   "cell_type": "code",
   "execution_count": 5,
   "metadata": {},
   "outputs": [
    {
     "data": {
      "text/plain": [
       "((1119, 11), (480, 11), (1119,), (480,))"
      ]
     },
     "execution_count": 5,
     "metadata": {},
     "output_type": "execute_result"
    }
   ],
   "source": [
    "X_train, X_test, y_train, y_test = train_test_split(X, y, test_size=0.3, random_state=RANDOM_STATE)\n",
    "X_train.shape, X_test.shape, y_train.shape, y_test.shape"
   ]
  },
  {
   "cell_type": "markdown",
   "metadata": {},
   "source": [
    "2.Оцените качество по метрике accuracy для классификаторов:\n",
    "\n",
    "DecisionTreeClassifier\n",
    "\n",
    "BaggingClassifier со 100 деревьями\n",
    "\n",
    "RandomForestClassifier со 100 деревьями\n",
    "\n",
    "Сравните результаты и напишите какой вывод можно сделать."
   ]
  },
  {
   "cell_type": "code",
   "execution_count": 6,
   "metadata": {},
   "outputs": [
    {
     "name": "stdout",
     "output_type": "stream",
     "text": [
      "DecisionTreeClassifier accuracy: 0.5729166666666666\n",
      "BaggingClassifier accuracy со 100 деревьями: 0.6416666666666667\n",
      "RandomForestClassifier accuracy со 100 деревьями: 0.6541666666666667\n"
     ]
    }
   ],
   "source": [
    "dec_tree_cl = DecisionTreeClassifier(random_state=RANDOM_STATE)\n",
    "dec_tree_cl.fit(X_train, y_train)\n",
    "y_pred = dec_tree_cl.predict(X_test)\n",
    "dec_tree_cl_score = accuracy_score(y_test, y_pred)\n",
    "print (f'DecisionTreeClassifier accuracy: {dec_tree_cl_score}')\n",
    "\n",
    "\n",
    "bag_cl = BaggingClassifier (base_estimator = None, n_estimators=100, random_state = RANDOM_STATE)\n",
    "bag_cl.fit(X_train, y_train)\n",
    "y_pred = bag_cl.predict(X_test)\n",
    "bag_cl_score = accuracy_score(y_test, y_pred)\n",
    "print (f'BaggingClassifier accuracy со 100 деревьями: {bag_cl_score}')\n",
    "\n",
    "\n",
    "rand_for_cl = RandomForestClassifier (n_estimators=100, random_state = RANDOM_STATE)\n",
    "rand_for_cl.fit(X_train, y_train)\n",
    "y_pred = rand_for_cl.predict(X_test)\n",
    "rand_for_cl_score = accuracy_score(y_test, y_pred)\n",
    "print (f'RandomForestClassifier accuracy со 100 деревьями: {rand_for_cl_score}')\n"
   ]
  },
  {
   "cell_type": "code",
   "execution_count": null,
   "metadata": {},
   "outputs": [],
   "source": [
    "#Ансамбли деревьев показывают результат лучше\n"
   ]
  },
  {
   "cell_type": "markdown",
   "metadata": {},
   "source": [
    "3.Посчитайте качество на тестовой выборке по метрике accuracy для классификатора RandomForestClassifier, используя значения деревьев:\n",
    "    \n",
    "10, 50, 100, 200, далее с шагом 200 до 5000 деревьев.\n",
    "Постройте график зависимости качества от числа деревьев.\n",
    "\n"
   ]
  },
  {
   "cell_type": "code",
   "execution_count": 7,
   "metadata": {},
   "outputs": [
    {
     "data": {
      "text/plain": [
       "[<matplotlib.lines.Line2D at 0x2bdd8fde2e0>]"
      ]
     },
     "execution_count": 7,
     "metadata": {},
     "output_type": "execute_result"
    },
    {
     "data": {
      "image/png": "[encoded data removed]",
      "text/plain": [
       "<Figure size 432x288 with 1 Axes>"
      ]
     },
     "metadata": {
      "needs_background": "light"
     },
     "output_type": "display_data"
    }
   ],
   "source": [
    "trees = [10, 50, 100] + list(range(200, 5001, 200))\n",
    "accuracy = []\n",
    "\n",
    "for tree in trees:\n",
    "    rand_for_cl = RandomForestClassifier(n_estimators=tree, random_state=RANDOM_STATE)\n",
    "    rand_for_cl.fit(X_train, y_train)\n",
    "    y_pred = rand_for_cl.predict(X_test)\n",
    "    accuracy.append(accuracy_score(y_test, y_pred))\n",
    "    \n",
    "\n",
    "plt.plot(trees, accuracy)"
   ]
  },
  {
   "cell_type": "markdown",
   "metadata": {},
   "source": [
    "4.Обучите реализации градиентного бустинга с параметрами по умолчанию из библиотек sklearn и xgboost. Сравните значение метрики accuracy по cross_val_score"
   ]
  },
  {
   "cell_type": "code",
   "execution_count": 8,
   "metadata": {},
   "outputs": [
    {
     "name": "stdout",
     "output_type": "stream",
     "text": [
      "Requirement already satisfied: xgboost in d:\\programs\\anaconda\\lib\\site-packages (1.7.1)\n",
      "Requirement already satisfied: numpy in d:\\programs\\anaconda\\lib\\site-packages (from xgboost) (1.20.1)\n",
      "Requirement already satisfied: scipy in d:\\programs\\anaconda\\lib\\site-packages (from xgboost) (1.8.1)\n",
      "Note: you may need to restart the kernel to use updated packages.\n"
     ]
    }
   ],
   "source": [
    "pip install xgboost"
   ]
  },
  {
   "cell_type": "code",
   "execution_count": 9,
   "metadata": {},
   "outputs": [],
   "source": [
    "from sklearn.preprocessing import LabelEncoder\n",
    "y_encoder = LabelEncoder()\n",
    "y_enc = y_encoder.fit_transform(y)"
   ]
  },
  {
   "cell_type": "code",
   "execution_count": 10,
   "metadata": {},
   "outputs": [
    {
     "name": "stdout",
     "output_type": "stream",
     "text": [
      "accuracy по cross_val_score для GradientBoostingClassifier: 0.5653467868338558\n",
      "accuracy по cross_val_score для XGBClassifier: 0.5472335423197492\n"
     ]
    }
   ],
   "source": [
    "import xgboost as xgb\n",
    "\n",
    "grad_boost_cl = GradientBoostingClassifier (random_state = RANDOM_STATE)\n",
    "grad_boost_cl_score = cross_val_score(grad_boost_cl, X, y_enc, scoring='accuracy')\n",
    "print (f'accuracy по cross_val_score для GradientBoostingClassifier: {np.mean(grad_boost_cl_score)}')\n",
    "\n",
    "xgb_cl = xgb.XGBClassifier(random_state = RANDOM_STATE)\n",
    "xgb_cl_score = cross_val_score(xgb_cl, X, y_enc, scoring='accuracy', n_jobs=-1)\n",
    "print (f'accuracy по cross_val_score для XGBClassifier: {np.mean(xgb_cl_score)}')"
   ]
  },
  {
   "cell_type": "code",
   "execution_count": null,
   "metadata": {},
   "outputs": [],
   "source": [
    "#GradientBoostingClassifier показывает результат чуть лучше"
   ]
  },
  {
   "cell_type": "markdown",
   "metadata": {},
   "source": [
    "5.Подберите оптимальные параметры этих алгоритмов с помощью GridSearchCV(cv=3).\n",
    "Параметры для оптимизации:\n",
    "\n",
    "скорость обучения\n",
    "\n",
    "количество деревьев\n",
    "\n",
    "глубина деревьев\n",
    "\n",
    "Сравните значение метрики accuracy и скорость работы. Выведите лучшие параметры алгоритмов."
   ]
  },
  {
   "cell_type": "code",
   "execution_count": 11,
   "metadata": {},
   "outputs": [],
   "source": [
    "parameters = {'learning_rate': np.arange(0.1,0.21,0.05), \n",
    "              'n_estimators':np.arange(100,400,50),\n",
    "              'max_depth': np.arange(1,5,1)\n",
    "              }"
   ]
  },
  {
   "cell_type": "code",
   "execution_count": 12,
   "metadata": {},
   "outputs": [],
   "source": [
    "search_gbc = GridSearchCV(estimator=GradientBoostingClassifier(random_state=RANDOM_STATE), param_grid=parameters, cv=3, scoring='accuracy', n_jobs=-1)\n",
    "                      \n",
    "search_xgb = GridSearchCV(estimator=XGBClassifier(random_state=RANDOM_STATE), param_grid=parameters, cv=3, scoring='accuracy', n_jobs=-1)"
   ]
  },
  {
   "cell_type": "code",
   "execution_count": 13,
   "metadata": {},
   "outputs": [
    {
     "data": {
      "text/plain": [
       "GridSearchCV(cv=3, estimator=GradientBoostingClassifier(random_state=42),\n",
       "             n_jobs=-1,\n",
       "             param_grid={'learning_rate': array([0.1 , 0.15, 0.2 ]),\n",
       "                         'max_depth': array([1, 2, 3, 4]),\n",
       "                         'n_estimators': array([100, 150, 200, 250, 300, 350])},\n",
       "             scoring='accuracy')"
      ]
     },
     "execution_count": 13,
     "metadata": {},
     "output_type": "execute_result"
    }
   ],
   "source": [
    "search_gbc.fit(X, y_enc)"
   ]
  },
  {
   "cell_type": "code",
   "execution_count": 14,
   "metadata": {},
   "outputs": [
    {
     "name": "stdout",
     "output_type": "stream",
     "text": [
      "Sklearn GBC:\n",
      "Accuracy: 0.5679\n",
      "Parameters: {'learning_rate': 0.1, 'max_depth': 1, 'n_estimators': 100}\n"
     ]
    }
   ],
   "source": [
    "print('Sklearn GBC:')\n",
    "print(f'Accuracy: {search_gbc.best_score_:.4f}')\n",
    "print(f'Parameters: {search_gbc.best_params_}')"
   ]
  },
  {
   "cell_type": "code",
   "execution_count": 15,
   "metadata": {},
   "outputs": [
    {
     "data": {
      "text/plain": [
       "GridSearchCV(cv=3,\n",
       "             estimator=XGBClassifier(base_score=None, booster=None,\n",
       "                                     callbacks=None, colsample_bylevel=None,\n",
       "                                     colsample_bynode=None,\n",
       "                                     colsample_bytree=None,\n",
       "                                     early_stopping_rounds=None,\n",
       "                                     enable_categorical=False, eval_metric=None,\n",
       "                                     feature_types=None, gamma=None,\n",
       "                                     gpu_id=None, grow_policy=None,\n",
       "                                     importance_type=None,\n",
       "                                     interaction_constraints=None,\n",
       "                                     learning_rate=None,...\n",
       "                                     max_delta_step=None, max_depth=None,\n",
       "                                     max_leaves=None, min_child_weight=None,\n",
       "                                     missing=nan, monotone_constraints=None,\n",
       "                                     n_estimators=100, n_jobs=None,\n",
       "                                     num_parallel_tree=None, predictor=None,\n",
       "                                     random_state=42, ...),\n",
       "             n_jobs=-1,\n",
       "             param_grid={'learning_rate': array([0.1 , 0.15, 0.2 ]),\n",
       "                         'max_depth': array([1, 2, 3, 4]),\n",
       "                         'n_estimators': array([100, 150, 200, 250, 300, 350])},\n",
       "             scoring='accuracy')"
      ]
     },
     "execution_count": 15,
     "metadata": {},
     "output_type": "execute_result"
    }
   ],
   "source": [
    "search_xgb.fit(X, y_enc)"
   ]
  },
  {
   "cell_type": "code",
   "execution_count": 16,
   "metadata": {},
   "outputs": [
    {
     "name": "stdout",
     "output_type": "stream",
     "text": [
      "XGBoost:\n",
      "Accuracy: 0.5753595997498436\n",
      "Parameters: {'learning_rate': 0.1, 'max_depth': 1, 'n_estimators': 100}\n"
     ]
    }
   ],
   "source": [
    "print('XGBoost:')\n",
    "print(f'Accuracy: {search_xgb.best_score_}')\n",
    "print(f'Parameters: {search_xgb.best_params_}')"
   ]
  },
  {
   "cell_type": "code",
   "execution_count": null,
   "metadata": {},
   "outputs": [],
   "source": []
  },
  {
   "cell_type": "markdown",
   "metadata": {},
   "source": [
    "6.Обучите реализации градиентного бустинга с параметрами по умолчанию из библиотек lightgbm и catboost. Сравните значение метрики accuracy по cross_val_score по всем четырем реализациям."
   ]
  },
  {
   "cell_type": "code",
   "execution_count": 17,
   "metadata": {},
   "outputs": [
    {
     "name": "stdout",
     "output_type": "stream",
     "text": [
      "Requirement already satisfied: catboost in d:\\programs\\anaconda\\lib\\site-packages (1.1.1)\n",
      "Requirement already satisfied: graphviz in d:\\programs\\anaconda\\lib\\site-packages (from catboost) (0.20.1)\n",
      "Requirement already satisfied: scipy in d:\\programs\\anaconda\\lib\\site-packages (from catboost) (1.8.1)\n",
      "Requirement already satisfied: pandas>=0.24.0 in d:\\programs\\anaconda\\lib\\site-packages (from catboost) (1.2.4)\n",
      "Requirement already satisfied: six in d:\\programs\\anaconda\\lib\\site-packages (from catboost) (1.15.0)\n",
      "Requirement already satisfied: plotly in d:\\programs\\anaconda\\lib\\site-packages (from catboost) (5.10.0)\n",
      "Requirement already satisfied: matplotlib in d:\\programs\\anaconda\\lib\\site-packages (from catboost) (3.3.4)\n",
      "Requirement already satisfied: numpy>=1.16.0 in d:\\programs\\anaconda\\lib\\site-packages (from catboost) (1.20.1)\n",
      "Requirement already satisfied: python-dateutil>=2.7.3 in d:\\programs\\anaconda\\lib\\site-packages (from pandas>=0.24.0->catboost) (2.8.1)\n",
      "Requirement already satisfied: pytz>=2017.3 in d:\\programs\\anaconda\\lib\\site-packages (from pandas>=0.24.0->catboost) (2021.1)\n",
      "Requirement already satisfied: kiwisolver>=1.0.1 in d:\\programs\\anaconda\\lib\\site-packages (from matplotlib->catboost) (1.3.1)\n",
      "Requirement already satisfied: cycler>=0.10 in d:\\programs\\anaconda\\lib\\site-packages (from matplotlib->catboost) (0.10.0)\n",
      "Requirement already satisfied: pyparsing!=2.0.4,!=2.1.2,!=2.1.6,>=2.0.3 in d:\\programs\\anaconda\\lib\\site-packages (from matplotlib->catboost) (2.4.7)\n",
      "Requirement already satisfied: pillow>=6.2.0 in d:\\programs\\anaconda\\lib\\site-packages (from matplotlib->catboost) (8.2.0)\n",
      "Requirement already satisfied: tenacity>=6.2.0 in d:\\programs\\anaconda\\lib\\site-packages (from plotly->catboost) (8.1.0)\n",
      "Requirement already satisfied: lightgbm in d:\\programs\\anaconda\\lib\\site-packages (3.3.3)\n",
      "Requirement already satisfied: numpy in d:\\programs\\anaconda\\lib\\site-packages (from lightgbm) (1.20.1)\n",
      "Requirement already satisfied: scipy in d:\\programs\\anaconda\\lib\\site-packages (from lightgbm) (1.8.1)\n",
      "Requirement already satisfied: wheel in d:\\programs\\anaconda\\lib\\site-packages (from lightgbm) (0.36.2)\n",
      "Requirement already satisfied: scikit-learn!=0.22.0 in d:\\programs\\anaconda\\lib\\site-packages (from lightgbm) (0.24.1)\n",
      "Requirement already satisfied: threadpoolctl>=2.0.0 in d:\\programs\\anaconda\\lib\\site-packages (from scikit-learn!=0.22.0->lightgbm) (2.1.0)\n",
      "Requirement already satisfied: joblib>=0.11 in d:\\programs\\anaconda\\lib\\site-packages (from scikit-learn!=0.22.0->lightgbm) (1.1.0)\n"
     ]
    }
   ],
   "source": [
    "!pip install catboost\n",
    "!pip install lightgbm\n",
    "from lightgbm import LGBMClassifier\n",
    "from catboost import CatBoostClassifier"
   ]
  },
  {
   "cell_type": "code",
   "execution_count": 18,
   "metadata": {},
   "outputs": [],
   "source": [
    "lgbc = LGBMClassifier(random_state=RANDOM_STATE)\n",
    "cbc = CatBoostClassifier(random_state=RANDOM_STATE)"
   ]
  },
  {
   "cell_type": "code",
   "execution_count": 19,
   "metadata": {},
   "outputs": [],
   "source": [
    "lgbc = LGBMClassifier(random_state=RANDOM_STATE)\n",
    "cbc = CatBoostClassifier(random_state=RANDOM_STATE)"
   ]
  },
  {
   "cell_type": "code",
   "execution_count": 20,
   "metadata": {},
   "outputs": [
    {
     "name": "stdout",
     "output_type": "stream",
     "text": [
      "Light GBM: 0.5572472570532915\n"
     ]
    }
   ],
   "source": [
    "print('Light GBM:', np.mean(cross_val_score(lgbc, X, y_enc, scoring='accuracy', n_jobs=-1)))"
   ]
  },
  {
   "cell_type": "code",
   "execution_count": 21,
   "metadata": {},
   "outputs": [
    {
     "name": "stdout",
     "output_type": "stream",
     "text": [
      "Catboost Classifier: 0.5516105015673981\n"
     ]
    }
   ],
   "source": [
    "print('Catboost Classifier:', np.mean(cross_val_score(cbc, X, y_enc, scoring='accuracy', n_jobs=-1)))"
   ]
  },
  {
   "cell_type": "code",
   "execution_count": null,
   "metadata": {},
   "outputs": [],
   "source": [
    "# Результат сравним с предыдущим экспериментом"
   ]
  },
  {
   "cell_type": "markdown",
   "metadata": {},
   "source": [
    "7.Подберите оптимальные параметры для алгоритмов градиентного бустинга из библиотек lightgbm и catboost с теми же условиями. Выведите лучшие параметры алгоритмов.\n",
    "Сравните значение метрики accuracy и скорость по этим четырем реализациям."
   ]
  },
  {
   "cell_type": "code",
   "execution_count": 22,
   "metadata": {},
   "outputs": [],
   "source": [
    "search_lgbc = GridSearchCV(estimator=LGBMClassifier(random_state=RANDOM_STATE), param_grid=parameters, cv=3, scoring='accuracy', n_jobs=-1)\n",
    "\n",
    "search_cbc = GridSearchCV(estimator=CatBoostClassifier(random_state=RANDOM_STATE), param_grid=parameters, cv=3, scoring='accuracy', n_jobs=-1)"
   ]
  },
  {
   "cell_type": "code",
   "execution_count": 23,
   "metadata": {},
   "outputs": [
    {
     "data": {
      "text/plain": [
       "GridSearchCV(cv=3, estimator=LGBMClassifier(random_state=42), n_jobs=-1,\n",
       "             param_grid={'learning_rate': array([0.1 , 0.15, 0.2 ]),\n",
       "                         'max_depth': array([1, 2, 3, 4]),\n",
       "                         'n_estimators': array([100, 150, 200, 250, 300, 350])},\n",
       "             scoring='accuracy')"
      ]
     },
     "execution_count": 23,
     "metadata": {},
     "output_type": "execute_result"
    }
   ],
   "source": [
    "search_lgbc.fit(X, y_enc)"
   ]
  },
  {
   "cell_type": "code",
   "execution_count": 24,
   "metadata": {},
   "outputs": [
    {
     "name": "stdout",
     "output_type": "stream",
     "text": [
      "Sklearn GBC:\n",
      "Accuracy: 0.5747342088805504\n",
      "Parameters of a model: {'learning_rate': 0.15000000000000002, 'max_depth': 1, 'n_estimators': 150}\n"
     ]
    }
   ],
   "source": [
    "print('Sklearn GBC:')\n",
    "print(f'Accuracy: {search_lgbc.best_score_}')\n",
    "print(f'Parameters of a model: {search_lgbc.best_params_}')"
   ]
  },
  {
   "cell_type": "code",
   "execution_count": 25,
   "metadata": {},
   "outputs": [
    {
     "name": "stdout",
     "output_type": "stream",
     "text": [
      "0:\tlearn: 1.6556733\ttotal: 153ms\tremaining: 22.9s\n",
      "1:\tlearn: 1.5440517\ttotal: 161ms\tremaining: 11.9s\n",
      "2:\tlearn: 1.4616349\ttotal: 168ms\tremaining: 8.23s\n",
      "3:\tlearn: 1.3963264\ttotal: 174ms\tremaining: 6.35s\n",
      "4:\tlearn: 1.3378606\ttotal: 180ms\tremaining: 5.23s\n",
      "5:\tlearn: 1.2886238\ttotal: 187ms\tremaining: 4.48s\n",
      "6:\tlearn: 1.2431099\ttotal: 193ms\tremaining: 3.94s\n",
      "7:\tlearn: 1.2077018\ttotal: 199ms\tremaining: 3.53s\n",
      "8:\tlearn: 1.1781483\ttotal: 205ms\tremaining: 3.2s\n",
      "9:\tlearn: 1.1511237\ttotal: 210ms\tremaining: 2.94s\n",
      "10:\tlearn: 1.1293391\ttotal: 216ms\tremaining: 2.73s\n",
      "11:\tlearn: 1.1081278\ttotal: 221ms\tremaining: 2.54s\n",
      "12:\tlearn: 1.0870086\ttotal: 225ms\tremaining: 2.37s\n",
      "13:\tlearn: 1.0706132\ttotal: 229ms\tremaining: 2.22s\n",
      "14:\tlearn: 1.0532669\ttotal: 233ms\tremaining: 2.09s\n",
      "15:\tlearn: 1.0390274\ttotal: 237ms\tremaining: 1.98s\n",
      "16:\tlearn: 1.0259614\ttotal: 240ms\tremaining: 1.88s\n",
      "17:\tlearn: 1.0156779\ttotal: 244ms\tremaining: 1.79s\n",
      "18:\tlearn: 1.0040875\ttotal: 248ms\tremaining: 1.71s\n",
      "19:\tlearn: 0.9937662\ttotal: 250ms\tremaining: 1.63s\n",
      "20:\tlearn: 0.9871746\ttotal: 253ms\tremaining: 1.55s\n",
      "21:\tlearn: 0.9795988\ttotal: 255ms\tremaining: 1.48s\n",
      "22:\tlearn: 0.9730202\ttotal: 258ms\tremaining: 1.42s\n",
      "23:\tlearn: 0.9666599\ttotal: 260ms\tremaining: 1.36s\n",
      "24:\tlearn: 0.9614089\ttotal: 262ms\tremaining: 1.31s\n",
      "25:\tlearn: 0.9540792\ttotal: 265ms\tremaining: 1.26s\n",
      "26:\tlearn: 0.9474744\ttotal: 267ms\tremaining: 1.22s\n",
      "27:\tlearn: 0.9410592\ttotal: 270ms\tremaining: 1.17s\n",
      "28:\tlearn: 0.9361482\ttotal: 272ms\tremaining: 1.13s\n",
      "29:\tlearn: 0.9319865\ttotal: 274ms\tremaining: 1.1s\n",
      "30:\tlearn: 0.9243592\ttotal: 277ms\tremaining: 1.06s\n",
      "31:\tlearn: 0.9205219\ttotal: 279ms\tremaining: 1.03s\n",
      "32:\tlearn: 0.9152384\ttotal: 281ms\tremaining: 998ms\n",
      "33:\tlearn: 0.9118671\ttotal: 284ms\tremaining: 968ms\n",
      "34:\tlearn: 0.9087904\ttotal: 286ms\tremaining: 940ms\n",
      "35:\tlearn: 0.9036797\ttotal: 289ms\tremaining: 914ms\n",
      "36:\tlearn: 0.9008719\ttotal: 291ms\tremaining: 889ms\n",
      "37:\tlearn: 0.8973072\ttotal: 294ms\tremaining: 867ms\n",
      "38:\tlearn: 0.8942498\ttotal: 297ms\tremaining: 846ms\n",
      "39:\tlearn: 0.8916162\ttotal: 300ms\tremaining: 825ms\n",
      "40:\tlearn: 0.8889759\ttotal: 303ms\tremaining: 805ms\n",
      "41:\tlearn: 0.8859419\ttotal: 306ms\tremaining: 787ms\n",
      "42:\tlearn: 0.8835580\ttotal: 309ms\tremaining: 769ms\n",
      "43:\tlearn: 0.8800850\ttotal: 312ms\tremaining: 751ms\n",
      "44:\tlearn: 0.8774733\ttotal: 315ms\tremaining: 734ms\n",
      "45:\tlearn: 0.8756941\ttotal: 318ms\tremaining: 718ms\n",
      "46:\tlearn: 0.8718172\ttotal: 320ms\tremaining: 702ms\n",
      "47:\tlearn: 0.8689064\ttotal: 325ms\tremaining: 690ms\n",
      "48:\tlearn: 0.8655920\ttotal: 328ms\tremaining: 676ms\n",
      "49:\tlearn: 0.8636934\ttotal: 331ms\tremaining: 661ms\n",
      "50:\tlearn: 0.8607980\ttotal: 334ms\tremaining: 648ms\n",
      "51:\tlearn: 0.8593262\ttotal: 337ms\tremaining: 635ms\n",
      "52:\tlearn: 0.8575153\ttotal: 340ms\tremaining: 623ms\n",
      "53:\tlearn: 0.8553665\ttotal: 345ms\tremaining: 614ms\n",
      "54:\tlearn: 0.8530812\ttotal: 351ms\tremaining: 605ms\n",
      "55:\tlearn: 0.8512499\ttotal: 355ms\tremaining: 597ms\n",
      "56:\tlearn: 0.8497839\ttotal: 361ms\tremaining: 588ms\n",
      "57:\tlearn: 0.8492487\ttotal: 366ms\tremaining: 580ms\n",
      "58:\tlearn: 0.8471694\ttotal: 371ms\tremaining: 572ms\n",
      "59:\tlearn: 0.8452676\ttotal: 378ms\tremaining: 566ms\n",
      "60:\tlearn: 0.8430362\ttotal: 382ms\tremaining: 557ms\n",
      "61:\tlearn: 0.8411708\ttotal: 385ms\tremaining: 546ms\n",
      "62:\tlearn: 0.8400159\ttotal: 388ms\tremaining: 535ms\n",
      "63:\tlearn: 0.8379911\ttotal: 392ms\tremaining: 527ms\n",
      "64:\tlearn: 0.8365811\ttotal: 397ms\tremaining: 519ms\n",
      "65:\tlearn: 0.8362895\ttotal: 399ms\tremaining: 508ms\n",
      "66:\tlearn: 0.8340269\ttotal: 402ms\tremaining: 498ms\n",
      "67:\tlearn: 0.8325839\ttotal: 405ms\tremaining: 489ms\n",
      "68:\tlearn: 0.8301719\ttotal: 408ms\tremaining: 479ms\n",
      "69:\tlearn: 0.8289073\ttotal: 411ms\tremaining: 470ms\n",
      "70:\tlearn: 0.8267298\ttotal: 414ms\tremaining: 460ms\n",
      "71:\tlearn: 0.8248440\ttotal: 417ms\tremaining: 451ms\n",
      "72:\tlearn: 0.8229712\ttotal: 419ms\tremaining: 442ms\n",
      "73:\tlearn: 0.8214295\ttotal: 422ms\tremaining: 434ms\n",
      "74:\tlearn: 0.8201173\ttotal: 426ms\tremaining: 426ms\n",
      "75:\tlearn: 0.8192646\ttotal: 429ms\tremaining: 418ms\n",
      "76:\tlearn: 0.8186160\ttotal: 432ms\tremaining: 409ms\n",
      "77:\tlearn: 0.8168914\ttotal: 434ms\tremaining: 400ms\n",
      "78:\tlearn: 0.8152755\ttotal: 436ms\tremaining: 392ms\n",
      "79:\tlearn: 0.8135219\ttotal: 438ms\tremaining: 383ms\n",
      "80:\tlearn: 0.8125858\ttotal: 440ms\tremaining: 375ms\n",
      "81:\tlearn: 0.8106928\ttotal: 443ms\tremaining: 367ms\n",
      "82:\tlearn: 0.8098222\ttotal: 445ms\tremaining: 359ms\n",
      "83:\tlearn: 0.8085266\ttotal: 447ms\tremaining: 351ms\n",
      "84:\tlearn: 0.8072599\ttotal: 449ms\tremaining: 343ms\n",
      "85:\tlearn: 0.8059903\ttotal: 451ms\tremaining: 336ms\n",
      "86:\tlearn: 0.8039361\ttotal: 454ms\tremaining: 329ms\n",
      "87:\tlearn: 0.8031622\ttotal: 456ms\tremaining: 321ms\n",
      "88:\tlearn: 0.8019358\ttotal: 458ms\tremaining: 314ms\n",
      "89:\tlearn: 0.8004674\ttotal: 461ms\tremaining: 307ms\n",
      "90:\tlearn: 0.7993210\ttotal: 463ms\tremaining: 300ms\n",
      "91:\tlearn: 0.7984065\ttotal: 465ms\tremaining: 293ms\n",
      "92:\tlearn: 0.7976278\ttotal: 467ms\tremaining: 286ms\n",
      "93:\tlearn: 0.7959555\ttotal: 469ms\tremaining: 280ms\n",
      "94:\tlearn: 0.7946015\ttotal: 471ms\tremaining: 273ms\n",
      "95:\tlearn: 0.7928572\ttotal: 474ms\tremaining: 266ms\n",
      "96:\tlearn: 0.7910603\ttotal: 476ms\tremaining: 260ms\n",
      "97:\tlearn: 0.7890521\ttotal: 478ms\tremaining: 254ms\n",
      "98:\tlearn: 0.7874454\ttotal: 480ms\tremaining: 247ms\n",
      "99:\tlearn: 0.7865368\ttotal: 482ms\tremaining: 241ms\n",
      "100:\tlearn: 0.7850201\ttotal: 485ms\tremaining: 235ms\n",
      "101:\tlearn: 0.7825785\ttotal: 487ms\tremaining: 229ms\n",
      "102:\tlearn: 0.7810057\ttotal: 489ms\tremaining: 223ms\n",
      "103:\tlearn: 0.7797338\ttotal: 491ms\tremaining: 217ms\n",
      "104:\tlearn: 0.7772490\ttotal: 493ms\tremaining: 211ms\n",
      "105:\tlearn: 0.7752604\ttotal: 495ms\tremaining: 206ms\n",
      "106:\tlearn: 0.7745258\ttotal: 497ms\tremaining: 200ms\n",
      "107:\tlearn: 0.7726817\ttotal: 500ms\tremaining: 195ms\n",
      "108:\tlearn: 0.7720942\ttotal: 502ms\tremaining: 189ms\n",
      "109:\tlearn: 0.7709283\ttotal: 505ms\tremaining: 184ms\n",
      "110:\tlearn: 0.7705682\ttotal: 507ms\tremaining: 178ms\n",
      "111:\tlearn: 0.7699127\ttotal: 509ms\tremaining: 173ms\n",
      "112:\tlearn: 0.7686017\ttotal: 511ms\tremaining: 167ms\n",
      "113:\tlearn: 0.7672303\ttotal: 514ms\tremaining: 162ms\n",
      "114:\tlearn: 0.7651226\ttotal: 516ms\tremaining: 157ms\n",
      "115:\tlearn: 0.7640627\ttotal: 518ms\tremaining: 152ms\n",
      "116:\tlearn: 0.7617240\ttotal: 520ms\tremaining: 147ms\n",
      "117:\tlearn: 0.7603590\ttotal: 523ms\tremaining: 142ms\n",
      "118:\tlearn: 0.7582177\ttotal: 525ms\tremaining: 137ms\n",
      "119:\tlearn: 0.7571533\ttotal: 527ms\tremaining: 132ms\n",
      "120:\tlearn: 0.7557091\ttotal: 529ms\tremaining: 127ms\n",
      "121:\tlearn: 0.7540890\ttotal: 531ms\tremaining: 122ms\n",
      "122:\tlearn: 0.7530800\ttotal: 533ms\tremaining: 117ms\n",
      "123:\tlearn: 0.7509540\ttotal: 536ms\tremaining: 112ms\n",
      "124:\tlearn: 0.7498979\ttotal: 538ms\tremaining: 108ms\n",
      "125:\tlearn: 0.7494213\ttotal: 540ms\tremaining: 103ms\n",
      "126:\tlearn: 0.7484675\ttotal: 542ms\tremaining: 98.1ms\n",
      "127:\tlearn: 0.7473619\ttotal: 544ms\tremaining: 93.5ms\n",
      "128:\tlearn: 0.7470325\ttotal: 546ms\tremaining: 88.9ms\n",
      "129:\tlearn: 0.7464890\ttotal: 548ms\tremaining: 84.3ms\n",
      "130:\tlearn: 0.7459283\ttotal: 550ms\tremaining: 79.8ms\n",
      "131:\tlearn: 0.7452812\ttotal: 552ms\tremaining: 75.3ms\n",
      "132:\tlearn: 0.7442867\ttotal: 555ms\tremaining: 70.9ms\n",
      "133:\tlearn: 0.7434375\ttotal: 557ms\tremaining: 66.5ms\n",
      "134:\tlearn: 0.7426469\ttotal: 559ms\tremaining: 62.1ms\n",
      "135:\tlearn: 0.7401975\ttotal: 561ms\tremaining: 57.7ms\n",
      "136:\tlearn: 0.7391361\ttotal: 563ms\tremaining: 53.4ms\n",
      "137:\tlearn: 0.7378949\ttotal: 565ms\tremaining: 49.1ms\n",
      "138:\tlearn: 0.7367412\ttotal: 567ms\tremaining: 44.9ms\n",
      "139:\tlearn: 0.7355868\ttotal: 569ms\tremaining: 40.7ms\n",
      "140:\tlearn: 0.7346965\ttotal: 572ms\tremaining: 36.5ms\n",
      "141:\tlearn: 0.7333118\ttotal: 574ms\tremaining: 32.3ms\n",
      "142:\tlearn: 0.7312448\ttotal: 576ms\tremaining: 28.2ms\n",
      "143:\tlearn: 0.7298371\ttotal: 578ms\tremaining: 24.1ms\n",
      "144:\tlearn: 0.7286776\ttotal: 580ms\tremaining: 20ms\n",
      "145:\tlearn: 0.7283152\ttotal: 582ms\tremaining: 16ms\n",
      "146:\tlearn: 0.7266510\ttotal: 585ms\tremaining: 11.9ms\n",
      "147:\tlearn: 0.7256393\ttotal: 587ms\tremaining: 7.93ms\n",
      "148:\tlearn: 0.7240265\ttotal: 589ms\tremaining: 3.95ms\n",
      "149:\tlearn: 0.7230852\ttotal: 591ms\tremaining: 0us\n"
     ]
    },
    {
     "data": {
      "text/plain": [
       "GridSearchCV(cv=3,\n",
       "             estimator=<catboost.core.CatBoostClassifier object at 0x000002BDEA58D460>,\n",
       "             n_jobs=-1,\n",
       "             param_grid={'learning_rate': array([0.1 , 0.15, 0.2 ]),\n",
       "                         'max_depth': array([1, 2, 3, 4]),\n",
       "                         'n_estimators': array([100, 150, 200, 250, 300, 350])},\n",
       "             scoring='accuracy')"
      ]
     },
     "execution_count": 25,
     "metadata": {},
     "output_type": "execute_result"
    }
   ],
   "source": [
    "search_cbc.fit(X, y_enc)"
   ]
  },
  {
   "cell_type": "code",
   "execution_count": 26,
   "metadata": {},
   "outputs": [
    {
     "name": "stdout",
     "output_type": "stream",
     "text": [
      "Sklearn GBC:\n",
      "Accuracy: 0.58223889931207\n",
      "Parameters of a model: {'learning_rate': 0.1, 'max_depth': 4, 'n_estimators': 150}\n"
     ]
    }
   ],
   "source": [
    "print('Sklearn GBC:')\n",
    "print(f'Accuracy: {search_cbc.best_score_}')\n",
    "print(f'Parameters of a model: {search_cbc.best_params_}')"
   ]
  },
  {
   "cell_type": "code",
   "execution_count": null,
   "metadata": {},
   "outputs": [],
   "source": []
  },
  {
   "cell_type": "code",
   "execution_count": null,
   "metadata": {},
   "outputs": [],
   "source": []
  },
  {
   "cell_type": "markdown",
   "metadata": {},
   "source": [
    "8.Подберите оптимальные параметры алгоритма из библиотеки xgbost с помощью [optuna](https://github.com/optuna/optuna) . Параметры для оптимизации:\n",
    "\n",
    "скорость обучения\n",
    "\n",
    "количество деревьев\n",
    "\n",
    "глубина деревьев\n",
    "\n",
    "Сравните результат с поиском по сетке из sklearn. Выведите лучшие параметры алгоритма, найденные даным способом."
   ]
  },
  {
   "cell_type": "code",
   "execution_count": 27,
   "metadata": {},
   "outputs": [
    {
     "name": "stdout",
     "output_type": "stream",
     "text": [
      "Requirement already satisfied: optuna in d:\\programs\\anaconda\\lib\\site-packages (3.0.3)\n",
      "Requirement already satisfied: scipy<1.9.0,>=1.7.0 in d:\\programs\\anaconda\\lib\\site-packages (from optuna) (1.8.1)\n",
      "Requirement already satisfied: tqdm in d:\\programs\\anaconda\\lib\\site-packages (from optuna) (4.59.0)\n",
      "Requirement already satisfied: alembic>=1.5.0 in d:\\programs\\anaconda\\lib\\site-packages (from optuna) (1.8.1)\n",
      "Requirement already satisfied: colorlog in d:\\programs\\anaconda\\lib\\site-packages (from optuna) (6.7.0)\n",
      "Requirement already satisfied: numpy in d:\\programs\\anaconda\\lib\\site-packages (from optuna) (1.20.1)\n",
      "Requirement already satisfied: packaging>=20.0 in d:\\programs\\anaconda\\lib\\site-packages (from optuna) (21.3)\n",
      "Requirement already satisfied: cliff in d:\\programs\\anaconda\\lib\\site-packages (from optuna) (4.1.0)\n",
      "Requirement already satisfied: importlib-metadata<5.0.0 in d:\\programs\\anaconda\\lib\\site-packages (from optuna) (4.13.0)\n",
      "Requirement already satisfied: sqlalchemy>=1.3.0 in d:\\programs\\anaconda\\lib\\site-packages (from optuna) (1.4.7)\n",
      "Requirement already satisfied: cmaes>=0.8.2 in d:\\programs\\anaconda\\lib\\site-packages (from optuna) (0.9.0)\n",
      "Requirement already satisfied: PyYAML in d:\\programs\\anaconda\\lib\\site-packages (from optuna) (5.4.1)\n",
      "Requirement already satisfied: importlib-resources in d:\\programs\\anaconda\\lib\\site-packages (from alembic>=1.5.0->optuna) (5.10.0)\n",
      "Requirement already satisfied: Mako in d:\\programs\\anaconda\\lib\\site-packages (from alembic>=1.5.0->optuna) (1.2.4)\n",
      "Requirement already satisfied: zipp>=0.5 in d:\\programs\\anaconda\\lib\\site-packages (from importlib-metadata<5.0.0->optuna) (3.4.1)\n",
      "Requirement already satisfied: pyparsing!=3.0.5,>=2.0.2 in d:\\programs\\anaconda\\lib\\site-packages (from packaging>=20.0->optuna) (2.4.7)\n",
      "Requirement already satisfied: greenlet!=0.4.17 in d:\\programs\\anaconda\\lib\\site-packages (from sqlalchemy>=1.3.0->optuna) (1.0.0)\n",
      "Requirement already satisfied: PrettyTable>=0.7.2 in d:\\programs\\anaconda\\lib\\site-packages (from cliff->optuna) (3.5.0)\n",
      "Requirement already satisfied: stevedore>=2.0.1 in d:\\programs\\anaconda\\lib\\site-packages (from cliff->optuna) (4.1.1)\n",
      "Requirement already satisfied: autopage>=0.4.0 in d:\\programs\\anaconda\\lib\\site-packages (from cliff->optuna) (0.5.1)\n",
      "Requirement already satisfied: cmd2>=1.0.0 in d:\\programs\\anaconda\\lib\\site-packages (from cliff->optuna) (2.4.2)\n",
      "Requirement already satisfied: attrs>=16.3.0 in d:\\programs\\anaconda\\lib\\site-packages (from cmd2>=1.0.0->cliff->optuna) (20.3.0)\n",
      "Requirement already satisfied: pyreadline3 in d:\\programs\\anaconda\\lib\\site-packages (from cmd2>=1.0.0->cliff->optuna) (3.4.1)\n",
      "Requirement already satisfied: wcwidth>=0.1.7 in d:\\programs\\anaconda\\lib\\site-packages (from cmd2>=1.0.0->cliff->optuna) (0.2.5)\n",
      "Requirement already satisfied: pyperclip>=1.6 in d:\\programs\\anaconda\\lib\\site-packages (from cmd2>=1.0.0->cliff->optuna) (1.8.2)\n",
      "Requirement already satisfied: pbr!=2.1.0,>=2.0.0 in d:\\programs\\anaconda\\lib\\site-packages (from stevedore>=2.0.1->cliff->optuna) (5.11.0)\n",
      "Requirement already satisfied: colorama in d:\\programs\\anaconda\\lib\\site-packages (from colorlog->optuna) (0.4.4)\n",
      "Requirement already satisfied: MarkupSafe>=0.9.2 in d:\\programs\\anaconda\\lib\\site-packages (from Mako->alembic>=1.5.0->optuna) (1.1.1)\n"
     ]
    },
    {
     "name": "stderr",
     "output_type": "stream",
     "text": [
      "\u001b[32m[I 2022-11-23 12:13:34,097]\u001b[0m A new study created in memory with name: no-name-5a5aab2c-e931-41a1-8ba3-4cf10c6e2469\u001b[0m\n",
      "\u001b[32m[I 2022-11-23 12:13:36,953]\u001b[0m Trial 0 finished with value: 0.544075235109718 and parameters: {'learning_rate': 0.24439743988620333, 'n_estimators': 230, 'max_depth': 3}. Best is trial 0 with value: 0.544075235109718.\u001b[0m\n",
      "\u001b[32m[I 2022-11-23 12:13:42,761]\u001b[0m Trial 1 finished with value: 0.5778585423197493 and parameters: {'learning_rate': 0.02035926864968143, 'n_estimators': 276, 'max_depth': 5}. Best is trial 1 with value: 0.5778585423197493.\u001b[0m\n",
      "\u001b[32m[I 2022-11-23 12:13:45,233]\u001b[0m Trial 2 finished with value: 0.5447217868338559 and parameters: {'learning_rate': 0.3656625359589791, 'n_estimators': 159, 'max_depth': 4}. Best is trial 1 with value: 0.5778585423197493.\u001b[0m\n",
      "\u001b[32m[I 2022-11-23 12:13:48,209]\u001b[0m Trial 3 finished with value: 0.512823275862069 and parameters: {'learning_rate': 0.6098658120771768, 'n_estimators': 275, 'max_depth': 3}. Best is trial 1 with value: 0.5778585423197493.\u001b[0m\n",
      "\u001b[32m[I 2022-11-23 12:13:48,956]\u001b[0m Trial 4 finished with value: 0.5709972570532915 and parameters: {'learning_rate': 0.14377064776163986, 'n_estimators': 83, 'max_depth': 2}. Best is trial 1 with value: 0.5778585423197493.\u001b[0m\n",
      "\u001b[32m[I 2022-11-23 12:13:51,839]\u001b[0m Trial 5 finished with value: 0.5234463166144201 and parameters: {'learning_rate': 0.7988840424083362, 'n_estimators': 271, 'max_depth': 3}. Best is trial 1 with value: 0.5778585423197493.\u001b[0m\n",
      "\u001b[32m[I 2022-11-23 12:13:52,712]\u001b[0m Trial 6 finished with value: 0.5797355015673981 and parameters: {'learning_rate': 0.06465618841097145, 'n_estimators': 71, 'max_depth': 3}. Best is trial 6 with value: 0.5797355015673981.\u001b[0m\n",
      "\u001b[32m[I 2022-11-23 12:13:56,686]\u001b[0m Trial 7 finished with value: 0.5290811128526646 and parameters: {'learning_rate': 0.8050701537089822, 'n_estimators': 389, 'max_depth': 5}. Best is trial 6 with value: 0.5797355015673981.\u001b[0m\n",
      "\u001b[32m[I 2022-11-23 12:13:59,886]\u001b[0m Trial 8 finished with value: 0.5478350313479623 and parameters: {'learning_rate': 0.17447116041261512, 'n_estimators': 379, 'max_depth': 2}. Best is trial 6 with value: 0.5797355015673981.\u001b[0m\n",
      "\u001b[32m[I 2022-11-23 12:14:00,977]\u001b[0m Trial 9 finished with value: 0.5253369905956113 and parameters: {'learning_rate': 0.9292772479523504, 'n_estimators': 79, 'max_depth': 4}. Best is trial 6 with value: 0.5797355015673981.\u001b[0m\n",
      "\u001b[32m[I 2022-11-23 12:14:01,842]\u001b[0m Trial 10 finished with value: 0.5584815830721003 and parameters: {'learning_rate': 0.4941849295129358, 'n_estimators': 136, 'max_depth': 1}. Best is trial 6 with value: 0.5797355015673981.\u001b[0m\n",
      "\u001b[32m[I 2022-11-23 12:14:07,730]\u001b[0m Trial 11 finished with value: 0.5566046238244514 and parameters: {'learning_rate': 0.0795851157168681, 'n_estimators': 316, 'max_depth': 5}. Best is trial 6 with value: 0.5797355015673981.\u001b[0m\n",
      "\u001b[32m[I 2022-11-23 12:14:10,741]\u001b[0m Trial 12 finished with value: 0.5872355015673981 and parameters: {'learning_rate': 0.027328740477888434, 'n_estimators': 188, 'max_depth': 4}. Best is trial 12 with value: 0.5872355015673981.\u001b[0m\n",
      "\u001b[32m[I 2022-11-23 12:14:13,182]\u001b[0m Trial 13 finished with value: 0.5409580721003134 and parameters: {'learning_rate': 0.307897565468108, 'n_estimators': 168, 'max_depth': 4}. Best is trial 12 with value: 0.5872355015673981.\u001b[0m\n",
      "\u001b[32m[I 2022-11-23 12:14:14,305]\u001b[0m Trial 14 finished with value: 0.5528487460815047 and parameters: {'learning_rate': 0.46004641272489155, 'n_estimators': 124, 'max_depth': 2}. Best is trial 12 with value: 0.5872355015673981.\u001b[0m\n",
      "\u001b[32m[I 2022-11-23 12:14:17,085]\u001b[0m Trial 15 finished with value: 0.5603467868338559 and parameters: {'learning_rate': 0.06845093929204007, 'n_estimators': 180, 'max_depth': 4}. Best is trial 12 with value: 0.5872355015673981.\u001b[0m\n",
      "\u001b[32m[I 2022-11-23 12:14:17,466]\u001b[0m Trial 16 finished with value: 0.5741242163009405 and parameters: {'learning_rate': 0.2184167599329326, 'n_estimators': 55, 'max_depth': 1}. Best is trial 12 with value: 0.5872355015673981.\u001b[0m\n",
      "\u001b[32m[I 2022-11-23 12:14:20,773]\u001b[0m Trial 17 finished with value: 0.5922335423197492 and parameters: {'learning_rate': 0.016600424793358985, 'n_estimators': 216, 'max_depth': 4}. Best is trial 17 with value: 0.5922335423197492.\u001b[0m\n",
      "\u001b[32m[I 2022-11-23 12:14:23,423]\u001b[0m Trial 18 finished with value: 0.5334776645768025 and parameters: {'learning_rate': 0.5939223996167102, 'n_estimators': 212, 'max_depth': 4}. Best is trial 17 with value: 0.5922335423197492.\u001b[0m\n",
      "\u001b[32m[I 2022-11-23 12:14:26,712]\u001b[0m Trial 19 finished with value: 0.5472139498432602 and parameters: {'learning_rate': 0.3360537461354787, 'n_estimators': 222, 'max_depth': 5}. Best is trial 17 with value: 0.5922335423197492.\u001b[0m\n",
      "\u001b[32m[I 2022-11-23 12:14:29,903]\u001b[0m Trial 20 finished with value: 0.582237460815047 and parameters: {'learning_rate': 0.011480967177048461, 'n_estimators': 197, 'max_depth': 4}. Best is trial 17 with value: 0.5922335423197492.\u001b[0m\n",
      "\u001b[32m[I 2022-11-23 12:14:32,631]\u001b[0m Trial 21 finished with value: 0.5503526645768024 and parameters: {'learning_rate': 0.15663054078391467, 'n_estimators': 190, 'max_depth': 4}. Best is trial 17 with value: 0.5922335423197492.\u001b[0m\n",
      "\u001b[32m[I 2022-11-23 12:14:36,592]\u001b[0m Trial 22 finished with value: 0.5866124608150469 and parameters: {'learning_rate': 0.024162255545519817, 'n_estimators': 245, 'max_depth': 4}. Best is trial 17 with value: 0.5922335423197492.\u001b[0m\n",
      "\u001b[32m[I 2022-11-23 12:14:41,432]\u001b[0m Trial 23 finished with value: 0.5509757053291536 and parameters: {'learning_rate': 0.15063876261291548, 'n_estimators': 247, 'max_depth': 5}. Best is trial 17 with value: 0.5922335423197492.\u001b[0m\n",
      "\u001b[32m[I 2022-11-23 12:14:45,504]\u001b[0m Trial 24 finished with value: 0.531592868338558 and parameters: {'learning_rate': 0.28018027091973163, 'n_estimators': 320, 'max_depth': 4}. Best is trial 17 with value: 0.5922335423197492.\u001b[0m\n",
      "\u001b[32m[I 2022-11-23 12:14:48,907]\u001b[0m Trial 25 finished with value: 0.5146943573667712 and parameters: {'learning_rate': 0.4077623719590864, 'n_estimators': 321, 'max_depth': 3}. Best is trial 17 with value: 0.5922335423197492.\u001b[0m\n",
      "\u001b[32m[I 2022-11-23 12:14:51,902]\u001b[0m Trial 26 finished with value: 0.5672296238244513 and parameters: {'learning_rate': 0.11802554170804139, 'n_estimators': 247, 'max_depth': 3}. Best is trial 17 with value: 0.5922335423197492.\u001b[0m\n",
      "\u001b[32m[I 2022-11-23 12:14:54,026]\u001b[0m Trial 27 finished with value: 0.584759012539185 and parameters: {'learning_rate': 0.01001083112499118, 'n_estimators': 129, 'max_depth': 4}. Best is trial 17 with value: 0.5922335423197492.\u001b[0m\n",
      "\u001b[32m[I 2022-11-23 12:14:56,809]\u001b[0m Trial 28 finished with value: 0.5541163793103449 and parameters: {'learning_rate': 0.19194677810112226, 'n_estimators': 152, 'max_depth': 5}. Best is trial 17 with value: 0.5922335423197492.\u001b[0m\n",
      "\u001b[32m[I 2022-11-23 12:14:59,386]\u001b[0m Trial 29 finished with value: 0.5384619905956114 and parameters: {'learning_rate': 0.266267573667635, 'n_estimators': 238, 'max_depth': 3}. Best is trial 17 with value: 0.5922335423197492.\u001b[0m\n",
      "\u001b[32m[I 2022-11-23 12:15:03,614]\u001b[0m Trial 30 finished with value: 0.5578565830721003 and parameters: {'learning_rate': 0.09501401438769304, 'n_estimators': 294, 'max_depth': 4}. Best is trial 17 with value: 0.5922335423197492.\u001b[0m\n",
      "\u001b[32m[I 2022-11-23 12:15:07,135]\u001b[0m Trial 31 finished with value: 0.5841105015673981 and parameters: {'learning_rate': 0.011035743687755874, 'n_estimators': 213, 'max_depth': 4}. Best is trial 17 with value: 0.5922335423197492.\u001b[0m\n",
      "\u001b[32m[I 2022-11-23 12:15:09,337]\u001b[0m Trial 32 finished with value: 0.579737460815047 and parameters: {'learning_rate': 0.059146018951057186, 'n_estimators': 113, 'max_depth': 4}. Best is trial 17 with value: 0.5922335423197492.\u001b[0m\n",
      "\u001b[32m[I 2022-11-23 12:15:11,608]\u001b[0m Trial 33 finished with value: 0.5647276645768025 and parameters: {'learning_rate': 0.11100626037038941, 'n_estimators': 101, 'max_depth': 5}. Best is trial 17 with value: 0.5922335423197492.\u001b[0m\n",
      "\u001b[32m[I 2022-11-23 12:15:13,234]\u001b[0m Trial 34 finished with value: 0.5534698275862068 and parameters: {'learning_rate': 0.23576091618421965, 'n_estimators': 135, 'max_depth': 3}. Best is trial 17 with value: 0.5922335423197492.\u001b[0m\n"
     ]
    },
    {
     "name": "stderr",
     "output_type": "stream",
     "text": [
      "\u001b[32m[I 2022-11-23 12:15:15,843]\u001b[0m Trial 35 finished with value: 0.5816222570532915 and parameters: {'learning_rate': 0.011894373402076238, 'n_estimators': 168, 'max_depth': 4}. Best is trial 17 with value: 0.5922335423197492.\u001b[0m\n",
      "\u001b[32m[I 2022-11-23 12:15:19,405]\u001b[0m Trial 36 finished with value: 0.5678487460815047 and parameters: {'learning_rate': 0.056702917370718996, 'n_estimators': 196, 'max_depth': 5}. Best is trial 17 with value: 0.5922335423197492.\u001b[0m\n",
      "\u001b[32m[I 2022-11-23 12:15:22,704]\u001b[0m Trial 37 finished with value: 0.5265869905956113 and parameters: {'learning_rate': 0.600718365582122, 'n_estimators': 266, 'max_depth': 4}. Best is trial 17 with value: 0.5922335423197492.\u001b[0m\n",
      "\u001b[32m[I 2022-11-23 12:15:24,467]\u001b[0m Trial 38 finished with value: 0.5590869905956113 and parameters: {'learning_rate': 0.20945082381476057, 'n_estimators': 147, 'max_depth': 3}. Best is trial 17 with value: 0.5922335423197492.\u001b[0m\n",
      "\u001b[32m[I 2022-11-23 12:15:28,692]\u001b[0m Trial 39 finished with value: 0.5415928683385579 and parameters: {'learning_rate': 0.1276436304411995, 'n_estimators': 296, 'max_depth': 4}. Best is trial 17 with value: 0.5922335423197492.\u001b[0m\n",
      "\u001b[32m[I 2022-11-23 12:15:31,950]\u001b[0m Trial 40 finished with value: 0.5390948275862069 and parameters: {'learning_rate': 0.6714537753504267, 'n_estimators': 98, 'max_depth': 5}. Best is trial 17 with value: 0.5922335423197492.\u001b[0m\n",
      "\u001b[32m[I 2022-11-23 12:15:35,125]\u001b[0m Trial 41 finished with value: 0.581612460815047 and parameters: {'learning_rate': 0.011342484835860651, 'n_estimators': 205, 'max_depth': 4}. Best is trial 17 with value: 0.5922335423197492.\u001b[0m\n",
      "\u001b[32m[I 2022-11-23 12:15:38,784]\u001b[0m Trial 42 finished with value: 0.564739420062696 and parameters: {'learning_rate': 0.054900934627399624, 'n_estimators': 223, 'max_depth': 4}. Best is trial 17 with value: 0.5922335423197492.\u001b[0m\n",
      "\u001b[32m[I 2022-11-23 12:15:41,920]\u001b[0m Trial 43 finished with value: 0.5147002351097179 and parameters: {'learning_rate': 0.9987084711928431, 'n_estimators': 257, 'max_depth': 4}. Best is trial 17 with value: 0.5922335423197492.\u001b[0m\n",
      "\u001b[32m[I 2022-11-23 12:15:44,770]\u001b[0m Trial 44 finished with value: 0.5634757053291536 and parameters: {'learning_rate': 0.09968254381810124, 'n_estimators': 231, 'max_depth': 3}. Best is trial 17 with value: 0.5922335423197492.\u001b[0m\n",
      "\u001b[32m[I 2022-11-23 12:15:46,460]\u001b[0m Trial 45 finished with value: 0.5734894200626959 and parameters: {'learning_rate': 0.04844551765241248, 'n_estimators': 181, 'max_depth': 2}. Best is trial 17 with value: 0.5922335423197492.\u001b[0m\n",
      "\u001b[32m[I 2022-11-23 12:15:50,656]\u001b[0m Trial 46 finished with value: 0.5334639498432602 and parameters: {'learning_rate': 0.16699648289431024, 'n_estimators': 283, 'max_depth': 4}. Best is trial 17 with value: 0.5922335423197492.\u001b[0m\n",
      "\u001b[32m[I 2022-11-23 12:15:55,359]\u001b[0m Trial 47 finished with value: 0.5922433385579937 and parameters: {'learning_rate': 0.012125101257635551, 'n_estimators': 216, 'max_depth': 5}. Best is trial 47 with value: 0.5922433385579937.\u001b[0m\n",
      "\u001b[32m[I 2022-11-23 12:15:58,468]\u001b[0m Trial 48 finished with value: 0.556590909090909 and parameters: {'learning_rate': 0.09348844216584587, 'n_estimators': 169, 'max_depth': 5}. Best is trial 47 with value: 0.5922433385579937.\u001b[0m\n",
      "\u001b[32m[I 2022-11-23 12:16:00,856]\u001b[0m Trial 49 finished with value: 0.5272041536050157 and parameters: {'learning_rate': 0.7343409165891572, 'n_estimators': 184, 'max_depth': 5}. Best is trial 47 with value: 0.5922433385579937.\u001b[0m\n",
      "\u001b[32m[I 2022-11-23 12:16:02,854]\u001b[0m Trial 50 finished with value: 0.5597257053291536 and parameters: {'learning_rate': 0.14788672603834166, 'n_estimators': 236, 'max_depth': 2}. Best is trial 47 with value: 0.5922433385579937.\u001b[0m\n",
      "\u001b[32m[I 2022-11-23 12:16:06,296]\u001b[0m Trial 51 finished with value: 0.5828585423197492 and parameters: {'learning_rate': 0.036379742568770315, 'n_estimators': 210, 'max_depth': 4}. Best is trial 47 with value: 0.5922433385579937.\u001b[0m\n",
      "\u001b[32m[I 2022-11-23 12:16:10,826]\u001b[0m Trial 52 finished with value: 0.5909952978056425 and parameters: {'learning_rate': 0.01617023384461138, 'n_estimators': 216, 'max_depth': 5}. Best is trial 47 with value: 0.5922433385579937.\u001b[0m\n",
      "\u001b[32m[I 2022-11-23 12:16:15,752]\u001b[0m Trial 53 finished with value: 0.5559815830721002 and parameters: {'learning_rate': 0.07259553541001301, 'n_estimators': 257, 'max_depth': 5}. Best is trial 47 with value: 0.5922433385579937.\u001b[0m\n",
      "\u001b[32m[I 2022-11-23 12:16:21,783]\u001b[0m Trial 54 finished with value: 0.5459796238244514 and parameters: {'learning_rate': 0.11777418318609312, 'n_estimators': 347, 'max_depth': 5}. Best is trial 47 with value: 0.5922433385579937.\u001b[0m\n",
      "\u001b[32m[I 2022-11-23 12:16:26,184]\u001b[0m Trial 55 finished with value: 0.5684835423197492 and parameters: {'learning_rate': 0.04407261641556969, 'n_estimators': 219, 'max_depth': 5}. Best is trial 47 with value: 0.5922433385579937.\u001b[0m\n",
      "\u001b[32m[I 2022-11-23 12:16:29,072]\u001b[0m Trial 56 finished with value: 0.5353409090909091 and parameters: {'learning_rate': 0.5431716726483063, 'n_estimators': 197, 'max_depth': 5}. Best is trial 47 with value: 0.5922433385579937.\u001b[0m\n",
      "\u001b[32m[I 2022-11-23 12:16:31,943]\u001b[0m Trial 57 finished with value: 0.5503487460815047 and parameters: {'learning_rate': 0.1808369650900229, 'n_estimators': 163, 'max_depth': 5}. Best is trial 47 with value: 0.5922433385579937.\u001b[0m\n",
      "\u001b[32m[I 2022-11-23 12:16:35,154]\u001b[0m Trial 58 finished with value: 0.5259600313479623 and parameters: {'learning_rate': 0.3700647286430164, 'n_estimators': 246, 'max_depth': 4}. Best is trial 47 with value: 0.5922433385579937.\u001b[0m\n",
      "\u001b[32m[I 2022-11-23 12:16:37,968]\u001b[0m Trial 59 finished with value: 0.5622276645768025 and parameters: {'learning_rate': 0.08523415747220764, 'n_estimators': 138, 'max_depth': 5}. Best is trial 47 with value: 0.5922433385579937.\u001b[0m\n",
      "\u001b[32m[I 2022-11-23 12:16:42,347]\u001b[0m Trial 60 finished with value: 0.5403546238244514 and parameters: {'learning_rate': 0.13343220922488602, 'n_estimators': 282, 'max_depth': 4}. Best is trial 47 with value: 0.5922433385579937.\u001b[0m\n",
      "\u001b[32m[I 2022-11-23 12:16:45,726]\u001b[0m Trial 61 finished with value: 0.5891085423197493 and parameters: {'learning_rate': 0.023405669633731398, 'n_estimators': 211, 'max_depth': 4}. Best is trial 47 with value: 0.5922433385579937.\u001b[0m\n",
      "\u001b[32m[I 2022-11-23 12:16:49,008]\u001b[0m Trial 62 finished with value: 0.5803565830721004 and parameters: {'learning_rate': 0.03632012809562933, 'n_estimators': 203, 'max_depth': 4}. Best is trial 47 with value: 0.5922433385579937.\u001b[0m\n",
      "\u001b[32m[I 2022-11-23 12:16:52,673]\u001b[0m Trial 63 finished with value: 0.5591026645768025 and parameters: {'learning_rate': 0.07958732198495422, 'n_estimators': 226, 'max_depth': 4}. Best is trial 47 with value: 0.5922433385579937.\u001b[0m\n",
      "\u001b[32m[I 2022-11-23 12:16:53,507]\u001b[0m Trial 64 finished with value: 0.5860090125391849 and parameters: {'learning_rate': 0.012845982120454711, 'n_estimators': 61, 'max_depth': 3}. Best is trial 47 with value: 0.5922433385579937.\u001b[0m\n",
      "\u001b[32m[I 2022-11-23 12:16:56,640]\u001b[0m Trial 65 finished with value: 0.5672217868338558 and parameters: {'learning_rate': 0.04983030772326226, 'n_estimators': 261, 'max_depth': 3}. Best is trial 47 with value: 0.5922433385579937.\u001b[0m\n",
      "\u001b[32m[I 2022-11-23 12:16:59,431]\u001b[0m Trial 66 finished with value: 0.5572296238244514 and parameters: {'learning_rate': 0.08640447996466502, 'n_estimators': 241, 'max_depth': 3}. Best is trial 47 with value: 0.5922433385579937.\u001b[0m\n",
      "\u001b[32m[I 2022-11-23 12:17:00,011]\u001b[0m Trial 67 finished with value: 0.5384541536050158 and parameters: {'learning_rate': 0.8271609586176352, 'n_estimators': 50, 'max_depth': 3}. Best is trial 47 with value: 0.5922433385579937.\u001b[0m\n",
      "\u001b[32m[I 2022-11-23 12:17:02,144]\u001b[0m Trial 68 finished with value: 0.5841085423197492 and parameters: {'learning_rate': 0.03392963148712261, 'n_estimators': 179, 'max_depth': 3}. Best is trial 47 with value: 0.5922433385579937.\u001b[0m\n",
      "\u001b[32m[I 2022-11-23 12:17:02,688]\u001b[0m Trial 69 finished with value: 0.5672413793103448 and parameters: {'learning_rate': 0.19869007000601852, 'n_estimators': 62, 'max_depth': 2}. Best is trial 47 with value: 0.5922433385579937.\u001b[0m\n",
      "\u001b[32m[I 2022-11-23 12:17:05,346]\u001b[0m Trial 70 finished with value: 0.5572237460815047 and parameters: {'learning_rate': 0.12875981968272182, 'n_estimators': 217, 'max_depth': 3}. Best is trial 47 with value: 0.5922433385579937.\u001b[0m\n"
     ]
    },
    {
     "name": "stderr",
     "output_type": "stream",
     "text": [
      "\u001b[32m[I 2022-11-23 12:17:07,546]\u001b[0m Trial 71 finished with value: 0.5810011755485893 and parameters: {'learning_rate': 0.014255136713755353, 'n_estimators': 119, 'max_depth': 4}. Best is trial 47 with value: 0.5922433385579937.\u001b[0m\n",
      "\u001b[32m[I 2022-11-23 12:17:08,947]\u001b[0m Trial 72 finished with value: 0.5822550940438871 and parameters: {'learning_rate': 0.012182302181959526, 'n_estimators': 85, 'max_depth': 4}. Best is trial 47 with value: 0.5922433385579937.\u001b[0m\n",
      "\u001b[32m[I 2022-11-23 12:17:11,915]\u001b[0m Trial 73 finished with value: 0.562864420062696 and parameters: {'learning_rate': 0.06799128829791849, 'n_estimators': 192, 'max_depth': 4}. Best is trial 47 with value: 0.5922433385579937.\u001b[0m\n",
      "\u001b[32m[I 2022-11-23 12:17:16,354]\u001b[0m Trial 74 finished with value: 0.5697315830721003 and parameters: {'learning_rate': 0.039399531489512835, 'n_estimators': 232, 'max_depth': 5}. Best is trial 47 with value: 0.5922433385579937.\u001b[0m\n",
      "\u001b[32m[I 2022-11-23 12:17:18,617]\u001b[0m Trial 75 finished with value: 0.5616065830721003 and parameters: {'learning_rate': 0.11215618791085422, 'n_estimators': 151, 'max_depth': 4}. Best is trial 47 with value: 0.5922433385579937.\u001b[0m\n",
      "\u001b[32m[I 2022-11-23 12:17:19,702]\u001b[0m Trial 76 finished with value: 0.5722355015673981 and parameters: {'learning_rate': 0.1547784049338826, 'n_estimators': 70, 'max_depth': 4}. Best is trial 47 with value: 0.5922433385579937.\u001b[0m\n",
      "\u001b[32m[I 2022-11-23 12:17:20,968]\u001b[0m Trial 77 finished with value: 0.5822433385579938 and parameters: {'learning_rate': 0.07492733421463901, 'n_estimators': 98, 'max_depth': 3}. Best is trial 47 with value: 0.5922433385579937.\u001b[0m\n",
      "\u001b[32m[I 2022-11-23 12:17:23,928]\u001b[0m Trial 78 finished with value: 0.5434737460815047 and parameters: {'learning_rate': 0.23354846285169578, 'n_estimators': 174, 'max_depth': 5}. Best is trial 47 with value: 0.5922433385579937.\u001b[0m\n",
      "\u001b[32m[I 2022-11-23 12:17:27,227]\u001b[0m Trial 79 finished with value: 0.587864420062696 and parameters: {'learning_rate': 0.030857194510501278, 'n_estimators': 206, 'max_depth': 4}. Best is trial 47 with value: 0.5922433385579937.\u001b[0m\n",
      "\u001b[32m[I 2022-11-23 12:17:30,337]\u001b[0m Trial 80 finished with value: 0.5622296238244514 and parameters: {'learning_rate': 0.10355809956302503, 'n_estimators': 212, 'max_depth': 4}. Best is trial 47 with value: 0.5922433385579937.\u001b[0m\n",
      "\u001b[32m[I 2022-11-23 12:17:33,584]\u001b[0m Trial 81 finished with value: 0.579114420062696 and parameters: {'learning_rate': 0.034486442663475364, 'n_estimators': 202, 'max_depth': 4}. Best is trial 47 with value: 0.5922433385579937.\u001b[0m\n",
      "\u001b[32m[I 2022-11-23 12:17:36,644]\u001b[0m Trial 82 finished with value: 0.5734933385579938 and parameters: {'learning_rate': 0.060251099466905295, 'n_estimators': 188, 'max_depth': 4}. Best is trial 47 with value: 0.5922433385579937.\u001b[0m\n",
      "\u001b[32m[I 2022-11-23 12:17:41,057]\u001b[0m Trial 83 finished with value: 0.585364420062696 and parameters: {'learning_rate': 0.010553639267334667, 'n_estimators': 250, 'max_depth': 4}. Best is trial 47 with value: 0.5922433385579937.\u001b[0m\n",
      "\u001b[32m[I 2022-11-23 12:17:45,039]\u001b[0m Trial 84 finished with value: 0.5866183385579937 and parameters: {'learning_rate': 0.029063699066471056, 'n_estimators': 249, 'max_depth': 4}. Best is trial 47 with value: 0.5922433385579937.\u001b[0m\n",
      "\u001b[32m[I 2022-11-23 12:17:50,039]\u001b[0m Trial 85 finished with value: 0.5616065830721003 and parameters: {'learning_rate': 0.06659467252754334, 'n_estimators': 270, 'max_depth': 5}. Best is trial 47 with value: 0.5922433385579937.\u001b[0m\n",
      "\u001b[32m[I 2022-11-23 12:17:52,841]\u001b[0m Trial 86 finished with value: 0.5778585423197492 and parameters: {'learning_rate': 0.0322689825120951, 'n_estimators': 224, 'max_depth': 3}. Best is trial 47 with value: 0.5922433385579937.\u001b[0m\n",
      "\u001b[32m[I 2022-11-23 12:17:56,587]\u001b[0m Trial 87 finished with value: 0.5559855015673981 and parameters: {'learning_rate': 0.10098761692828585, 'n_estimators': 239, 'max_depth': 4}. Best is trial 47 with value: 0.5922433385579937.\u001b[0m\n",
      "\u001b[32m[I 2022-11-23 12:18:02,233]\u001b[0m Trial 88 finished with value: 0.5334776645768026 and parameters: {'learning_rate': 0.1394127545449055, 'n_estimators': 395, 'max_depth': 4}. Best is trial 47 with value: 0.5922433385579937.\u001b[0m\n",
      "\u001b[32m[I 2022-11-23 12:18:06,756]\u001b[0m Trial 89 finished with value: 0.5578448275862069 and parameters: {'learning_rate': 0.05269789689098447, 'n_estimators': 229, 'max_depth': 5}. Best is trial 47 with value: 0.5922433385579937.\u001b[0m\n",
      "\u001b[32m[I 2022-11-23 12:18:12,495]\u001b[0m Trial 90 finished with value: 0.5578546238244513 and parameters: {'learning_rate': 0.07804602033152466, 'n_estimators': 354, 'max_depth': 4}. Best is trial 47 with value: 0.5922433385579937.\u001b[0m\n",
      "\u001b[32m[I 2022-11-23 12:18:16,792]\u001b[0m Trial 91 finished with value: 0.584112460815047 and parameters: {'learning_rate': 0.01011199049495055, 'n_estimators': 247, 'max_depth': 4}. Best is trial 47 with value: 0.5922433385579937.\u001b[0m\n",
      "\u001b[32m[I 2022-11-23 12:18:18,594]\u001b[0m Trial 92 finished with value: 0.5841300940438872 and parameters: {'learning_rate': 0.02755883839819421, 'n_estimators': 306, 'max_depth': 1}. Best is trial 47 with value: 0.5922433385579937.\u001b[0m\n",
      "\u001b[32m[I 2022-11-23 12:18:22,870]\u001b[0m Trial 93 finished with value: 0.5647315830721003 and parameters: {'learning_rate': 0.05197404322340856, 'n_estimators': 254, 'max_depth': 4}. Best is trial 47 with value: 0.5922433385579937.\u001b[0m\n",
      "\u001b[32m[I 2022-11-23 12:18:26,284]\u001b[0m Trial 94 finished with value: 0.559110501567398 and parameters: {'learning_rate': 0.09336269709822502, 'n_estimators': 210, 'max_depth': 4}. Best is trial 47 with value: 0.5922433385579937.\u001b[0m\n",
      "\u001b[32m[I 2022-11-23 12:18:29,977]\u001b[0m Trial 95 finished with value: 0.5259717868338558 and parameters: {'learning_rate': 0.4247220238736619, 'n_estimators': 279, 'max_depth': 4}. Best is trial 47 with value: 0.5922433385579937.\u001b[0m\n",
      "\u001b[32m[I 2022-11-23 12:18:33,136]\u001b[0m Trial 96 finished with value: 0.5753487460815047 and parameters: {'learning_rate': 0.030497404189896583, 'n_estimators': 263, 'max_depth': 3}. Best is trial 47 with value: 0.5922433385579937.\u001b[0m\n",
      "\u001b[32m[I 2022-11-23 12:18:37,109]\u001b[0m Trial 97 finished with value: 0.5484717868338558 and parameters: {'learning_rate': 0.11504815136533911, 'n_estimators': 254, 'max_depth': 4}. Best is trial 47 with value: 0.5922433385579937.\u001b[0m\n",
      "\u001b[32m[I 2022-11-23 12:18:40,824]\u001b[0m Trial 98 finished with value: 0.538469827586207 and parameters: {'learning_rate': 0.17135313903887608, 'n_estimators': 216, 'max_depth': 5}. Best is trial 47 with value: 0.5922433385579937.\u001b[0m\n",
      "\u001b[32m[I 2022-11-23 12:18:45,390]\u001b[0m Trial 99 finished with value: 0.5659835423197492 and parameters: {'learning_rate': 0.056548524800483134, 'n_estimators': 289, 'max_depth': 4}. Best is trial 47 with value: 0.5922433385579937.\u001b[0m\n"
     ]
    }
   ],
   "source": [
    "!pip install optuna\n",
    "import optuna\n",
    "\n",
    "def objective(trial):\n",
    "\n",
    "    params = {\n",
    "        'learning_rate': trial.suggest_float('learning_rate', 0.01, 1.0),\n",
    "        'n_estimators': trial.suggest_int('n_estimators', 50, 400),\n",
    "        'max_depth': trial.suggest_int('max_depth', 1, 5),\n",
    "        'random_state': 42\n",
    "    }\n",
    "\n",
    "    xgb_optuna = xgb.XGBClassifier(**params)\n",
    "    scores = cross_val_score(xgb_optuna, X, y_enc, scoring='accuracy')\n",
    "\n",
    "    xgb_optuna.fit(X, y_enc)\n",
    "    y_pred = xgb_optuna.predict(X_test)\n",
    "    opt_accuracy = accuracy_score(y_test, y_pred)\n",
    "\n",
    "    return scores.mean()\n",
    "\n",
    "\n",
    "\n",
    "study = optuna.create_study(direction='maximize')\n",
    "\n",
    "study.optimize(objective, n_trials=100)"
   ]
  },
  {
   "cell_type": "code",
   "execution_count": 28,
   "metadata": {},
   "outputs": [
    {
     "name": "stdout",
     "output_type": "stream",
     "text": [
      "Best value: 0.5922433385579937\n",
      "Best params: {'learning_rate': 0.012125101257635551, 'n_estimators': 216, 'max_depth': 5}\n"
     ]
    }
   ],
   "source": [
    "print (f'Best value: {study.best_value}')\n",
    "print (f'Best params: {study.best_params}')\n"
   ]
  },
  {
   "cell_type": "code",
   "execution_count": null,
   "metadata": {},
   "outputs": [],
   "source": [
    "#Результат по accuracy удалось улучшить"
   ]
  },
  {
   "cell_type": "markdown",
   "metadata": {},
   "source": [
    "9.Выведите качество по метрике accuracy стэкинга (StackingClassifier) 4-х алгоритмов с базовыми параметрами градиентного бустинга."
   ]
  },
  {
   "cell_type": "code",
   "execution_count": 29,
   "metadata": {},
   "outputs": [],
   "source": [
    "from sklearn.ensemble import StackingClassifier\n",
    "\n",
    "estimators = [\n",
    "    ('grad_boost_cl', GradientBoostingClassifier(random_state=RANDOM_STATE)),\n",
    "    ('xgb_cl', XGBClassifier(random_state=RANDOM_STATE)),\n",
    "    ('lgbc', LGBMClassifier(random_state=RANDOM_STATE)),\n",
    "    ('cbc', CatBoostClassifier(random_state=RANDOM_STATE, logging_level='Silent'))\n",
    "]\n",
    "clf = StackingClassifier(estimators=estimators)"
   ]
  },
  {
   "cell_type": "code",
   "execution_count": 35,
   "metadata": {},
   "outputs": [
    {
     "data": {
      "text/plain": [
       "StackingClassifier(estimators=[('grad_boost_cl',\n",
       "                                GradientBoostingClassifier(max_depth=1,\n",
       "                                                           random_state=42)),\n",
       "                               ('xgb_cl',\n",
       "                                XGBClassifier(base_score=None, booster=None,\n",
       "                                              callbacks=None,\n",
       "                                              colsample_bylevel=None,\n",
       "                                              colsample_bynode=None,\n",
       "                                              colsample_bytree=None,\n",
       "                                              early_stopping_rounds=None,\n",
       "                                              enable_categorical=False,\n",
       "                                              eval_metric=None,\n",
       "                                              feature_types=None, gamma=None,\n",
       "                                              gpu_id=None...\n",
       "                                              max_delta_step=None, max_depth=1,\n",
       "                                              max_leaves=None,\n",
       "                                              min_child_weight=None,\n",
       "                                              missing=nan,\n",
       "                                              monotone_constraints=None,\n",
       "                                              n_estimators=100, n_jobs=None,\n",
       "                                              num_parallel_tree=None,\n",
       "                                              predictor=None, random_state=42, ...)),\n",
       "                               ('lgbc',\n",
       "                                LGBMClassifier(learning_rate=0.15000000000000002,\n",
       "                                               max_depth=1, n_estimators=150,\n",
       "                                               random_state=42)),\n",
       "                               ('cbc',\n",
       "                                <catboost.core.CatBoostClassifier object at 0x000002BDED2893D0>)])"
      ]
     },
     "execution_count": 35,
     "metadata": {},
     "output_type": "execute_result"
    }
   ],
   "source": [
    "clf.fit(X_train, y_train)"
   ]
  },
  {
   "cell_type": "code",
   "execution_count": 31,
   "metadata": {},
   "outputs": [
    {
     "name": "stdout",
     "output_type": "stream",
     "text": [
      "Stacking accuracy: 0.6770833333333334\n"
     ]
    }
   ],
   "source": [
    "print(f'Stacking accuracy: {clf.score(X_test, y_test)}')"
   ]
  },
  {
   "cell_type": "markdown",
   "metadata": {},
   "source": [
    "10.Выведите качество по метрике accuracy стэкинга 4-х алгоритмов с оптимальными параметрами градиентного бустинга. Сравните результаты с предыдущим шагом и напишите какой вывод можно из этого сделать."
   ]
  },
  {
   "cell_type": "code",
   "execution_count": 32,
   "metadata": {},
   "outputs": [],
   "source": [
    "estimators = [\n",
    "    ('grad_boost_cl', GradientBoostingClassifier(**search_gbc.best_params_, random_state=RANDOM_STATE)),\n",
    "    ('xgb_cl', XGBClassifier(**search_xgb.best_params_, random_state=RANDOM_STATE)),\n",
    "    ('lgbc', LGBMClassifier(**search_lgbc.best_params_, random_state=RANDOM_STATE)),\n",
    "    ('cbc', CatBoostClassifier(**search_cbc.best_params_, random_state=RANDOM_STATE, logging_level='Silent'))\n",
    "]\n",
    "clf = StackingClassifier(estimators=estimators)"
   ]
  },
  {
   "cell_type": "code",
   "execution_count": 33,
   "metadata": {},
   "outputs": [
    {
     "data": {
      "text/plain": [
       "StackingClassifier(estimators=[('grad_boost_cl',\n",
       "                                GradientBoostingClassifier(max_depth=1,\n",
       "                                                           random_state=42)),\n",
       "                               ('xgb_cl',\n",
       "                                XGBClassifier(base_score=None, booster=None,\n",
       "                                              callbacks=None,\n",
       "                                              colsample_bylevel=None,\n",
       "                                              colsample_bynode=None,\n",
       "                                              colsample_bytree=None,\n",
       "                                              early_stopping_rounds=None,\n",
       "                                              enable_categorical=False,\n",
       "                                              eval_metric=None,\n",
       "                                              feature_types=None, gamma=None,\n",
       "                                              gpu_id=None...\n",
       "                                              max_delta_step=None, max_depth=1,\n",
       "                                              max_leaves=None,\n",
       "                                              min_child_weight=None,\n",
       "                                              missing=nan,\n",
       "                                              monotone_constraints=None,\n",
       "                                              n_estimators=100, n_jobs=None,\n",
       "                                              num_parallel_tree=None,\n",
       "                                              predictor=None, random_state=42, ...)),\n",
       "                               ('lgbc',\n",
       "                                LGBMClassifier(learning_rate=0.15000000000000002,\n",
       "                                               max_depth=1, n_estimators=150,\n",
       "                                               random_state=42)),\n",
       "                               ('cbc',\n",
       "                                <catboost.core.CatBoostClassifier object at 0x000002BDED2893D0>)])"
      ]
     },
     "execution_count": 33,
     "metadata": {},
     "output_type": "execute_result"
    }
   ],
   "source": [
    "clf.fit(X_train, y_train)"
   ]
  },
  {
   "cell_type": "code",
   "execution_count": 34,
   "metadata": {},
   "outputs": [
    {
     "name": "stdout",
     "output_type": "stream",
     "text": [
      "Stacking accuracy: 0.5916666666666667\n"
     ]
    }
   ],
   "source": [
    "print(f'Stacking accuracy: {clf.score(X_test, y_test)}')"
   ]
  },
  {
   "cell_type": "code",
   "execution_count": null,
   "metadata": {},
   "outputs": [],
   "source": [
    "#Stacking c базовыми параметрами дал лучший результат"
   ]
  }
 ],
 "metadata": {
  "kernelspec": {
   "display_name": "Python 3",
   "language": "python",
   "name": "python3"
  },
  "language_info": {
   "codemirror_mode": {
    "name": "ipython",
    "version": 3
   },
   "file_extension": ".py",
   "mimetype": "text/x-python",
   "name": "python",
   "nbconvert_exporter": "python",
   "pygments_lexer": "ipython3",
   "version": "3.8.8"
  },
  "toc": {
   "base_numbering": 1,
   "nav_menu": {},
   "number_sections": true,
   "sideBar": true,
   "skip_h1_title": false,
   "title_cell": "Table of Contents",
   "title_sidebar": "Contents",
   "toc_cell": true,
   "toc_position": {},
   "toc_section_display": true,
   "toc_window_display": false
  }
 },
 "nbformat": 4,
 "nbformat_minor": 2
}
