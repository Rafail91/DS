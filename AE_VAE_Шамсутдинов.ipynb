{
  "nbformat": 4,
  "nbformat_minor": 0,
  "metadata": {
    "colab": {
      "provenance": []
    },
    "kernelspec": {
      "name": "python3",
      "display_name": "Python 3"
    },
    "language_info": {
      "name": "python"
    },
    "accelerator": "GPU",
    "gpuClass": "standard",
    "widgets": {
      "application/vnd.jupyter.widget-state+json": {
        "fe5f55d89d7c489ca6113fce4ce21ad4": {
          "model_module": "@jupyter-widgets/controls",
          "model_name": "HBoxModel",
          "model_module_version": "1.5.0",
          "state": {
            "_dom_classes": [],
            "_model_module": "@jupyter-widgets/controls",
            "_model_module_version": "1.5.0",
            "_model_name": "HBoxModel",
            "_view_count": null,
            "_view_module": "@jupyter-widgets/controls",
            "_view_module_version": "1.5.0",
            "_view_name": "HBoxView",
            "box_style": "",
            "children": [
              "IPY_MODEL_aff6fda421664d759f1874f886a6bbd0",
              "IPY_MODEL_96d9490f8531410c96b1cf6a096591c5",
              "IPY_MODEL_c226f8c7e8e74c17af04cb22c5ed5fc2"
            ],
            "layout": "IPY_MODEL_d3dc1d55bc714d9cabb25c9a5da49e94"
          }
        },
        "aff6fda421664d759f1874f886a6bbd0": {
          "model_module": "@jupyter-widgets/controls",
          "model_name": "HTMLModel",
          "model_module_version": "1.5.0",
          "state": {
            "_dom_classes": [],
            "_model_module": "@jupyter-widgets/controls",
            "_model_module_version": "1.5.0",
            "_model_name": "HTMLModel",
            "_view_count": null,
            "_view_module": "@jupyter-widgets/controls",
            "_view_module_version": "1.5.0",
            "_view_name": "HTMLView",
            "description": "",
            "description_tooltip": null,
            "layout": "IPY_MODEL_13dfd7c9ca504519a572584d78278307",
            "placeholder": "​",
            "style": "IPY_MODEL_f43b619afcfb4b5d8990fe5af00dc608",
            "value": "100%"
          }
        },
        "96d9490f8531410c96b1cf6a096591c5": {
          "model_module": "@jupyter-widgets/controls",
          "model_name": "FloatProgressModel",
          "model_module_version": "1.5.0",
          "state": {
            "_dom_classes": [],
            "_model_module": "@jupyter-widgets/controls",
            "_model_module_version": "1.5.0",
            "_model_name": "FloatProgressModel",
            "_view_count": null,
            "_view_module": "@jupyter-widgets/controls",
            "_view_module_version": "1.5.0",
            "_view_name": "ProgressView",
            "bar_style": "success",
            "description": "",
            "description_tooltip": null,
            "layout": "IPY_MODEL_130fde97b99040a2a953a95c193b4a92",
            "max": 9912422,
            "min": 0,
            "orientation": "horizontal",
            "style": "IPY_MODEL_ff56b5ae53f648869f99fd5d2dd56918",
            "value": 9912422
          }
        },
        "c226f8c7e8e74c17af04cb22c5ed5fc2": {
          "model_module": "@jupyter-widgets/controls",
          "model_name": "HTMLModel",
          "model_module_version": "1.5.0",
          "state": {
            "_dom_classes": [],
            "_model_module": "@jupyter-widgets/controls",
            "_model_module_version": "1.5.0",
            "_model_name": "HTMLModel",
            "_view_count": null,
            "_view_module": "@jupyter-widgets/controls",
            "_view_module_version": "1.5.0",
            "_view_name": "HTMLView",
            "description": "",
            "description_tooltip": null,
            "layout": "IPY_MODEL_f0917a8786364a22bebfb560bd2fcc07",
            "placeholder": "​",
            "style": "IPY_MODEL_9ff389af2e304c0197177aff808f3785",
            "value": " 9912422/9912422 [00:00&lt;00:00, 25184009.81it/s]"
          }
        },
        "d3dc1d55bc714d9cabb25c9a5da49e94": {
          "model_module": "@jupyter-widgets/base",
          "model_name": "LayoutModel",
          "model_module_version": "1.2.0",
          "state": {
            "_model_module": "@jupyter-widgets/base",
            "_model_module_version": "1.2.0",
            "_model_name": "LayoutModel",
            "_view_count": null,
            "_view_module": "@jupyter-widgets/base",
            "_view_module_version": "1.2.0",
            "_view_name": "LayoutView",
            "align_content": null,
            "align_items": null,
            "align_self": null,
            "border": null,
            "bottom": null,
            "display": null,
            "flex": null,
            "flex_flow": null,
            "grid_area": null,
            "grid_auto_columns": null,
            "grid_auto_flow": null,
            "grid_auto_rows": null,
            "grid_column": null,
            "grid_gap": null,
            "grid_row": null,
            "grid_template_areas": null,
            "grid_template_columns": null,
            "grid_template_rows": null,
            "height": null,
            "justify_content": null,
            "justify_items": null,
            "left": null,
            "margin": null,
            "max_height": null,
            "max_width": null,
            "min_height": null,
            "min_width": null,
            "object_fit": null,
            "object_position": null,
            "order": null,
            "overflow": null,
            "overflow_x": null,
            "overflow_y": null,
            "padding": null,
            "right": null,
            "top": null,
            "visibility": null,
            "width": null
          }
        },
        "13dfd7c9ca504519a572584d78278307": {
          "model_module": "@jupyter-widgets/base",
          "model_name": "LayoutModel",
          "model_module_version": "1.2.0",
          "state": {
            "_model_module": "@jupyter-widgets/base",
            "_model_module_version": "1.2.0",
            "_model_name": "LayoutModel",
            "_view_count": null,
            "_view_module": "@jupyter-widgets/base",
            "_view_module_version": "1.2.0",
            "_view_name": "LayoutView",
            "align_content": null,
            "align_items": null,
            "align_self": null,
            "border": null,
            "bottom": null,
            "display": null,
            "flex": null,
            "flex_flow": null,
            "grid_area": null,
            "grid_auto_columns": null,
            "grid_auto_flow": null,
            "grid_auto_rows": null,
            "grid_column": null,
            "grid_gap": null,
            "grid_row": null,
            "grid_template_areas": null,
            "grid_template_columns": null,
            "grid_template_rows": null,
            "height": null,
            "justify_content": null,
            "justify_items": null,
            "left": null,
            "margin": null,
            "max_height": null,
            "max_width": null,
            "min_height": null,
            "min_width": null,
            "object_fit": null,
            "object_position": null,
            "order": null,
            "overflow": null,
            "overflow_x": null,
            "overflow_y": null,
            "padding": null,
            "right": null,
            "top": null,
            "visibility": null,
            "width": null
          }
        },
        "f43b619afcfb4b5d8990fe5af00dc608": {
          "model_module": "@jupyter-widgets/controls",
          "model_name": "DescriptionStyleModel",
          "model_module_version": "1.5.0",
          "state": {
            "_model_module": "@jupyter-widgets/controls",
            "_model_module_version": "1.5.0",
            "_model_name": "DescriptionStyleModel",
            "_view_count": null,
            "_view_module": "@jupyter-widgets/base",
            "_view_module_version": "1.2.0",
            "_view_name": "StyleView",
            "description_width": ""
          }
        },
        "130fde97b99040a2a953a95c193b4a92": {
          "model_module": "@jupyter-widgets/base",
          "model_name": "LayoutModel",
          "model_module_version": "1.2.0",
          "state": {
            "_model_module": "@jupyter-widgets/base",
            "_model_module_version": "1.2.0",
            "_model_name": "LayoutModel",
            "_view_count": null,
            "_view_module": "@jupyter-widgets/base",
            "_view_module_version": "1.2.0",
            "_view_name": "LayoutView",
            "align_content": null,
            "align_items": null,
            "align_self": null,
            "border": null,
            "bottom": null,
            "display": null,
            "flex": null,
            "flex_flow": null,
            "grid_area": null,
            "grid_auto_columns": null,
            "grid_auto_flow": null,
            "grid_auto_rows": null,
            "grid_column": null,
            "grid_gap": null,
            "grid_row": null,
            "grid_template_areas": null,
            "grid_template_columns": null,
            "grid_template_rows": null,
            "height": null,
            "justify_content": null,
            "justify_items": null,
            "left": null,
            "margin": null,
            "max_height": null,
            "max_width": null,
            "min_height": null,
            "min_width": null,
            "object_fit": null,
            "object_position": null,
            "order": null,
            "overflow": null,
            "overflow_x": null,
            "overflow_y": null,
            "padding": null,
            "right": null,
            "top": null,
            "visibility": null,
            "width": null
          }
        },
        "ff56b5ae53f648869f99fd5d2dd56918": {
          "model_module": "@jupyter-widgets/controls",
          "model_name": "ProgressStyleModel",
          "model_module_version": "1.5.0",
          "state": {
            "_model_module": "@jupyter-widgets/controls",
            "_model_module_version": "1.5.0",
            "_model_name": "ProgressStyleModel",
            "_view_count": null,
            "_view_module": "@jupyter-widgets/base",
            "_view_module_version": "1.2.0",
            "_view_name": "StyleView",
            "bar_color": null,
            "description_width": ""
          }
        },
        "f0917a8786364a22bebfb560bd2fcc07": {
          "model_module": "@jupyter-widgets/base",
          "model_name": "LayoutModel",
          "model_module_version": "1.2.0",
          "state": {
            "_model_module": "@jupyter-widgets/base",
            "_model_module_version": "1.2.0",
            "_model_name": "LayoutModel",
            "_view_count": null,
            "_view_module": "@jupyter-widgets/base",
            "_view_module_version": "1.2.0",
            "_view_name": "LayoutView",
            "align_content": null,
            "align_items": null,
            "align_self": null,
            "border": null,
            "bottom": null,
            "display": null,
            "flex": null,
            "flex_flow": null,
            "grid_area": null,
            "grid_auto_columns": null,
            "grid_auto_flow": null,
            "grid_auto_rows": null,
            "grid_column": null,
            "grid_gap": null,
            "grid_row": null,
            "grid_template_areas": null,
            "grid_template_columns": null,
            "grid_template_rows": null,
            "height": null,
            "justify_content": null,
            "justify_items": null,
            "left": null,
            "margin": null,
            "max_height": null,
            "max_width": null,
            "min_height": null,
            "min_width": null,
            "object_fit": null,
            "object_position": null,
            "order": null,
            "overflow": null,
            "overflow_x": null,
            "overflow_y": null,
            "padding": null,
            "right": null,
            "top": null,
            "visibility": null,
            "width": null
          }
        },
        "9ff389af2e304c0197177aff808f3785": {
          "model_module": "@jupyter-widgets/controls",
          "model_name": "DescriptionStyleModel",
          "model_module_version": "1.5.0",
          "state": {
            "_model_module": "@jupyter-widgets/controls",
            "_model_module_version": "1.5.0",
            "_model_name": "DescriptionStyleModel",
            "_view_count": null,
            "_view_module": "@jupyter-widgets/base",
            "_view_module_version": "1.2.0",
            "_view_name": "StyleView",
            "description_width": ""
          }
        },
        "45525f24e9bf4735af357136482e005e": {
          "model_module": "@jupyter-widgets/controls",
          "model_name": "HBoxModel",
          "model_module_version": "1.5.0",
          "state": {
            "_dom_classes": [],
            "_model_module": "@jupyter-widgets/controls",
            "_model_module_version": "1.5.0",
            "_model_name": "HBoxModel",
            "_view_count": null,
            "_view_module": "@jupyter-widgets/controls",
            "_view_module_version": "1.5.0",
            "_view_name": "HBoxView",
            "box_style": "",
            "children": [
              "IPY_MODEL_fbdd93dbeda24a228e009ae04496a7a1",
              "IPY_MODEL_33dfe7304ebe4ad1b2b639f995376fab",
              "IPY_MODEL_c9e803bd9c8d4ad598e9953ef4d56ed0"
            ],
            "layout": "IPY_MODEL_a7afa4311cc34403935398e608cc0fca"
          }
        },
        "fbdd93dbeda24a228e009ae04496a7a1": {
          "model_module": "@jupyter-widgets/controls",
          "model_name": "HTMLModel",
          "model_module_version": "1.5.0",
          "state": {
            "_dom_classes": [],
            "_model_module": "@jupyter-widgets/controls",
            "_model_module_version": "1.5.0",
            "_model_name": "HTMLModel",
            "_view_count": null,
            "_view_module": "@jupyter-widgets/controls",
            "_view_module_version": "1.5.0",
            "_view_name": "HTMLView",
            "description": "",
            "description_tooltip": null,
            "layout": "IPY_MODEL_fb909f4e9c1c49bb820e4b688cd27b5b",
            "placeholder": "​",
            "style": "IPY_MODEL_2905bf201f554041b5a2b1ee917d8681",
            "value": "100%"
          }
        },
        "33dfe7304ebe4ad1b2b639f995376fab": {
          "model_module": "@jupyter-widgets/controls",
          "model_name": "FloatProgressModel",
          "model_module_version": "1.5.0",
          "state": {
            "_dom_classes": [],
            "_model_module": "@jupyter-widgets/controls",
            "_model_module_version": "1.5.0",
            "_model_name": "FloatProgressModel",
            "_view_count": null,
            "_view_module": "@jupyter-widgets/controls",
            "_view_module_version": "1.5.0",
            "_view_name": "ProgressView",
            "bar_style": "success",
            "description": "",
            "description_tooltip": null,
            "layout": "IPY_MODEL_ae8ed5d26b9548fab4a985130b99b7de",
            "max": 28881,
            "min": 0,
            "orientation": "horizontal",
            "style": "IPY_MODEL_3b9e1e4df23f456d9d275c3de53f05ad",
            "value": 28881
          }
        },
        "c9e803bd9c8d4ad598e9953ef4d56ed0": {
          "model_module": "@jupyter-widgets/controls",
          "model_name": "HTMLModel",
          "model_module_version": "1.5.0",
          "state": {
            "_dom_classes": [],
            "_model_module": "@jupyter-widgets/controls",
            "_model_module_version": "1.5.0",
            "_model_name": "HTMLModel",
            "_view_count": null,
            "_view_module": "@jupyter-widgets/controls",
            "_view_module_version": "1.5.0",
            "_view_name": "HTMLView",
            "description": "",
            "description_tooltip": null,
            "layout": "IPY_MODEL_774c6e94dca7457fa2ee4613d00bcdd2",
            "placeholder": "​",
            "style": "IPY_MODEL_9e7e21e7288540d493b7ff305708fb71",
            "value": " 28881/28881 [00:00&lt;00:00, 1301093.35it/s]"
          }
        },
        "a7afa4311cc34403935398e608cc0fca": {
          "model_module": "@jupyter-widgets/base",
          "model_name": "LayoutModel",
          "model_module_version": "1.2.0",
          "state": {
            "_model_module": "@jupyter-widgets/base",
            "_model_module_version": "1.2.0",
            "_model_name": "LayoutModel",
            "_view_count": null,
            "_view_module": "@jupyter-widgets/base",
            "_view_module_version": "1.2.0",
            "_view_name": "LayoutView",
            "align_content": null,
            "align_items": null,
            "align_self": null,
            "border": null,
            "bottom": null,
            "display": null,
            "flex": null,
            "flex_flow": null,
            "grid_area": null,
            "grid_auto_columns": null,
            "grid_auto_flow": null,
            "grid_auto_rows": null,
            "grid_column": null,
            "grid_gap": null,
            "grid_row": null,
            "grid_template_areas": null,
            "grid_template_columns": null,
            "grid_template_rows": null,
            "height": null,
            "justify_content": null,
            "justify_items": null,
            "left": null,
            "margin": null,
            "max_height": null,
            "max_width": null,
            "min_height": null,
            "min_width": null,
            "object_fit": null,
            "object_position": null,
            "order": null,
            "overflow": null,
            "overflow_x": null,
            "overflow_y": null,
            "padding": null,
            "right": null,
            "top": null,
            "visibility": null,
            "width": null
          }
        },
        "fb909f4e9c1c49bb820e4b688cd27b5b": {
          "model_module": "@jupyter-widgets/base",
          "model_name": "LayoutModel",
          "model_module_version": "1.2.0",
          "state": {
            "_model_module": "@jupyter-widgets/base",
            "_model_module_version": "1.2.0",
            "_model_name": "LayoutModel",
            "_view_count": null,
            "_view_module": "@jupyter-widgets/base",
            "_view_module_version": "1.2.0",
            "_view_name": "LayoutView",
            "align_content": null,
            "align_items": null,
            "align_self": null,
            "border": null,
            "bottom": null,
            "display": null,
            "flex": null,
            "flex_flow": null,
            "grid_area": null,
            "grid_auto_columns": null,
            "grid_auto_flow": null,
            "grid_auto_rows": null,
            "grid_column": null,
            "grid_gap": null,
            "grid_row": null,
            "grid_template_areas": null,
            "grid_template_columns": null,
            "grid_template_rows": null,
            "height": null,
            "justify_content": null,
            "justify_items": null,
            "left": null,
            "margin": null,
            "max_height": null,
            "max_width": null,
            "min_height": null,
            "min_width": null,
            "object_fit": null,
            "object_position": null,
            "order": null,
            "overflow": null,
            "overflow_x": null,
            "overflow_y": null,
            "padding": null,
            "right": null,
            "top": null,
            "visibility": null,
            "width": null
          }
        },
        "2905bf201f554041b5a2b1ee917d8681": {
          "model_module": "@jupyter-widgets/controls",
          "model_name": "DescriptionStyleModel",
          "model_module_version": "1.5.0",
          "state": {
            "_model_module": "@jupyter-widgets/controls",
            "_model_module_version": "1.5.0",
            "_model_name": "DescriptionStyleModel",
            "_view_count": null,
            "_view_module": "@jupyter-widgets/base",
            "_view_module_version": "1.2.0",
            "_view_name": "StyleView",
            "description_width": ""
          }
        },
        "ae8ed5d26b9548fab4a985130b99b7de": {
          "model_module": "@jupyter-widgets/base",
          "model_name": "LayoutModel",
          "model_module_version": "1.2.0",
          "state": {
            "_model_module": "@jupyter-widgets/base",
            "_model_module_version": "1.2.0",
            "_model_name": "LayoutModel",
            "_view_count": null,
            "_view_module": "@jupyter-widgets/base",
            "_view_module_version": "1.2.0",
            "_view_name": "LayoutView",
            "align_content": null,
            "align_items": null,
            "align_self": null,
            "border": null,
            "bottom": null,
            "display": null,
            "flex": null,
            "flex_flow": null,
            "grid_area": null,
            "grid_auto_columns": null,
            "grid_auto_flow": null,
            "grid_auto_rows": null,
            "grid_column": null,
            "grid_gap": null,
            "grid_row": null,
            "grid_template_areas": null,
            "grid_template_columns": null,
            "grid_template_rows": null,
            "height": null,
            "justify_content": null,
            "justify_items": null,
            "left": null,
            "margin": null,
            "max_height": null,
            "max_width": null,
            "min_height": null,
            "min_width": null,
            "object_fit": null,
            "object_position": null,
            "order": null,
            "overflow": null,
            "overflow_x": null,
            "overflow_y": null,
            "padding": null,
            "right": null,
            "top": null,
            "visibility": null,
            "width": null
          }
        },
        "3b9e1e4df23f456d9d275c3de53f05ad": {
          "model_module": "@jupyter-widgets/controls",
          "model_name": "ProgressStyleModel",
          "model_module_version": "1.5.0",
          "state": {
            "_model_module": "@jupyter-widgets/controls",
            "_model_module_version": "1.5.0",
            "_model_name": "ProgressStyleModel",
            "_view_count": null,
            "_view_module": "@jupyter-widgets/base",
            "_view_module_version": "1.2.0",
            "_view_name": "StyleView",
            "bar_color": null,
            "description_width": ""
          }
        },
        "774c6e94dca7457fa2ee4613d00bcdd2": {
          "model_module": "@jupyter-widgets/base",
          "model_name": "LayoutModel",
          "model_module_version": "1.2.0",
          "state": {
            "_model_module": "@jupyter-widgets/base",
            "_model_module_version": "1.2.0",
            "_model_name": "LayoutModel",
            "_view_count": null,
            "_view_module": "@jupyter-widgets/base",
            "_view_module_version": "1.2.0",
            "_view_name": "LayoutView",
            "align_content": null,
            "align_items": null,
            "align_self": null,
            "border": null,
            "bottom": null,
            "display": null,
            "flex": null,
            "flex_flow": null,
            "grid_area": null,
            "grid_auto_columns": null,
            "grid_auto_flow": null,
            "grid_auto_rows": null,
            "grid_column": null,
            "grid_gap": null,
            "grid_row": null,
            "grid_template_areas": null,
            "grid_template_columns": null,
            "grid_template_rows": null,
            "height": null,
            "justify_content": null,
            "justify_items": null,
            "left": null,
            "margin": null,
            "max_height": null,
            "max_width": null,
            "min_height": null,
            "min_width": null,
            "object_fit": null,
            "object_position": null,
            "order": null,
            "overflow": null,
            "overflow_x": null,
            "overflow_y": null,
            "padding": null,
            "right": null,
            "top": null,
            "visibility": null,
            "width": null
          }
        },
        "9e7e21e7288540d493b7ff305708fb71": {
          "model_module": "@jupyter-widgets/controls",
          "model_name": "DescriptionStyleModel",
          "model_module_version": "1.5.0",
          "state": {
            "_model_module": "@jupyter-widgets/controls",
            "_model_module_version": "1.5.0",
            "_model_name": "DescriptionStyleModel",
            "_view_count": null,
            "_view_module": "@jupyter-widgets/base",
            "_view_module_version": "1.2.0",
            "_view_name": "StyleView",
            "description_width": ""
          }
        },
        "56afa8637d814ff2b13376beda01e851": {
          "model_module": "@jupyter-widgets/controls",
          "model_name": "HBoxModel",
          "model_module_version": "1.5.0",
          "state": {
            "_dom_classes": [],
            "_model_module": "@jupyter-widgets/controls",
            "_model_module_version": "1.5.0",
            "_model_name": "HBoxModel",
            "_view_count": null,
            "_view_module": "@jupyter-widgets/controls",
            "_view_module_version": "1.5.0",
            "_view_name": "HBoxView",
            "box_style": "",
            "children": [
              "IPY_MODEL_aae1f29ab15c4b909c0221b14c7e162c",
              "IPY_MODEL_0797c4297d534157b4585fc271e1ee3a",
              "IPY_MODEL_89767bb568e443eca3f971b985aaacbb"
            ],
            "layout": "IPY_MODEL_4c126c113b104c37930d2aa44e5b9281"
          }
        },
        "aae1f29ab15c4b909c0221b14c7e162c": {
          "model_module": "@jupyter-widgets/controls",
          "model_name": "HTMLModel",
          "model_module_version": "1.5.0",
          "state": {
            "_dom_classes": [],
            "_model_module": "@jupyter-widgets/controls",
            "_model_module_version": "1.5.0",
            "_model_name": "HTMLModel",
            "_view_count": null,
            "_view_module": "@jupyter-widgets/controls",
            "_view_module_version": "1.5.0",
            "_view_name": "HTMLView",
            "description": "",
            "description_tooltip": null,
            "layout": "IPY_MODEL_dff600c37f33423c9cdc5ca7eabde210",
            "placeholder": "​",
            "style": "IPY_MODEL_2e26343de2ac4730a80a271c3db0b8b9",
            "value": "100%"
          }
        },
        "0797c4297d534157b4585fc271e1ee3a": {
          "model_module": "@jupyter-widgets/controls",
          "model_name": "FloatProgressModel",
          "model_module_version": "1.5.0",
          "state": {
            "_dom_classes": [],
            "_model_module": "@jupyter-widgets/controls",
            "_model_module_version": "1.5.0",
            "_model_name": "FloatProgressModel",
            "_view_count": null,
            "_view_module": "@jupyter-widgets/controls",
            "_view_module_version": "1.5.0",
            "_view_name": "ProgressView",
            "bar_style": "success",
            "description": "",
            "description_tooltip": null,
            "layout": "IPY_MODEL_af63146c6ac042a4b954b5df8f6d274b",
            "max": 1648877,
            "min": 0,
            "orientation": "horizontal",
            "style": "IPY_MODEL_c28fa4f19a4749e8b71462552c6bb7ff",
            "value": 1648877
          }
        },
        "89767bb568e443eca3f971b985aaacbb": {
          "model_module": "@jupyter-widgets/controls",
          "model_name": "HTMLModel",
          "model_module_version": "1.5.0",
          "state": {
            "_dom_classes": [],
            "_model_module": "@jupyter-widgets/controls",
            "_model_module_version": "1.5.0",
            "_model_name": "HTMLModel",
            "_view_count": null,
            "_view_module": "@jupyter-widgets/controls",
            "_view_module_version": "1.5.0",
            "_view_name": "HTMLView",
            "description": "",
            "description_tooltip": null,
            "layout": "IPY_MODEL_25d714c05e00437c860e4c35c87901d8",
            "placeholder": "​",
            "style": "IPY_MODEL_6cdb4d3be22c4064b148b5f560b6f07b",
            "value": " 1648877/1648877 [00:00&lt;00:00, 16591715.04it/s]"
          }
        },
        "4c126c113b104c37930d2aa44e5b9281": {
          "model_module": "@jupyter-widgets/base",
          "model_name": "LayoutModel",
          "model_module_version": "1.2.0",
          "state": {
            "_model_module": "@jupyter-widgets/base",
            "_model_module_version": "1.2.0",
            "_model_name": "LayoutModel",
            "_view_count": null,
            "_view_module": "@jupyter-widgets/base",
            "_view_module_version": "1.2.0",
            "_view_name": "LayoutView",
            "align_content": null,
            "align_items": null,
            "align_self": null,
            "border": null,
            "bottom": null,
            "display": null,
            "flex": null,
            "flex_flow": null,
            "grid_area": null,
            "grid_auto_columns": null,
            "grid_auto_flow": null,
            "grid_auto_rows": null,
            "grid_column": null,
            "grid_gap": null,
            "grid_row": null,
            "grid_template_areas": null,
            "grid_template_columns": null,
            "grid_template_rows": null,
            "height": null,
            "justify_content": null,
            "justify_items": null,
            "left": null,
            "margin": null,
            "max_height": null,
            "max_width": null,
            "min_height": null,
            "min_width": null,
            "object_fit": null,
            "object_position": null,
            "order": null,
            "overflow": null,
            "overflow_x": null,
            "overflow_y": null,
            "padding": null,
            "right": null,
            "top": null,
            "visibility": null,
            "width": null
          }
        },
        "dff600c37f33423c9cdc5ca7eabde210": {
          "model_module": "@jupyter-widgets/base",
          "model_name": "LayoutModel",
          "model_module_version": "1.2.0",
          "state": {
            "_model_module": "@jupyter-widgets/base",
            "_model_module_version": "1.2.0",
            "_model_name": "LayoutModel",
            "_view_count": null,
            "_view_module": "@jupyter-widgets/base",
            "_view_module_version": "1.2.0",
            "_view_name": "LayoutView",
            "align_content": null,
            "align_items": null,
            "align_self": null,
            "border": null,
            "bottom": null,
            "display": null,
            "flex": null,
            "flex_flow": null,
            "grid_area": null,
            "grid_auto_columns": null,
            "grid_auto_flow": null,
            "grid_auto_rows": null,
            "grid_column": null,
            "grid_gap": null,
            "grid_row": null,
            "grid_template_areas": null,
            "grid_template_columns": null,
            "grid_template_rows": null,
            "height": null,
            "justify_content": null,
            "justify_items": null,
            "left": null,
            "margin": null,
            "max_height": null,
            "max_width": null,
            "min_height": null,
            "min_width": null,
            "object_fit": null,
            "object_position": null,
            "order": null,
            "overflow": null,
            "overflow_x": null,
            "overflow_y": null,
            "padding": null,
            "right": null,
            "top": null,
            "visibility": null,
            "width": null
          }
        },
        "2e26343de2ac4730a80a271c3db0b8b9": {
          "model_module": "@jupyter-widgets/controls",
          "model_name": "DescriptionStyleModel",
          "model_module_version": "1.5.0",
          "state": {
            "_model_module": "@jupyter-widgets/controls",
            "_model_module_version": "1.5.0",
            "_model_name": "DescriptionStyleModel",
            "_view_count": null,
            "_view_module": "@jupyter-widgets/base",
            "_view_module_version": "1.2.0",
            "_view_name": "StyleView",
            "description_width": ""
          }
        },
        "af63146c6ac042a4b954b5df8f6d274b": {
          "model_module": "@jupyter-widgets/base",
          "model_name": "LayoutModel",
          "model_module_version": "1.2.0",
          "state": {
            "_model_module": "@jupyter-widgets/base",
            "_model_module_version": "1.2.0",
            "_model_name": "LayoutModel",
            "_view_count": null,
            "_view_module": "@jupyter-widgets/base",
            "_view_module_version": "1.2.0",
            "_view_name": "LayoutView",
            "align_content": null,
            "align_items": null,
            "align_self": null,
            "border": null,
            "bottom": null,
            "display": null,
            "flex": null,
            "flex_flow": null,
            "grid_area": null,
            "grid_auto_columns": null,
            "grid_auto_flow": null,
            "grid_auto_rows": null,
            "grid_column": null,
            "grid_gap": null,
            "grid_row": null,
            "grid_template_areas": null,
            "grid_template_columns": null,
            "grid_template_rows": null,
            "height": null,
            "justify_content": null,
            "justify_items": null,
            "left": null,
            "margin": null,
            "max_height": null,
            "max_width": null,
            "min_height": null,
            "min_width": null,
            "object_fit": null,
            "object_position": null,
            "order": null,
            "overflow": null,
            "overflow_x": null,
            "overflow_y": null,
            "padding": null,
            "right": null,
            "top": null,
            "visibility": null,
            "width": null
          }
        },
        "c28fa4f19a4749e8b71462552c6bb7ff": {
          "model_module": "@jupyter-widgets/controls",
          "model_name": "ProgressStyleModel",
          "model_module_version": "1.5.0",
          "state": {
            "_model_module": "@jupyter-widgets/controls",
            "_model_module_version": "1.5.0",
            "_model_name": "ProgressStyleModel",
            "_view_count": null,
            "_view_module": "@jupyter-widgets/base",
            "_view_module_version": "1.2.0",
            "_view_name": "StyleView",
            "bar_color": null,
            "description_width": ""
          }
        },
        "25d714c05e00437c860e4c35c87901d8": {
          "model_module": "@jupyter-widgets/base",
          "model_name": "LayoutModel",
          "model_module_version": "1.2.0",
          "state": {
            "_model_module": "@jupyter-widgets/base",
            "_model_module_version": "1.2.0",
            "_model_name": "LayoutModel",
            "_view_count": null,
            "_view_module": "@jupyter-widgets/base",
            "_view_module_version": "1.2.0",
            "_view_name": "LayoutView",
            "align_content": null,
            "align_items": null,
            "align_self": null,
            "border": null,
            "bottom": null,
            "display": null,
            "flex": null,
            "flex_flow": null,
            "grid_area": null,
            "grid_auto_columns": null,
            "grid_auto_flow": null,
            "grid_auto_rows": null,
            "grid_column": null,
            "grid_gap": null,
            "grid_row": null,
            "grid_template_areas": null,
            "grid_template_columns": null,
            "grid_template_rows": null,
            "height": null,
            "justify_content": null,
            "justify_items": null,
            "left": null,
            "margin": null,
            "max_height": null,
            "max_width": null,
            "min_height": null,
            "min_width": null,
            "object_fit": null,
            "object_position": null,
            "order": null,
            "overflow": null,
            "overflow_x": null,
            "overflow_y": null,
            "padding": null,
            "right": null,
            "top": null,
            "visibility": null,
            "width": null
          }
        },
        "6cdb4d3be22c4064b148b5f560b6f07b": {
          "model_module": "@jupyter-widgets/controls",
          "model_name": "DescriptionStyleModel",
          "model_module_version": "1.5.0",
          "state": {
            "_model_module": "@jupyter-widgets/controls",
            "_model_module_version": "1.5.0",
            "_model_name": "DescriptionStyleModel",
            "_view_count": null,
            "_view_module": "@jupyter-widgets/base",
            "_view_module_version": "1.2.0",
            "_view_name": "StyleView",
            "description_width": ""
          }
        },
        "5a3512d8af0d4302bdc522cc82007d87": {
          "model_module": "@jupyter-widgets/controls",
          "model_name": "HBoxModel",
          "model_module_version": "1.5.0",
          "state": {
            "_dom_classes": [],
            "_model_module": "@jupyter-widgets/controls",
            "_model_module_version": "1.5.0",
            "_model_name": "HBoxModel",
            "_view_count": null,
            "_view_module": "@jupyter-widgets/controls",
            "_view_module_version": "1.5.0",
            "_view_name": "HBoxView",
            "box_style": "",
            "children": [
              "IPY_MODEL_70dd828b206e4d5f9bc98366caf6bcb7",
              "IPY_MODEL_8ad2fce5eeed47f384487b6c3377d471",
              "IPY_MODEL_d4dbda6445da4c3ca8102ebdda165683"
            ],
            "layout": "IPY_MODEL_37f286e3c0aa41e9aa3cfd4db3d53c94"
          }
        },
        "70dd828b206e4d5f9bc98366caf6bcb7": {
          "model_module": "@jupyter-widgets/controls",
          "model_name": "HTMLModel",
          "model_module_version": "1.5.0",
          "state": {
            "_dom_classes": [],
            "_model_module": "@jupyter-widgets/controls",
            "_model_module_version": "1.5.0",
            "_model_name": "HTMLModel",
            "_view_count": null,
            "_view_module": "@jupyter-widgets/controls",
            "_view_module_version": "1.5.0",
            "_view_name": "HTMLView",
            "description": "",
            "description_tooltip": null,
            "layout": "IPY_MODEL_4822d34ab4884aa392766204f1ed1b9d",
            "placeholder": "​",
            "style": "IPY_MODEL_880ef06381304aaeb506e5d8f3fe6872",
            "value": "100%"
          }
        },
        "8ad2fce5eeed47f384487b6c3377d471": {
          "model_module": "@jupyter-widgets/controls",
          "model_name": "FloatProgressModel",
          "model_module_version": "1.5.0",
          "state": {
            "_dom_classes": [],
            "_model_module": "@jupyter-widgets/controls",
            "_model_module_version": "1.5.0",
            "_model_name": "FloatProgressModel",
            "_view_count": null,
            "_view_module": "@jupyter-widgets/controls",
            "_view_module_version": "1.5.0",
            "_view_name": "ProgressView",
            "bar_style": "success",
            "description": "",
            "description_tooltip": null,
            "layout": "IPY_MODEL_813994e5d7454b6c85a6aee651c5599c",
            "max": 4542,
            "min": 0,
            "orientation": "horizontal",
            "style": "IPY_MODEL_3fc56e56840d4330834e5440e71c5ae7",
            "value": 4542
          }
        },
        "d4dbda6445da4c3ca8102ebdda165683": {
          "model_module": "@jupyter-widgets/controls",
          "model_name": "HTMLModel",
          "model_module_version": "1.5.0",
          "state": {
            "_dom_classes": [],
            "_model_module": "@jupyter-widgets/controls",
            "_model_module_version": "1.5.0",
            "_model_name": "HTMLModel",
            "_view_count": null,
            "_view_module": "@jupyter-widgets/controls",
            "_view_module_version": "1.5.0",
            "_view_name": "HTMLView",
            "description": "",
            "description_tooltip": null,
            "layout": "IPY_MODEL_ac3f84a723c94ddb859c43766e8ad9f0",
            "placeholder": "​",
            "style": "IPY_MODEL_2de9e556d9c04a099b765a7bce794cd0",
            "value": " 4542/4542 [00:00&lt;00:00, 161207.45it/s]"
          }
        },
        "37f286e3c0aa41e9aa3cfd4db3d53c94": {
          "model_module": "@jupyter-widgets/base",
          "model_name": "LayoutModel",
          "model_module_version": "1.2.0",
          "state": {
            "_model_module": "@jupyter-widgets/base",
            "_model_module_version": "1.2.0",
            "_model_name": "LayoutModel",
            "_view_count": null,
            "_view_module": "@jupyter-widgets/base",
            "_view_module_version": "1.2.0",
            "_view_name": "LayoutView",
            "align_content": null,
            "align_items": null,
            "align_self": null,
            "border": null,
            "bottom": null,
            "display": null,
            "flex": null,
            "flex_flow": null,
            "grid_area": null,
            "grid_auto_columns": null,
            "grid_auto_flow": null,
            "grid_auto_rows": null,
            "grid_column": null,
            "grid_gap": null,
            "grid_row": null,
            "grid_template_areas": null,
            "grid_template_columns": null,
            "grid_template_rows": null,
            "height": null,
            "justify_content": null,
            "justify_items": null,
            "left": null,
            "margin": null,
            "max_height": null,
            "max_width": null,
            "min_height": null,
            "min_width": null,
            "object_fit": null,
            "object_position": null,
            "order": null,
            "overflow": null,
            "overflow_x": null,
            "overflow_y": null,
            "padding": null,
            "right": null,
            "top": null,
            "visibility": null,
            "width": null
          }
        },
        "4822d34ab4884aa392766204f1ed1b9d": {
          "model_module": "@jupyter-widgets/base",
          "model_name": "LayoutModel",
          "model_module_version": "1.2.0",
          "state": {
            "_model_module": "@jupyter-widgets/base",
            "_model_module_version": "1.2.0",
            "_model_name": "LayoutModel",
            "_view_count": null,
            "_view_module": "@jupyter-widgets/base",
            "_view_module_version": "1.2.0",
            "_view_name": "LayoutView",
            "align_content": null,
            "align_items": null,
            "align_self": null,
            "border": null,
            "bottom": null,
            "display": null,
            "flex": null,
            "flex_flow": null,
            "grid_area": null,
            "grid_auto_columns": null,
            "grid_auto_flow": null,
            "grid_auto_rows": null,
            "grid_column": null,
            "grid_gap": null,
            "grid_row": null,
            "grid_template_areas": null,
            "grid_template_columns": null,
            "grid_template_rows": null,
            "height": null,
            "justify_content": null,
            "justify_items": null,
            "left": null,
            "margin": null,
            "max_height": null,
            "max_width": null,
            "min_height": null,
            "min_width": null,
            "object_fit": null,
            "object_position": null,
            "order": null,
            "overflow": null,
            "overflow_x": null,
            "overflow_y": null,
            "padding": null,
            "right": null,
            "top": null,
            "visibility": null,
            "width": null
          }
        },
        "880ef06381304aaeb506e5d8f3fe6872": {
          "model_module": "@jupyter-widgets/controls",
          "model_name": "DescriptionStyleModel",
          "model_module_version": "1.5.0",
          "state": {
            "_model_module": "@jupyter-widgets/controls",
            "_model_module_version": "1.5.0",
            "_model_name": "DescriptionStyleModel",
            "_view_count": null,
            "_view_module": "@jupyter-widgets/base",
            "_view_module_version": "1.2.0",
            "_view_name": "StyleView",
            "description_width": ""
          }
        },
        "813994e5d7454b6c85a6aee651c5599c": {
          "model_module": "@jupyter-widgets/base",
          "model_name": "LayoutModel",
          "model_module_version": "1.2.0",
          "state": {
            "_model_module": "@jupyter-widgets/base",
            "_model_module_version": "1.2.0",
            "_model_name": "LayoutModel",
            "_view_count": null,
            "_view_module": "@jupyter-widgets/base",
            "_view_module_version": "1.2.0",
            "_view_name": "LayoutView",
            "align_content": null,
            "align_items": null,
            "align_self": null,
            "border": null,
            "bottom": null,
            "display": null,
            "flex": null,
            "flex_flow": null,
            "grid_area": null,
            "grid_auto_columns": null,
            "grid_auto_flow": null,
            "grid_auto_rows": null,
            "grid_column": null,
            "grid_gap": null,
            "grid_row": null,
            "grid_template_areas": null,
            "grid_template_columns": null,
            "grid_template_rows": null,
            "height": null,
            "justify_content": null,
            "justify_items": null,
            "left": null,
            "margin": null,
            "max_height": null,
            "max_width": null,
            "min_height": null,
            "min_width": null,
            "object_fit": null,
            "object_position": null,
            "order": null,
            "overflow": null,
            "overflow_x": null,
            "overflow_y": null,
            "padding": null,
            "right": null,
            "top": null,
            "visibility": null,
            "width": null
          }
        },
        "3fc56e56840d4330834e5440e71c5ae7": {
          "model_module": "@jupyter-widgets/controls",
          "model_name": "ProgressStyleModel",
          "model_module_version": "1.5.0",
          "state": {
            "_model_module": "@jupyter-widgets/controls",
            "_model_module_version": "1.5.0",
            "_model_name": "ProgressStyleModel",
            "_view_count": null,
            "_view_module": "@jupyter-widgets/base",
            "_view_module_version": "1.2.0",
            "_view_name": "StyleView",
            "bar_color": null,
            "description_width": ""
          }
        },
        "ac3f84a723c94ddb859c43766e8ad9f0": {
          "model_module": "@jupyter-widgets/base",
          "model_name": "LayoutModel",
          "model_module_version": "1.2.0",
          "state": {
            "_model_module": "@jupyter-widgets/base",
            "_model_module_version": "1.2.0",
            "_model_name": "LayoutModel",
            "_view_count": null,
            "_view_module": "@jupyter-widgets/base",
            "_view_module_version": "1.2.0",
            "_view_name": "LayoutView",
            "align_content": null,
            "align_items": null,
            "align_self": null,
            "border": null,
            "bottom": null,
            "display": null,
            "flex": null,
            "flex_flow": null,
            "grid_area": null,
            "grid_auto_columns": null,
            "grid_auto_flow": null,
            "grid_auto_rows": null,
            "grid_column": null,
            "grid_gap": null,
            "grid_row": null,
            "grid_template_areas": null,
            "grid_template_columns": null,
            "grid_template_rows": null,
            "height": null,
            "justify_content": null,
            "justify_items": null,
            "left": null,
            "margin": null,
            "max_height": null,
            "max_width": null,
            "min_height": null,
            "min_width": null,
            "object_fit": null,
            "object_position": null,
            "order": null,
            "overflow": null,
            "overflow_x": null,
            "overflow_y": null,
            "padding": null,
            "right": null,
            "top": null,
            "visibility": null,
            "width": null
          }
        },
        "2de9e556d9c04a099b765a7bce794cd0": {
          "model_module": "@jupyter-widgets/controls",
          "model_name": "DescriptionStyleModel",
          "model_module_version": "1.5.0",
          "state": {
            "_model_module": "@jupyter-widgets/controls",
            "_model_module_version": "1.5.0",
            "_model_name": "DescriptionStyleModel",
            "_view_count": null,
            "_view_module": "@jupyter-widgets/base",
            "_view_module_version": "1.2.0",
            "_view_name": "StyleView",
            "description_width": ""
          }
        }
      }
    }
  },
  "cells": [
    {
      "cell_type": "code",
      "execution_count": 25,
      "metadata": {
        "id": "v0y2jE-ks4KI"
      },
      "outputs": [],
      "source": [
        "import matplotlib.pyplot as plt\n",
        "import numpy\n",
        "import torch\n",
        "import torch.nn as nn\n",
        "import torchvision.models as models\n",
        "from torchvision import datasets, transforms\n",
        "from torch.utils.data import DataLoader\n",
        "from torch.distributions import distribution"
      ]
    },
    {
      "cell_type": "code",
      "source": [
        "# hyperparams\n",
        "inp_dim = 28 * 28\n",
        "#try to use other model params. check overfitting with large models\n",
        "hidden = 350\n",
        "out_dim = 60\n",
        "device_id = 0\n",
        "device = 'cpu' if device_id == -1 else f'cuda:{device_id}'\n",
        "n_epochs = 10\n",
        "batch_size = 128"
      ],
      "metadata": {
        "id": "o92YZ1IEs-tZ"
      },
      "execution_count": 2,
      "outputs": []
    },
    {
      "cell_type": "code",
      "source": [
        "transform = transforms.Compose(\n",
        "    [transforms.ToTensor(),\n",
        "     transforms.Normalize((0.5), (0.5)),\n",
        "     ])\n",
        "\n",
        "\n",
        "dataset_train = datasets.MNIST('.', \n",
        "                               train=True,            \n",
        "                               download=True, \n",
        "                               transform=transform)\n",
        "trainloader = torch.utils.data.DataLoader(dataset_train, \n",
        "                                          batch_size=batch_size,\n",
        "                                          shuffle=True, \n",
        "                                          num_workers=2, \n",
        "                                          drop_last = True,)\n",
        "\n",
        "dataset_test = datasets.MNIST('.', \n",
        "                              train=False,\n",
        "                              download=True, \n",
        "                              transform=transform)\n",
        "testloader = torch.utils.data.DataLoader(dataset_train, \n",
        "                                          batch_size=batch_size,\n",
        "                                          shuffle=True, \n",
        "                                          num_workers=2, \n",
        "                                          drop_last = True,)"
      ],
      "metadata": {
        "colab": {
          "base_uri": "https://localhost:8080/",
          "height": 423,
          "referenced_widgets": [
            "fe5f55d89d7c489ca6113fce4ce21ad4",
            "aff6fda421664d759f1874f886a6bbd0",
            "96d9490f8531410c96b1cf6a096591c5",
            "c226f8c7e8e74c17af04cb22c5ed5fc2",
            "d3dc1d55bc714d9cabb25c9a5da49e94",
            "13dfd7c9ca504519a572584d78278307",
            "f43b619afcfb4b5d8990fe5af00dc608",
            "130fde97b99040a2a953a95c193b4a92",
            "ff56b5ae53f648869f99fd5d2dd56918",
            "f0917a8786364a22bebfb560bd2fcc07",
            "9ff389af2e304c0197177aff808f3785",
            "45525f24e9bf4735af357136482e005e",
            "fbdd93dbeda24a228e009ae04496a7a1",
            "33dfe7304ebe4ad1b2b639f995376fab",
            "c9e803bd9c8d4ad598e9953ef4d56ed0",
            "a7afa4311cc34403935398e608cc0fca",
            "fb909f4e9c1c49bb820e4b688cd27b5b",
            "2905bf201f554041b5a2b1ee917d8681",
            "ae8ed5d26b9548fab4a985130b99b7de",
            "3b9e1e4df23f456d9d275c3de53f05ad",
            "774c6e94dca7457fa2ee4613d00bcdd2",
            "9e7e21e7288540d493b7ff305708fb71",
            "56afa8637d814ff2b13376beda01e851",
            "aae1f29ab15c4b909c0221b14c7e162c",
            "0797c4297d534157b4585fc271e1ee3a",
            "89767bb568e443eca3f971b985aaacbb",
            "4c126c113b104c37930d2aa44e5b9281",
            "dff600c37f33423c9cdc5ca7eabde210",
            "2e26343de2ac4730a80a271c3db0b8b9",
            "af63146c6ac042a4b954b5df8f6d274b",
            "c28fa4f19a4749e8b71462552c6bb7ff",
            "25d714c05e00437c860e4c35c87901d8",
            "6cdb4d3be22c4064b148b5f560b6f07b",
            "5a3512d8af0d4302bdc522cc82007d87",
            "70dd828b206e4d5f9bc98366caf6bcb7",
            "8ad2fce5eeed47f384487b6c3377d471",
            "d4dbda6445da4c3ca8102ebdda165683",
            "37f286e3c0aa41e9aa3cfd4db3d53c94",
            "4822d34ab4884aa392766204f1ed1b9d",
            "880ef06381304aaeb506e5d8f3fe6872",
            "813994e5d7454b6c85a6aee651c5599c",
            "3fc56e56840d4330834e5440e71c5ae7",
            "ac3f84a723c94ddb859c43766e8ad9f0",
            "2de9e556d9c04a099b765a7bce794cd0"
          ]
        },
        "id": "NHuMMC70s-wT",
        "outputId": "6e7360ca-2792-4a0d-fbf1-5195925145ed"
      },
      "execution_count": 3,
      "outputs": [
        {
          "output_type": "stream",
          "name": "stdout",
          "text": [
            "Downloading http://yann.lecun.com/exdb/mnist/train-images-idx3-ubyte.gz\n",
            "Downloading http://yann.lecun.com/exdb/mnist/train-images-idx3-ubyte.gz to ./MNIST/raw/train-images-idx3-ubyte.gz\n"
          ]
        },
        {
          "output_type": "display_data",
          "data": {
            "text/plain": [
              "  0%|          | 0/9912422 [00:00<?, ?it/s]"
            ],
            "application/vnd.jupyter.widget-view+json": {
              "version_major": 2,
              "version_minor": 0,
              "model_id": "fe5f55d89d7c489ca6113fce4ce21ad4"
            }
          },
          "metadata": {}
        },
        {
          "output_type": "stream",
          "name": "stdout",
          "text": [
            "Extracting ./MNIST/raw/train-images-idx3-ubyte.gz to ./MNIST/raw\n",
            "\n",
            "Downloading http://yann.lecun.com/exdb/mnist/train-labels-idx1-ubyte.gz\n",
            "Downloading http://yann.lecun.com/exdb/mnist/train-labels-idx1-ubyte.gz to ./MNIST/raw/train-labels-idx1-ubyte.gz\n"
          ]
        },
        {
          "output_type": "display_data",
          "data": {
            "text/plain": [
              "  0%|          | 0/28881 [00:00<?, ?it/s]"
            ],
            "application/vnd.jupyter.widget-view+json": {
              "version_major": 2,
              "version_minor": 0,
              "model_id": "45525f24e9bf4735af357136482e005e"
            }
          },
          "metadata": {}
        },
        {
          "output_type": "stream",
          "name": "stdout",
          "text": [
            "Extracting ./MNIST/raw/train-labels-idx1-ubyte.gz to ./MNIST/raw\n",
            "\n",
            "Downloading http://yann.lecun.com/exdb/mnist/t10k-images-idx3-ubyte.gz\n",
            "Downloading http://yann.lecun.com/exdb/mnist/t10k-images-idx3-ubyte.gz to ./MNIST/raw/t10k-images-idx3-ubyte.gz\n"
          ]
        },
        {
          "output_type": "display_data",
          "data": {
            "text/plain": [
              "  0%|          | 0/1648877 [00:00<?, ?it/s]"
            ],
            "application/vnd.jupyter.widget-view+json": {
              "version_major": 2,
              "version_minor": 0,
              "model_id": "56afa8637d814ff2b13376beda01e851"
            }
          },
          "metadata": {}
        },
        {
          "output_type": "stream",
          "name": "stdout",
          "text": [
            "Extracting ./MNIST/raw/t10k-images-idx3-ubyte.gz to ./MNIST/raw\n",
            "\n",
            "Downloading http://yann.lecun.com/exdb/mnist/t10k-labels-idx1-ubyte.gz\n",
            "Downloading http://yann.lecun.com/exdb/mnist/t10k-labels-idx1-ubyte.gz to ./MNIST/raw/t10k-labels-idx1-ubyte.gz\n"
          ]
        },
        {
          "output_type": "display_data",
          "data": {
            "text/plain": [
              "  0%|          | 0/4542 [00:00<?, ?it/s]"
            ],
            "application/vnd.jupyter.widget-view+json": {
              "version_major": 2,
              "version_minor": 0,
              "model_id": "5a3512d8af0d4302bdc522cc82007d87"
            }
          },
          "metadata": {}
        },
        {
          "output_type": "stream",
          "name": "stdout",
          "text": [
            "Extracting ./MNIST/raw/t10k-labels-idx1-ubyte.gz to ./MNIST/raw\n",
            "\n"
          ]
        }
      ]
    },
    {
      "cell_type": "code",
      "source": [
        "input_channels = 1\n",
        "hidden_channels = 100"
      ],
      "metadata": {
        "id": "N7WAf_KOs-1O"
      },
      "execution_count": 4,
      "outputs": []
    },
    {
      "cell_type": "code",
      "source": [
        "class ConvEncoder(nn.Module):\n",
        "  #28*28 -> hidden -> hidden_out\n",
        "  def __init__(self, input_ch, hidden_ch, dropout_p=0.1):\n",
        "    super().__init__()\n",
        "    \n",
        "    self.conv1 = nn.Conv2d(input_ch, hidden_ch, kernel_size=5, padding=2, stride=1) # 28x28\n",
        "    self.bn1 = nn.BatchNorm2d(hidden_ch)\n",
        "    self.do1 = nn.Dropout(dropout_p)\n",
        "    self.pool1 = nn.MaxPool2d(2, 2) # 14x14\n",
        "    self.conv2 = nn.Conv2d(hidden_ch, hidden_ch, kernel_size=3, padding=1, stride=1) # 14x14\n",
        "    self.bn2 = nn.BatchNorm2d(hidden_ch)\n",
        "    self.do2 = nn.Dropout(dropout_p)\n",
        "    self.pool2 = nn.MaxPool2d(2, 2) # 7x7\n",
        "    self.conv3 = nn.Conv2d(hidden_ch, 1, kernel_size=3, padding=1, stride=1) # 7x7\n",
        "\n",
        "\n",
        "    self.activ = nn.ReLU()\n",
        "\n",
        "  def forward(self, x):\n",
        "    x = self.pool1(self.do1(self.activ(self.bn1(self.conv1(x)))))\n",
        "    x = self.pool2(self.do2(self.activ(self.bn2(self.conv2(x)))))\n",
        "    x = self.conv3(x)\n",
        "\n",
        "    return x\n",
        "\n",
        "\n",
        "class ConvDecoder(nn.Module):\n",
        "  #hidden_out-> hidden -> 28*28 \n",
        "  def __init__(self, input_ch, hidden_ch, dropout_p=0.1):\n",
        "    super().__init__()\n",
        "    \n",
        "    self.conv1 = nn.Conv2d(1, hidden_ch, kernel_size=3, padding=1, stride=1) # 7x7\n",
        "    self.bn1 = nn.BatchNorm2d(hidden_ch)\n",
        "    self.do1 = nn.Dropout(dropout_p)\n",
        "    self.upsample1 = nn.UpsamplingNearest2d(scale_factor=2) # 14x14\n",
        "    self.conv2 = nn.Conv2d(hidden_ch, hidden_ch, kernel_size=3, padding=1, stride=1) # 14x14\n",
        "    self.bn2 = nn.BatchNorm2d(hidden_ch)\n",
        "    self.do2 = nn.Dropout(dropout_p)\n",
        "    self.upsample2 = nn.UpsamplingNearest2d(scale_factor=2) # 28x28\n",
        "    self.conv3 = nn.Conv2d(hidden_ch, input_ch, kernel_size=5, padding=2, stride=1) # 28x28\n",
        "    \n",
        "    self.activ = nn.ReLU()\n",
        "  \n",
        "  def forward(self, x):\n",
        "    x = self.upsample1(self.do1(self.activ(self.bn1(self.conv1(x)))))\n",
        "    x = self.upsample2(self.do2(self.activ(self.bn2(self.conv2(x)))))\n",
        "    x = self.conv3(x)\n",
        "\n",
        "    return x\n",
        "\n",
        "\n",
        "\n",
        "class ConvAutoEncoder(nn.Module):\n",
        "  def __init__(self, input_ch, hidden_ch, ):\n",
        "    super().__init__()\n",
        "    self.encoder = ConvEncoder(input_ch, hidden_ch, )\n",
        "    self.decoder = ConvDecoder(input_ch, hidden_ch, )\n",
        "\n",
        "  def forward(self, x):\n",
        "    hidden = self.encoder(x)\n",
        "    x_ = self.decoder(hidden)\n",
        "\n",
        "    return x_"
      ],
      "metadata": {
        "id": "ugE0Cc0bs-3l"
      },
      "execution_count": 5,
      "outputs": []
    },
    {
      "cell_type": "code",
      "source": [
        "model = ConvAutoEncoder(input_channels, hidden_channels).to(device)\n",
        "optim = torch.optim.Adam(model.parameters())\n",
        "loss_func = nn.MSELoss()"
      ],
      "metadata": {
        "id": "9AarX0nJs-6D"
      },
      "execution_count": 6,
      "outputs": []
    },
    {
      "cell_type": "code",
      "source": [
        "for epoch in range(n_epochs):\n",
        "    for i, batch in enumerate(trainloader):\n",
        "        inputs, labels = batch\n",
        "        optim.zero_grad()\n",
        "\n",
        "        predict = model(inputs.to(device))\n",
        "        #print(predict)\n",
        "        loss = loss_func(inputs.to(device), predict)\n",
        "        loss.backward()\n",
        "        optim.step()\n",
        "        if i % 200 == 0:\n",
        "            print(f'epoch: {epoch}, step: {i}, loss: {loss.item()}')\n",
        "    item = dataset_test[778][0].unsqueeze(0).to(device).float()\n",
        "    plt.imshow(dataset_test[778][0].squeeze().detach().numpy())\n",
        "    plt.show()\n",
        "    plt.imshow(model(item).squeeze().squeeze().cpu().detach().numpy())\n",
        "    plt.show()\n",
        "    torch.save(model.state_dict(), f'./conv_ae_chkpt_{epoch}.pth')"
      ],
      "metadata": {
        "colab": {
          "base_uri": "https://localhost:8080/",
          "height": 1000
        },
        "id": "7QXtQyev2bLY",
        "outputId": "09b1532d-6a81-4cb9-a308-3c5cfafb9341"
      },
      "execution_count": 7,
      "outputs": [
        {
          "output_type": "stream",
          "name": "stdout",
          "text": [
            "epoch: 0, step: 0, loss: 1.0571024417877197\n",
            "epoch: 0, step: 200, loss: 0.0723801925778389\n",
            "epoch: 0, step: 400, loss: 0.06333643198013306\n"
          ]
        },
        {
          "output_type": "display_data",
          "data": {
            "text/plain": [
              "<Figure size 432x288 with 1 Axes>"
            ],
            "image/png": "[encoded data removed]"
          },
          "metadata": {
            "needs_background": "light"
          }
        },
        {
          "output_type": "display_data",
          "data": {
            "text/plain": [
              "<Figure size 432x288 with 1 Axes>"
            ],
            "image/png": "[encoded data removed]"
          },
          "metadata": {
            "needs_background": "light"
          }
        },
        {
          "output_type": "stream",
          "name": "stdout",
          "text": [
            "epoch: 1, step: 0, loss: 0.054158374667167664\n",
            "epoch: 1, step: 200, loss: 0.05452590063214302\n",
            "epoch: 1, step: 400, loss: 0.047511402517557144\n"
          ]
        },
        {
          "output_type": "display_data",
          "data": {
            "text/plain": [
              "<Figure size 432x288 with 1 Axes>"
            ],
            "image/png": "[encoded data removed]"
          },
          "metadata": {
            "needs_background": "light"
          }
        },
        {
          "output_type": "display_data",
          "data": {
            "text/plain": [
              "<Figure size 432x288 with 1 Axes>"
            ],
            "image/png": "[encoded data removed]"
          },
          "metadata": {
            "needs_background": "light"
          }
        },
        {
          "output_type": "stream",
          "name": "stdout",
          "text": [
            "epoch: 2, step: 0, loss: 0.047149658203125\n",
            "epoch: 2, step: 200, loss: 0.0436587817966938\n",
            "epoch: 2, step: 400, loss: 0.03690348565578461\n"
          ]
        },
        {
          "output_type": "display_data",
          "data": {
            "text/plain": [
              "<Figure size 432x288 with 1 Axes>"
            ],
            "image/png": "[encoded data removed]"
          },
          "metadata": {
            "needs_background": "light"
          }
        },
        {
          "output_type": "display_data",
          "data": {
            "text/plain": [
              "<Figure size 432x288 with 1 Axes>"
            ],
            "image/png": "[encoded data removed]"
          },
          "metadata": {
            "needs_background": "light"
          }
        },
        {
          "output_type": "stream",
          "name": "stdout",
          "text": [
            "epoch: 3, step: 0, loss: 0.03944091126322746\n",
            "epoch: 3, step: 200, loss: 0.04143829643726349\n",
            "epoch: 3, step: 400, loss: 0.03558823838829994\n"
          ]
        },
        {
          "output_type": "display_data",
          "data": {
            "text/plain": [
              "<Figure size 432x288 with 1 Axes>"
            ],
            "image/png": "[encoded data removed]"
          },
          "metadata": {
            "needs_background": "light"
          }
        },
        {
          "output_type": "display_data",
          "data": {
            "text/plain": [
              "<Figure size 432x288 with 1 Axes>"
            ],
            "image/png": "[encoded data removed]"
          },
          "metadata": {
            "needs_background": "light"
          }
        },
        {
          "output_type": "stream",
          "name": "stdout",
          "text": [
            "epoch: 4, step: 0, loss: 0.040025170892477036\n",
            "epoch: 4, step: 200, loss: 0.03614303097128868\n",
            "epoch: 4, step: 400, loss: 0.03453809395432472\n"
          ]
        },
        {
          "output_type": "display_data",
          "data": {
            "text/plain": [
              "<Figure size 432x288 with 1 Axes>"
            ],
            "image/png": "[encoded data removed]"
          },
          "metadata": {
            "needs_background": "light"
          }
        },
        {
          "output_type": "display_data",
          "data": {
            "text/plain": [
              "<Figure size 432x288 with 1 Axes>"
            ],
            "image/png": "[encoded data removed]"
          },
          "metadata": {
            "needs_background": "light"
          }
        },
        {
          "output_type": "stream",
          "name": "stdout",
          "text": [
            "epoch: 5, step: 0, loss: 0.034953728318214417\n",
            "epoch: 5, step: 200, loss: 0.03424721956253052\n",
            "epoch: 5, step: 400, loss: 0.03607615455985069\n"
          ]
        },
        {
          "output_type": "display_data",
          "data": {
            "text/plain": [
              "<Figure size 432x288 with 1 Axes>"
            ],
            "image/png": "[encoded data removed]"
          },
          "metadata": {
            "needs_background": "light"
          }
        },
        {
          "output_type": "display_data",
          "data": {
            "text/plain": [
              "<Figure size 432x288 with 1 Axes>"
            ],
            "image/png": "[encoded data removed]"
          },
          "metadata": {
            "needs_background": "light"
          }
        },
        {
          "output_type": "stream",
          "name": "stdout",
          "text": [
            "epoch: 6, step: 0, loss: 0.03511570394039154\n",
            "epoch: 6, step: 200, loss: 0.03244050219655037\n",
            "epoch: 6, step: 400, loss: 0.032582979649305344\n"
          ]
        },
        {
          "output_type": "display_data",
          "data": {
            "text/plain": [
              "<Figure size 432x288 with 1 Axes>"
            ],
            "image/png": "[encoded data removed]"
          },
          "metadata": {
            "needs_background": "light"
          }
        },
        {
          "output_type": "display_data",
          "data": {
            "text/plain": [
              "<Figure size 432x288 with 1 Axes>"
            ],
            "image/png": "[encoded data removed]"
          },
          "metadata": {
            "needs_background": "light"
          }
        },
        {
          "output_type": "stream",
          "name": "stdout",
          "text": [
            "epoch: 7, step: 0, loss: 0.030689671635627747\n",
            "epoch: 7, step: 200, loss: 0.0299969632178545\n",
            "epoch: 7, step: 400, loss: 0.02880961447954178\n"
          ]
        },
        {
          "output_type": "display_data",
          "data": {
            "text/plain": [
              "<Figure size 432x288 with 1 Axes>"
            ],
            "image/png": "[encoded data removed]"
          },
          "metadata": {
            "needs_background": "light"
          }
        },
        {
          "output_type": "display_data",
          "data": {
            "text/plain": [
              "<Figure size 432x288 with 1 Axes>"
            ],
            "image/png": "[encoded data removed]"
          },
          "metadata": {
            "needs_background": "light"
          }
        },
        {
          "output_type": "stream",
          "name": "stdout",
          "text": [
            "epoch: 8, step: 0, loss: 0.030015597119927406\n",
            "epoch: 8, step: 200, loss: 0.029278457164764404\n",
            "epoch: 8, step: 400, loss: 0.029731418937444687\n"
          ]
        },
        {
          "output_type": "display_data",
          "data": {
            "text/plain": [
              "<Figure size 432x288 with 1 Axes>"
            ],
            "image/png": "[encoded data removed]"
          },
          "metadata": {
            "needs_background": "light"
          }
        },
        {
          "output_type": "display_data",
          "data": {
            "text/plain": [
              "<Figure size 432x288 with 1 Axes>"
            ],
            "image/png": "[encoded data removed]"
          },
          "metadata": {
            "needs_background": "light"
          }
        },
        {
          "output_type": "stream",
          "name": "stdout",
          "text": [
            "epoch: 9, step: 0, loss: 0.031831447035074234\n",
            "epoch: 9, step: 200, loss: 0.029190130531787872\n",
            "epoch: 9, step: 400, loss: 0.028643233701586723\n"
          ]
        },
        {
          "output_type": "display_data",
          "data": {
            "text/plain": [
              "<Figure size 432x288 with 1 Axes>"
            ],
            "image/png": "[encoded data removed]"
          },
          "metadata": {
            "needs_background": "light"
          }
        },
        {
          "output_type": "display_data",
          "data": {
            "text/plain": [
              "<Figure size 432x288 with 1 Axes>"
            ],
            "image/png": "[encoded data removed]"
          },
          "metadata": {
            "needs_background": "light"
          }
        }
      ]
    },
    {
      "cell_type": "code",
      "source": [
        "#Попробуем применить различные способы инициализации весов"
      ],
      "metadata": {
        "id": "S0RV7PTys-8h"
      },
      "execution_count": 1,
      "outputs": []
    },
    {
      "cell_type": "code",
      "source": [
        "class ConvEncoder(nn.Module):\n",
        "  #28*28 -> hidden -> hidden_out\n",
        "  def __init__(self, input_ch, hidden_ch, dropout_p=0.1):\n",
        "    super().__init__()\n",
        "    \n",
        "    self.conv1 = nn.Conv2d(input_ch, hidden_ch, kernel_size=5, padding=2, stride=1) # 28x28\n",
        "    #nn.init.xavier_normal_(self.conv1.weight)\n",
        "    nn.init.kaiming_normal_(self.conv1.weight)\n",
        "    self.bn1 = nn.BatchNorm2d(hidden_ch)\n",
        "    self.do1 = nn.Dropout(dropout_p)\n",
        "    self.pool1 = nn.MaxPool2d(2, 2) # 14x14\n",
        "    self.conv2 = nn.Conv2d(hidden_ch, hidden_ch, kernel_size=3, padding=1, stride=1) # 14x14\n",
        "    #nn.init.xavier_normal_(self.conv2.weight)\n",
        "    nn.init.kaiming_normal_(self.conv2.weight)\n",
        "    self.bn2 = nn.BatchNorm2d(hidden_ch)\n",
        "    self.do2 = nn.Dropout(dropout_p)\n",
        "    self.pool2 = nn.MaxPool2d(2, 2) # 7x7\n",
        "    self.conv3 = nn.Conv2d(hidden_ch, 1, kernel_size=3, padding=1, stride=1) # 7x7\n",
        "\n",
        "\n",
        "    #self.activ = nn.Sigmoid()\n",
        "    self.activ = nn.ReLU()\n",
        "\n",
        "  def forward(self, x):\n",
        "    x = self.pool1(self.do1(self.activ(self.bn1(self.conv1(x)))))\n",
        "    x = self.pool2(self.do2(self.activ(self.bn2(self.conv2(x)))))\n",
        "    x = self.conv3(x)\n",
        "\n",
        "    return x\n",
        "\n",
        "\n",
        "class ConvDecoder(nn.Module):\n",
        "  #hidden_out-> hidden -> 28*28 \n",
        "  def __init__(self, input_ch, hidden_ch, dropout_p=0.1):\n",
        "    super().__init__()\n",
        "    \n",
        "    self.conv1 = nn.Conv2d(1, hidden_ch, kernel_size=3, padding=1, stride=1) # 7x7\n",
        "    #nn.init.xavier_normal_(self.conv1.weight)\n",
        "    nn.init.kaiming_normal_(self.conv1.weight)\n",
        "    self.bn1 = nn.BatchNorm2d(hidden_ch)\n",
        "    self.do1 = nn.Dropout(dropout_p)\n",
        "    self.upsample1 = nn.UpsamplingNearest2d(scale_factor=2) # 14x14\n",
        "    self.conv2 = nn.Conv2d(hidden_ch, hidden_ch, kernel_size=3, padding=1, stride=1) # 14x14\n",
        "    #nn.init.xavier_normal_(self.conv2.weight)\n",
        "    nn.init.kaiming_normal_(self.conv2.weight)\n",
        "    self.bn2 = nn.BatchNorm2d(hidden_ch)\n",
        "    self.do2 = nn.Dropout(dropout_p)\n",
        "    self.upsample2 = nn.UpsamplingNearest2d(scale_factor=2) # 28x28\n",
        "    self.conv3 = nn.Conv2d(hidden_ch, input_ch, kernel_size=5, padding=2, stride=1) # 28x28\n",
        "    \n",
        "    #self.activ = nn.Sigmoid()\n",
        "    self.activ = nn.ReLU()\n",
        "  \n",
        "  def forward(self, x):\n",
        "    x = self.upsample1(self.do1(self.activ(self.bn1(self.conv1(x)))))\n",
        "    x = self.upsample2(self.do2(self.activ(self.bn2(self.conv2(x)))))\n",
        "    x = self.conv3(x)\n",
        "\n",
        "    return x\n",
        "\n",
        "\n",
        "\n",
        "class ConvAutoEncoder(nn.Module):\n",
        "  def __init__(self, input_ch, hidden_ch, ):\n",
        "    super().__init__()\n",
        "    self.encoder = ConvEncoder(input_ch, hidden_ch, )\n",
        "    self.decoder = ConvDecoder(input_ch, hidden_ch, )\n",
        "\n",
        "  def forward(self, x):\n",
        "    hidden = self.encoder(x)\n",
        "    x_ = self.decoder(hidden)\n",
        "\n",
        "    return x_"
      ],
      "metadata": {
        "id": "EcPeXXs7s--2"
      },
      "execution_count": 8,
      "outputs": []
    },
    {
      "cell_type": "code",
      "source": [
        "model = ConvAutoEncoder(input_channels, hidden_channels).to(device)\n",
        "optim = torch.optim.Adam(model.parameters())\n",
        "loss_func = nn.MSELoss()"
      ],
      "metadata": {
        "id": "sKJrhyC_s_BP"
      },
      "execution_count": 9,
      "outputs": []
    },
    {
      "cell_type": "code",
      "source": [
        "for epoch in range(n_epochs):\n",
        "    for i, batch in enumerate(trainloader):\n",
        "        inputs, labels = batch\n",
        "        optim.zero_grad()\n",
        "\n",
        "        predict = model(inputs.to(device))\n",
        "        #print(predict)\n",
        "        loss = loss_func(inputs.to(device), predict)\n",
        "        loss.backward()\n",
        "        optim.step()\n",
        "        if i % 200 == 0:\n",
        "            print(f'epoch: {epoch}, step: {i}, loss: {loss.item()}')\n",
        "    item = dataset_test[778][0].unsqueeze(0).to(device).float()\n",
        "    plt.imshow(dataset_test[778][0].squeeze().detach().numpy())\n",
        "    plt.show()\n",
        "    plt.imshow(model(item).squeeze().squeeze().cpu().detach().numpy())\n",
        "    plt.show()\n",
        "    torch.save(model.state_dict(), f'./conv_ae_chkpt_{epoch}.pth')"
      ],
      "metadata": {
        "colab": {
          "base_uri": "https://localhost:8080/",
          "height": 1000
        },
        "id": "iz4Q4ZfJs_Dk",
        "outputId": "c67031b6-0e3b-4633-91c7-e27ddbbb76cf"
      },
      "execution_count": 10,
      "outputs": [
        {
          "output_type": "stream",
          "name": "stdout",
          "text": [
            "epoch: 0, step: 0, loss: 0.8090439438819885\n",
            "epoch: 0, step: 200, loss: 0.07048226147890091\n",
            "epoch: 0, step: 400, loss: 0.05864919349551201\n"
          ]
        },
        {
          "output_type": "display_data",
          "data": {
            "text/plain": [
              "<Figure size 432x288 with 1 Axes>"
            ],
            "image/png": "[encoded data removed]"
          },
          "metadata": {
            "needs_background": "light"
          }
        },
        {
          "output_type": "display_data",
          "data": {
            "text/plain": [
              "<Figure size 432x288 with 1 Axes>"
            ],
            "image/png": "[encoded data removed]"
          },
          "metadata": {
            "needs_background": "light"
          }
        },
        {
          "output_type": "stream",
          "name": "stdout",
          "text": [
            "epoch: 1, step: 0, loss: 0.062141042202711105\n",
            "epoch: 1, step: 200, loss: 0.056823719292879105\n",
            "epoch: 1, step: 400, loss: 0.04755270108580589\n"
          ]
        },
        {
          "output_type": "display_data",
          "data": {
            "text/plain": [
              "<Figure size 432x288 with 1 Axes>"
            ],
            "image/png": "[encoded data removed]"
          },
          "metadata": {
            "needs_background": "light"
          }
        },
        {
          "output_type": "display_data",
          "data": {
            "text/plain": [
              "<Figure size 432x288 with 1 Axes>"
            ],
            "image/png": "[encoded data removed]"
          },
          "metadata": {
            "needs_background": "light"
          }
        },
        {
          "output_type": "stream",
          "name": "stdout",
          "text": [
            "epoch: 2, step: 0, loss: 0.048889439553022385\n",
            "epoch: 2, step: 200, loss: 0.04538064822554588\n",
            "epoch: 2, step: 400, loss: 0.041585784405469894\n"
          ]
        },
        {
          "output_type": "display_data",
          "data": {
            "text/plain": [
              "<Figure size 432x288 with 1 Axes>"
            ],
            "image/png": "[encoded data removed]"
          },
          "metadata": {
            "needs_background": "light"
          }
        },
        {
          "output_type": "display_data",
          "data": {
            "text/plain": [
              "<Figure size 432x288 with 1 Axes>"
            ],
            "image/png": "[encoded data removed]"
          },
          "metadata": {
            "needs_background": "light"
          }
        },
        {
          "output_type": "stream",
          "name": "stdout",
          "text": [
            "epoch: 3, step: 0, loss: 0.04412548616528511\n",
            "epoch: 3, step: 200, loss: 0.04108281806111336\n",
            "epoch: 3, step: 400, loss: 0.04115305095911026\n"
          ]
        },
        {
          "output_type": "display_data",
          "data": {
            "text/plain": [
              "<Figure size 432x288 with 1 Axes>"
            ],
            "image/png": "[encoded data removed]"
          },
          "metadata": {
            "needs_background": "light"
          }
        },
        {
          "output_type": "display_data",
          "data": {
            "text/plain": [
              "<Figure size 432x288 with 1 Axes>"
            ],
            "image/png": "[encoded data removed]"
          },
          "metadata": {
            "needs_background": "light"
          }
        },
        {
          "output_type": "stream",
          "name": "stdout",
          "text": [
            "epoch: 4, step: 0, loss: 0.039719898253679276\n",
            "epoch: 4, step: 200, loss: 0.038009461015462875\n",
            "epoch: 4, step: 400, loss: 0.036881402134895325\n"
          ]
        },
        {
          "output_type": "display_data",
          "data": {
            "text/plain": [
              "<Figure size 432x288 with 1 Axes>"
            ],
            "image/png": "[encoded data removed]"
          },
          "metadata": {
            "needs_background": "light"
          }
        },
        {
          "output_type": "display_data",
          "data": {
            "text/plain": [
              "<Figure size 432x288 with 1 Axes>"
            ],
            "image/png": "[encoded data removed]"
          },
          "metadata": {
            "needs_background": "light"
          }
        },
        {
          "output_type": "stream",
          "name": "stdout",
          "text": [
            "epoch: 5, step: 0, loss: 0.036590009927749634\n",
            "epoch: 5, step: 200, loss: 0.03798514977097511\n",
            "epoch: 5, step: 400, loss: 0.034521300345659256\n"
          ]
        },
        {
          "output_type": "display_data",
          "data": {
            "text/plain": [
              "<Figure size 432x288 with 1 Axes>"
            ],
            "image/png": "[encoded data removed]"
          },
          "metadata": {
            "needs_background": "light"
          }
        },
        {
          "output_type": "display_data",
          "data": {
            "text/plain": [
              "<Figure size 432x288 with 1 Axes>"
            ],
            "image/png": "[encoded data removed]"
          },
          "metadata": {
            "needs_background": "light"
          }
        },
        {
          "output_type": "stream",
          "name": "stdout",
          "text": [
            "epoch: 6, step: 0, loss: 0.03455450385808945\n",
            "epoch: 6, step: 200, loss: 0.03384678065776825\n",
            "epoch: 6, step: 400, loss: 0.032468777149915695\n"
          ]
        },
        {
          "output_type": "display_data",
          "data": {
            "text/plain": [
              "<Figure size 432x288 with 1 Axes>"
            ],
            "image/png": "[encoded data removed]"
          },
          "metadata": {
            "needs_background": "light"
          }
        },
        {
          "output_type": "display_data",
          "data": {
            "text/plain": [
              "<Figure size 432x288 with 1 Axes>"
            ],
            "image/png": "[encoded data removed]"
          },
          "metadata": {
            "needs_background": "light"
          }
        },
        {
          "output_type": "stream",
          "name": "stdout",
          "text": [
            "epoch: 7, step: 0, loss: 0.030358530580997467\n",
            "epoch: 7, step: 200, loss: 0.03181738033890724\n",
            "epoch: 7, step: 400, loss: 0.03240632638335228\n"
          ]
        },
        {
          "output_type": "display_data",
          "data": {
            "text/plain": [
              "<Figure size 432x288 with 1 Axes>"
            ],
            "image/png": "[encoded data removed]"
          },
          "metadata": {
            "needs_background": "light"
          }
        },
        {
          "output_type": "display_data",
          "data": {
            "text/plain": [
              "<Figure size 432x288 with 1 Axes>"
            ],
            "image/png": "[encoded data removed]"
          },
          "metadata": {
            "needs_background": "light"
          }
        },
        {
          "output_type": "stream",
          "name": "stdout",
          "text": [
            "epoch: 8, step: 0, loss: 0.029721474274992943\n",
            "epoch: 8, step: 200, loss: 0.03282974287867546\n",
            "epoch: 8, step: 400, loss: 0.03335210308432579\n"
          ]
        },
        {
          "output_type": "display_data",
          "data": {
            "text/plain": [
              "<Figure size 432x288 with 1 Axes>"
            ],
            "image/png": "[encoded data removed]"
          },
          "metadata": {
            "needs_background": "light"
          }
        },
        {
          "output_type": "display_data",
          "data": {
            "text/plain": [
              "<Figure size 432x288 with 1 Axes>"
            ],
            "image/png": "[encoded data removed]"
          },
          "metadata": {
            "needs_background": "light"
          }
        },
        {
          "output_type": "stream",
          "name": "stdout",
          "text": [
            "epoch: 9, step: 0, loss: 0.03376169875264168\n",
            "epoch: 9, step: 200, loss: 0.029952209442853928\n",
            "epoch: 9, step: 400, loss: 0.028840091079473495\n"
          ]
        },
        {
          "output_type": "display_data",
          "data": {
            "text/plain": [
              "<Figure size 432x288 with 1 Axes>"
            ],
            "image/png": "[encoded data removed]"
          },
          "metadata": {
            "needs_background": "light"
          }
        },
        {
          "output_type": "display_data",
          "data": {
            "text/plain": [
              "<Figure size 432x288 with 1 Axes>"
            ],
            "image/png": "[encoded data removed]"
          },
          "metadata": {
            "needs_background": "light"
          }
        }
      ]
    },
    {
      "cell_type": "code",
      "source": [
        "# Результат немного ухудшился\n",
        "# Теперь попробуем добавить еще один слой и используем метрику MAE"
      ],
      "metadata": {
        "id": "msi9yo_fs_GG"
      },
      "execution_count": 26,
      "outputs": []
    },
    {
      "cell_type": "code",
      "source": [
        "input_channels = 1\n",
        "hidden_channels = 64"
      ],
      "metadata": {
        "id": "yBj6mlgg_prq"
      },
      "execution_count": 11,
      "outputs": []
    },
    {
      "cell_type": "code",
      "source": [
        "class ConvEncoder(nn.Module):\n",
        "  #28*28 -> hidden -> hidden_out\n",
        "  def __init__(self, input_ch, hidden_ch, dropout_p=0.1):\n",
        "    super().__init__()\n",
        "    \n",
        "    self.conv1 = nn.Conv2d(input_ch, hidden_ch, kernel_size=5, padding=2, stride=1) # 28x28\n",
        "    self.bn1 = nn.BatchNorm2d(hidden_ch)\n",
        "    self.do1 = nn.Dropout(dropout_p)\n",
        "    self.pool1 = nn.MaxPool2d(2, 2) # 14x14\n",
        "    self.conv2 = nn.Conv2d(hidden_ch, hidden_ch, kernel_size=3, padding=1, stride=1) # 14x14\n",
        "    self.bn2 = nn.BatchNorm2d(hidden_ch)\n",
        "    self.do2 = nn.Dropout(dropout_p)\n",
        "    self.pool2 = nn.MaxPool2d(2, 2) # 7x7\n",
        "    self.conv3 = nn.Conv2d(hidden_ch, hidden_ch, kernel_size=3, padding=1, stride=1) # 7x7\n",
        "    self.bn3 = nn.BatchNorm2d(hidden_ch)\n",
        "    self.do3 = nn.Dropout(dropout_p)\n",
        "    self.conv4 = nn.Conv2d(hidden_ch, 1, kernel_size=3, padding=1, stride=1) # 7x7\n",
        "\n",
        "\n",
        "    self.activ = nn.ReLU()\n",
        "\n",
        "  def forward(self, x):\n",
        "    x = self.pool1(self.do1(self.activ(self.bn1(self.conv1(x)))))\n",
        "    x = self.pool2(self.do2(self.activ(self.bn2(self.conv2(x)))))\n",
        "    x= self.do3(self.activ(self.bn3(self.conv3(x))))\n",
        "    x = self.conv4(x)\n",
        "\n",
        "    return x\n",
        "\n",
        "\n",
        "class ConvDecoder(nn.Module):\n",
        "  #hidden_out-> hidden -> 28*28 \n",
        "  def __init__(self, input_ch, hidden_ch, dropout_p=0.1):\n",
        "    super().__init__()\n",
        "    \n",
        "    self.conv1 = nn.Conv2d(1, hidden_ch, kernel_size=3, padding=1, stride=1) # 7x7\n",
        "    self.bn1 = nn.BatchNorm2d(hidden_ch)\n",
        "    self.do1 = nn.Dropout(dropout_p)\n",
        "    self.upsample1 = nn.UpsamplingNearest2d(scale_factor=2) # 14x14\n",
        "    self.conv2 = nn.Conv2d(hidden_ch, hidden_ch, kernel_size=3, padding=1, stride=1) # 14x14\n",
        "    self.bn2 = nn.BatchNorm2d(hidden_ch)\n",
        "    self.do2 = nn.Dropout(dropout_p)\n",
        "    self.upsample2 = nn.UpsamplingNearest2d(scale_factor=2) # 28x28\n",
        "    self.conv3 = nn.Conv2d(hidden_ch, hidden_ch, kernel_size=3, padding=1, stride=1) # 7x7\n",
        "    self.bn3 = nn.BatchNorm2d(hidden_ch)\n",
        "    self.do3 = nn.Dropout(dropout_p)\n",
        "    self.conv4 = nn.Conv2d(hidden_ch, input_ch, kernel_size=5, padding=2, stride=1) # 28x28\n",
        "    \n",
        "    self.activ = nn.ReLU()\n",
        "  \n",
        "  def forward(self, x):\n",
        "    x = self.upsample1(self.do1(self.activ(self.bn1(self.conv1(x)))))\n",
        "    x = self.upsample2(self.do2(self.activ(self.bn2(self.conv2(x)))))\n",
        "    x = self.do3(self.activ(self.bn3(self.conv3(x))))\n",
        "    x = self.conv4(x)\n",
        "\n",
        "    return x\n",
        "\n",
        "\n",
        "\n",
        "class ConvAutoEncoder(nn.Module):\n",
        "  def __init__(self, input_ch, hidden_ch, ):\n",
        "    super().__init__()\n",
        "    self.encoder = ConvEncoder(input_ch, hidden_ch, )\n",
        "    self.decoder = ConvDecoder(input_ch, hidden_ch, )\n",
        "\n",
        "  def forward(self, x):\n",
        "    hidden = self.encoder(x)\n",
        "    x_ = self.decoder(hidden)\n",
        "\n",
        "    return x_"
      ],
      "metadata": {
        "id": "GxRJRUH1s_If"
      },
      "execution_count": 12,
      "outputs": []
    },
    {
      "cell_type": "code",
      "source": [
        "model = ConvAutoEncoder(input_channels, hidden_channels).to(device)\n",
        "optim = torch.optim.Adam(model.parameters())\n",
        "#loss_func = nn.L1Loss()\n",
        "loss_func = nn.MSELoss() "
      ],
      "metadata": {
        "id": "F-epOhgts_K-"
      },
      "execution_count": 13,
      "outputs": []
    },
    {
      "cell_type": "code",
      "source": [
        "for epoch in range(n_epochs):\n",
        "    for i, batch in enumerate(trainloader):\n",
        "        inputs, labels = batch\n",
        "        optim.zero_grad()\n",
        "\n",
        "        predict = model(inputs.to(device))\n",
        "        #print(predict)\n",
        "        loss = loss_func(inputs.to(device), predict)\n",
        "        loss.backward()\n",
        "        optim.step()\n",
        "        if i % 200 == 0:\n",
        "            print(f'epoch: {epoch}, step: {i}, loss: {loss.item()}')\n",
        "    item = dataset_test[778][0].unsqueeze(0).to(device).float()\n",
        "    plt.imshow(dataset_test[778][0].squeeze().detach().numpy())\n",
        "    plt.show()\n",
        "    plt.imshow(model(item).squeeze().squeeze().cpu().detach().numpy())\n",
        "    plt.show()\n",
        "    torch.save(model.state_dict(), f'./conv_ae_chkpt_{epoch}.pth')"
      ],
      "metadata": {
        "colab": {
          "base_uri": "https://localhost:8080/",
          "height": 1000
        },
        "id": "E-qvFdr_s_NM",
        "outputId": "f2b0bbe5-234a-40cd-c27b-7e44d6a11f80"
      },
      "execution_count": 14,
      "outputs": [
        {
          "output_type": "stream",
          "name": "stdout",
          "text": [
            "epoch: 0, step: 0, loss: 0.899173378944397\n",
            "epoch: 0, step: 200, loss: 0.0594421848654747\n",
            "epoch: 0, step: 400, loss: 0.04870162531733513\n"
          ]
        },
        {
          "output_type": "display_data",
          "data": {
            "text/plain": [
              "<Figure size 432x288 with 1 Axes>"
            ],
            "image/png": "[encoded data removed]"
          },
          "metadata": {
            "needs_background": "light"
          }
        },
        {
          "output_type": "display_data",
          "data": {
            "text/plain": [
              "<Figure size 432x288 with 1 Axes>"
            ],
            "image/png": "[encoded data removed]"
          },
          "metadata": {
            "needs_background": "light"
          }
        },
        {
          "output_type": "stream",
          "name": "stdout",
          "text": [
            "epoch: 1, step: 0, loss: 0.04152459278702736\n",
            "epoch: 1, step: 200, loss: 0.03907465189695358\n",
            "epoch: 1, step: 400, loss: 0.035036809742450714\n"
          ]
        },
        {
          "output_type": "display_data",
          "data": {
            "text/plain": [
              "<Figure size 432x288 with 1 Axes>"
            ],
            "image/png": "[encoded data removed]"
          },
          "metadata": {
            "needs_background": "light"
          }
        },
        {
          "output_type": "display_data",
          "data": {
            "text/plain": [
              "<Figure size 432x288 with 1 Axes>"
            ],
            "image/png": "[encoded data removed]"
          },
          "metadata": {
            "needs_background": "light"
          }
        },
        {
          "output_type": "stream",
          "name": "stdout",
          "text": [
            "epoch: 2, step: 0, loss: 0.036138493567705154\n",
            "epoch: 2, step: 200, loss: 0.03517744317650795\n",
            "epoch: 2, step: 400, loss: 0.02978963777422905\n"
          ]
        },
        {
          "output_type": "display_data",
          "data": {
            "text/plain": [
              "<Figure size 432x288 with 1 Axes>"
            ],
            "image/png": "[encoded data removed]"
          },
          "metadata": {
            "needs_background": "light"
          }
        },
        {
          "output_type": "display_data",
          "data": {
            "text/plain": [
              "<Figure size 432x288 with 1 Axes>"
            ],
            "image/png": "[encoded data removed]"
          },
          "metadata": {
            "needs_background": "light"
          }
        },
        {
          "output_type": "stream",
          "name": "stdout",
          "text": [
            "epoch: 3, step: 0, loss: 0.033994898200035095\n",
            "epoch: 3, step: 200, loss: 0.028601285070180893\n",
            "epoch: 3, step: 400, loss: 0.028372859582304955\n"
          ]
        },
        {
          "output_type": "display_data",
          "data": {
            "text/plain": [
              "<Figure size 432x288 with 1 Axes>"
            ],
            "image/png": "[encoded data removed]"
          },
          "metadata": {
            "needs_background": "light"
          }
        },
        {
          "output_type": "display_data",
          "data": {
            "text/plain": [
              "<Figure size 432x288 with 1 Axes>"
            ],
            "image/png": "[encoded data removed]"
          },
          "metadata": {
            "needs_background": "light"
          }
        },
        {
          "output_type": "stream",
          "name": "stdout",
          "text": [
            "epoch: 4, step: 0, loss: 0.026645010337233543\n",
            "epoch: 4, step: 200, loss: 0.028976108878850937\n",
            "epoch: 4, step: 400, loss: 0.029263712465763092\n"
          ]
        },
        {
          "output_type": "display_data",
          "data": {
            "text/plain": [
              "<Figure size 432x288 with 1 Axes>"
            ],
            "image/png": "[encoded data removed]"
          },
          "metadata": {
            "needs_background": "light"
          }
        },
        {
          "output_type": "display_data",
          "data": {
            "text/plain": [
              "<Figure size 432x288 with 1 Axes>"
            ],
            "image/png": "[encoded data removed]"
          },
          "metadata": {
            "needs_background": "light"
          }
        },
        {
          "output_type": "stream",
          "name": "stdout",
          "text": [
            "epoch: 5, step: 0, loss: 0.026058275252580643\n",
            "epoch: 5, step: 200, loss: 0.02615675888955593\n",
            "epoch: 5, step: 400, loss: 0.02674183063209057\n"
          ]
        },
        {
          "output_type": "display_data",
          "data": {
            "text/plain": [
              "<Figure size 432x288 with 1 Axes>"
            ],
            "image/png": "[encoded data removed]"
          },
          "metadata": {
            "needs_background": "light"
          }
        },
        {
          "output_type": "display_data",
          "data": {
            "text/plain": [
              "<Figure size 432x288 with 1 Axes>"
            ],
            "image/png": "[encoded data removed]"
          },
          "metadata": {
            "needs_background": "light"
          }
        },
        {
          "output_type": "stream",
          "name": "stdout",
          "text": [
            "epoch: 6, step: 0, loss: 0.025140419602394104\n",
            "epoch: 6, step: 200, loss: 0.024358481168746948\n",
            "epoch: 6, step: 400, loss: 0.022627372294664383\n"
          ]
        },
        {
          "output_type": "display_data",
          "data": {
            "text/plain": [
              "<Figure size 432x288 with 1 Axes>"
            ],
            "image/png": "[encoded data removed]"
          },
          "metadata": {
            "needs_background": "light"
          }
        },
        {
          "output_type": "display_data",
          "data": {
            "text/plain": [
              "<Figure size 432x288 with 1 Axes>"
            ],
            "image/png": "[encoded data removed]"
          },
          "metadata": {
            "needs_background": "light"
          }
        },
        {
          "output_type": "stream",
          "name": "stdout",
          "text": [
            "epoch: 7, step: 0, loss: 0.029035640880465508\n",
            "epoch: 7, step: 200, loss: 0.023720022290945053\n",
            "epoch: 7, step: 400, loss: 0.021210022270679474\n"
          ]
        },
        {
          "output_type": "display_data",
          "data": {
            "text/plain": [
              "<Figure size 432x288 with 1 Axes>"
            ],
            "image/png": "[encoded data removed]"
          },
          "metadata": {
            "needs_background": "light"
          }
        },
        {
          "output_type": "display_data",
          "data": {
            "text/plain": [
              "<Figure size 432x288 with 1 Axes>"
            ],
            "image/png": "[encoded data removed]"
          },
          "metadata": {
            "needs_background": "light"
          }
        },
        {
          "output_type": "stream",
          "name": "stdout",
          "text": [
            "epoch: 8, step: 0, loss: 0.029583502560853958\n",
            "epoch: 8, step: 200, loss: 0.022330792620778084\n",
            "epoch: 8, step: 400, loss: 0.02433229237794876\n"
          ]
        },
        {
          "output_type": "display_data",
          "data": {
            "text/plain": [
              "<Figure size 432x288 with 1 Axes>"
            ],
            "image/png": "[encoded data removed]"
          },
          "metadata": {
            "needs_background": "light"
          }
        },
        {
          "output_type": "display_data",
          "data": {
            "text/plain": [
              "<Figure size 432x288 with 1 Axes>"
            ],
            "image/png": "[encoded data removed]"
          },
          "metadata": {
            "needs_background": "light"
          }
        },
        {
          "output_type": "stream",
          "name": "stdout",
          "text": [
            "epoch: 9, step: 0, loss: 0.021722542122006416\n",
            "epoch: 9, step: 200, loss: 0.02029142715036869\n",
            "epoch: 9, step: 400, loss: 0.020636431872844696\n"
          ]
        },
        {
          "output_type": "display_data",
          "data": {
            "text/plain": [
              "<Figure size 432x288 with 1 Axes>"
            ],
            "image/png": "[encoded data removed]"
          },
          "metadata": {
            "needs_background": "light"
          }
        },
        {
          "output_type": "display_data",
          "data": {
            "text/plain": [
              "<Figure size 432x288 with 1 Axes>"
            ],
            "image/png": "[encoded data removed]"
          },
          "metadata": {
            "needs_background": "light"
          }
        }
      ]
    },
    {
      "cell_type": "code",
      "source": [
        "#VAE"
      ],
      "metadata": {
        "id": "U16OygGWnTk_"
      },
      "execution_count": 1,
      "outputs": []
    },
    {
      "cell_type": "code",
      "source": [
        "class ConvVAEncoder(nn.Module):\n",
        "  #28*28 -> hidden -> hidden_out\n",
        "  def __init__(self, input_ch, hidden_ch, dropout_p=0.1):\n",
        "    super().__init__()\n",
        "    self.conv1 = nn.Conv2d(input_ch, hidden_ch, kernel_size=5, padding=2, stride=1) # 28x28\n",
        "    self.bn1 = nn.BatchNorm2d(hidden_ch)\n",
        "    self.do1 = nn.Dropout(dropout_p)\n",
        "    self.pool1 = nn.MaxPool2d(2, 2) # 14x14\n",
        "    self.conv2 = nn.Conv2d(hidden_ch, hidden_ch, kernel_size=3, padding=1, stride=1) # 14x14\n",
        "    self.bn2 = nn.BatchNorm2d(hidden_ch)\n",
        "    self.do2 = nn.Dropout(dropout_p)\n",
        "    self.pool2 = nn.MaxPool2d(2, 2) # 7x7\n",
        "    self.conv3_mu = nn.Conv2d(hidden_ch, 1, kernel_size=3, stride=1, padding=1) # 7x7\n",
        "    self.conv3_sigma = nn.Conv2d(hidden_ch, 1, kernel_size=3, stride=1, padding=1) # 7x7\n",
        "    self.activ = nn.ReLU()\n",
        "\n",
        "  def forward(self, x):\n",
        "    x = self.pool1(self.do1(self.activ(self.bn1(self.conv1(x)))))\n",
        "    x = self.pool2(self.do2(self.activ(self.bn2(self.conv2(x)))))\n",
        "    mu = self.conv3_mu(x)\n",
        "    sigma = torch.exp(self.conv3_sigma(x))\n",
        "\n",
        "    return mu, sigma\n",
        "\n",
        "class ConvDecoder(nn.Module):\n",
        "\n",
        "  def __init__(self, input_ch, hidden_ch, dropout_p=0.1):\n",
        "    super().__init__()\n",
        "    self.conv1 = nn.Conv2d(1, hidden_ch, kernel_size=3, padding=1, stride=1) # 7x7\n",
        "    self.bn1 = nn.BatchNorm2d(hidden_ch)\n",
        "    self.do1 = nn.Dropout(dropout_p)\n",
        "    self.upsample1 = nn.UpsamplingNearest2d(scale_factor=2) # 14x14\n",
        "    self.conv2 = nn.Conv2d(hidden_ch, hidden_ch, kernel_size=3, padding=1, stride=1) # 14x14\n",
        "    self.bn2 = nn.BatchNorm2d(hidden_ch)\n",
        "    self.do2 = nn.Dropout(dropout_p)\n",
        "    self.upsample2 = nn.UpsamplingNearest2d(scale_factor=2) # 28x28\n",
        "    self.conv3 = nn.Conv2d(hidden_ch, input_ch, kernel_size=5, padding=2, stride=1) # 28x28\n",
        "    \n",
        "    self.activ = nn.ReLU()\n",
        "  \n",
        "  def forward(self, x):\n",
        "    x = self.upsample1(self.do1(self.activ(self.bn1(self.conv1(x)))))\n",
        "    x = self.upsample2(self.do2(self.activ(self.bn2(self.conv2(x)))))\n",
        "    x = self.conv3(x)\n",
        "\n",
        "    return x\n",
        "\n",
        "def sampling(mu, sigma):\n",
        "    return torch.normal(torch.zeros_like(mu), torch.ones_like(mu)) * sigma + mu\n",
        "\n",
        "class ConvVAE(nn.Module):\n",
        "  def __init__(self, input_ch, hidden_ch, ):\n",
        "    super().__init__()\n",
        "    self.encoder = ConvVAEncoder(input_ch, hidden_ch, )\n",
        "    self.decoder = ConvDecoder(input_ch, hidden_ch, )\n",
        "\n",
        "  def forward(self, x):\n",
        "    mu, sigma = self.encoder(x)\n",
        "    hidden = sampling(mu, sigma)\n",
        "    x_ = self.decoder(hidden)\n",
        "\n",
        "\n",
        "    return x_, mu, sigma"
      ],
      "metadata": {
        "id": "zbGoE67AnW7l"
      },
      "execution_count": 28,
      "outputs": []
    },
    {
      "cell_type": "code",
      "source": [
        "def kl_loss(mu, sigma):\n",
        "    p = torch.distributions.Normal(mu, sigma)\n",
        "    q = torch.distributions.Normal(torch.zeros_like(mu), torch.ones_like(mu))\n",
        "    return torch.distributions.kl_divergence(p, q).mean()\n",
        "\n",
        "model = ConvVAE(input_channels, hidden_channels).to(device)\n",
        "optim = torch.optim.Adam(model.parameters())\n",
        "loss_func = nn.MSELoss() #TODO try to use MAE\n",
        "#loss_func = nn.L1Loss()\n",
        "\n",
        "for epoch in range(n_epochs):\n",
        "    for i, batch in enumerate(trainloader):\n",
        "        inputs, labels = batch\n",
        "        optim.zero_grad()\n",
        "        inputs = inputs.to(device)\n",
        "        \n",
        "        predict, mu, sigma = model(inputs)\n",
        "        loss = loss_func(inputs, predict) + 0.01 * kl_loss(mu, sigma)\n",
        "        loss.backward()\n",
        "        optim.step()\n",
        "        if i % 200 == 0:\n",
        "            print(f'epoch: {epoch}, step: {i}, loss: {loss.item()}')\n",
        "    item = dataset_test[123][0].unsqueeze(0).to(device).float()\n",
        "   \n",
        "    plt.imshow(item.squeeze().squeeze().cpu().detach().numpy())\n",
        "    plt.show()\n",
        "    plt.imshow(model(item)[0].squeeze().squeeze().cpu().detach().numpy())\n",
        "    plt.show()\n",
        "    torch.save(model.state_dict(), f'./lin_ae_chkpt_{epoch}.pth')"
      ],
      "metadata": {
        "colab": {
          "base_uri": "https://localhost:8080/",
          "height": 1000
        },
        "id": "vMyBFCXgnW-P",
        "outputId": "d464ee61-6d30-4f9b-b254-0882061765bf"
      },
      "execution_count": null,
      "outputs": [
        {
          "output_type": "stream",
          "name": "stdout",
          "text": [
            "epoch: 0, step: 0, loss: 0.655242919921875\n",
            "epoch: 0, step: 200, loss: 0.09157133102416992\n",
            "epoch: 0, step: 400, loss: 0.08243896812200546\n"
          ]
        },
        {
          "output_type": "display_data",
          "data": {
            "text/plain": [
              "<Figure size 432x288 with 1 Axes>"
            ],
            "image/png": "[encoded data removed]"
          },
          "metadata": {
            "needs_background": "light"
          }
        },
        {
          "output_type": "display_data",
          "data": {
            "text/plain": [
              "<Figure size 432x288 with 1 Axes>"
            ],
            "image/png": "[encoded data removed]"
          },
          "metadata": {
            "needs_background": "light"
          }
        },
        {
          "output_type": "stream",
          "name": "stdout",
          "text": [
            "epoch: 1, step: 0, loss: 0.07769212126731873\n",
            "epoch: 1, step: 200, loss: 0.07286925613880157\n",
            "epoch: 1, step: 400, loss: 0.07343605160713196\n"
          ]
        },
        {
          "output_type": "display_data",
          "data": {
            "text/plain": [
              "<Figure size 432x288 with 1 Axes>"
            ],
            "image/png": "[encoded data removed]"
          },
          "metadata": {
            "needs_background": "light"
          }
        },
        {
          "output_type": "display_data",
          "data": {
            "text/plain": [
              "<Figure size 432x288 with 1 Axes>"
            ],
            "image/png": "[encoded data removed]"
          },
          "metadata": {
            "needs_background": "light"
          }
        },
        {
          "output_type": "stream",
          "name": "stdout",
          "text": [
            "epoch: 2, step: 0, loss: 0.0672280490398407\n",
            "epoch: 2, step: 200, loss: 0.0696348175406456\n",
            "epoch: 2, step: 400, loss: 0.0676102489233017\n"
          ]
        },
        {
          "output_type": "display_data",
          "data": {
            "text/plain": [
              "<Figure size 432x288 with 1 Axes>"
            ],
            "image/png": "[encoded data removed]"
          },
          "metadata": {
            "needs_background": "light"
          }
        },
        {
          "output_type": "display_data",
          "data": {
            "text/plain": [
              "<Figure size 432x288 with 1 Axes>"
            ],
            "image/png": "[encoded data removed]"
          },
          "metadata": {
            "needs_background": "light"
          }
        },
        {
          "output_type": "stream",
          "name": "stdout",
          "text": [
            "epoch: 3, step: 0, loss: 0.07164046913385391\n",
            "epoch: 3, step: 200, loss: 0.06532317399978638\n",
            "epoch: 3, step: 400, loss: 0.06824750453233719\n"
          ]
        },
        {
          "output_type": "display_data",
          "data": {
            "text/plain": [
              "<Figure size 432x288 with 1 Axes>"
            ],
            "image/png": "[encoded data removed]"
          },
          "metadata": {
            "needs_background": "light"
          }
        },
        {
          "output_type": "display_data",
          "data": {
            "text/plain": [
              "<Figure size 432x288 with 1 Axes>"
            ],
            "image/png": "[encoded data removed]"
          },
          "metadata": {
            "needs_background": "light"
          }
        },
        {
          "output_type": "stream",
          "name": "stdout",
          "text": [
            "epoch: 4, step: 0, loss: 0.06591356545686722\n",
            "epoch: 4, step: 200, loss: 0.05902158468961716\n",
            "epoch: 4, step: 400, loss: 0.05953666940331459\n"
          ]
        },
        {
          "output_type": "display_data",
          "data": {
            "text/plain": [
              "<Figure size 432x288 with 1 Axes>"
            ],
            "image/png": "[encoded data removed]"
          },
          "metadata": {
            "needs_background": "light"
          }
        },
        {
          "output_type": "display_data",
          "data": {
            "text/plain": [
              "<Figure size 432x288 with 1 Axes>"
            ],
            "image/png": "[encoded data removed]"
          },
          "metadata": {
            "needs_background": "light"
          }
        },
        {
          "output_type": "stream",
          "name": "stdout",
          "text": [
            "epoch: 5, step: 0, loss: 0.06219799071550369\n",
            "epoch: 5, step: 200, loss: 0.06351158767938614\n",
            "epoch: 5, step: 400, loss: 0.05999727547168732\n"
          ]
        },
        {
          "output_type": "display_data",
          "data": {
            "text/plain": [
              "<Figure size 432x288 with 1 Axes>"
            ],
            "image/png": "[encoded data removed]"
          },
          "metadata": {
            "needs_background": "light"
          }
        },
        {
          "output_type": "display_data",
          "data": {
            "text/plain": [
              "<Figure size 432x288 with 1 Axes>"
            ],
            "image/png": "[encoded data removed]"
          },
          "metadata": {
            "needs_background": "light"
          }
        },
        {
          "output_type": "stream",
          "name": "stdout",
          "text": [
            "epoch: 6, step: 0, loss: 0.05936209857463837\n",
            "epoch: 6, step: 200, loss: 0.05870100110769272\n",
            "epoch: 6, step: 400, loss: 0.05662640929222107\n"
          ]
        },
        {
          "output_type": "display_data",
          "data": {
            "text/plain": [
              "<Figure size 432x288 with 1 Axes>"
            ],
            "image/png": "[encoded data removed]"
          },
          "metadata": {
            "needs_background": "light"
          }
        },
        {
          "output_type": "display_data",
          "data": {
            "text/plain": [
              "<Figure size 432x288 with 1 Axes>"
            ],
            "image/png": "[encoded data removed]"
          },
          "metadata": {
            "needs_background": "light"
          }
        },
        {
          "output_type": "stream",
          "name": "stdout",
          "text": [
            "epoch: 7, step: 0, loss: 0.058881595730781555\n",
            "epoch: 7, step: 200, loss: 0.056360915303230286\n"
          ]
        }
      ]
    },
    {
      "cell_type": "code",
      "source": [],
      "metadata": {
        "id": "79GkFe9HnW_1"
      },
      "execution_count": 1,
      "outputs": []
    },
    {
      "cell_type": "code",
      "source": [],
      "metadata": {
        "id": "NpuPRmATnXE7"
      },
      "execution_count": 1,
      "outputs": []
    },
    {
      "cell_type": "code",
      "source": [],
      "metadata": {
        "id": "36wtO41xnXF_"
      },
      "execution_count": 1,
      "outputs": []
    },
    {
      "cell_type": "code",
      "source": [],
      "metadata": {
        "id": "YleB0mUKnXHF"
      },
      "execution_count": 1,
      "outputs": []
    },
    {
      "cell_type": "code",
      "source": [],
      "metadata": {
        "id": "D4PPMRG8nXNr"
      },
      "execution_count": null,
      "outputs": []
    }
  ]
}