{
  "nbformat": 4,
  "nbformat_minor": 0,
  "metadata": {
    "colab": {
      "provenance": []
    },
    "kernelspec": {
      "name": "python3",
      "display_name": "Python 3"
    },
    "language_info": {
      "name": "python"
    },
    "accelerator": "GPU",
    "gpuClass": "standard",
    "widgets": {
      "application/vnd.jupyter.widget-state+json": {
        "2ec0b71cb66b467b81b25c9c156e705e": {
          "model_module": "@jupyter-widgets/controls",
          "model_name": "HBoxModel",
          "model_module_version": "1.5.0",
          "state": {
            "_dom_classes": [],
            "_model_module": "@jupyter-widgets/controls",
            "_model_module_version": "1.5.0",
            "_model_name": "HBoxModel",
            "_view_count": null,
            "_view_module": "@jupyter-widgets/controls",
            "_view_module_version": "1.5.0",
            "_view_name": "HBoxView",
            "box_style": "",
            "children": [
              "IPY_MODEL_20d4b397ba9f4aa2907ed3a65817ffd4",
              "IPY_MODEL_cbdb6886582a463fb80e8c4ea973946b",
              "IPY_MODEL_17893c4010a749eeb9effb45c215980b"
            ],
            "layout": "IPY_MODEL_ec101eee139f40febb68a609fce59448"
          }
        },
        "20d4b397ba9f4aa2907ed3a65817ffd4": {
          "model_module": "@jupyter-widgets/controls",
          "model_name": "HTMLModel",
          "model_module_version": "1.5.0",
          "state": {
            "_dom_classes": [],
            "_model_module": "@jupyter-widgets/controls",
            "_model_module_version": "1.5.0",
            "_model_name": "HTMLModel",
            "_view_count": null,
            "_view_module": "@jupyter-widgets/controls",
            "_view_module_version": "1.5.0",
            "_view_name": "HTMLView",
            "description": "",
            "description_tooltip": null,
            "layout": "IPY_MODEL_d7592d6905c04915b376b7cc6cf0b4f9",
            "placeholder": "​",
            "style": "IPY_MODEL_a7d0a5035dab46508a69d7d485f985c1",
            "value": "100%"
          }
        },
        "cbdb6886582a463fb80e8c4ea973946b": {
          "model_module": "@jupyter-widgets/controls",
          "model_name": "FloatProgressModel",
          "model_module_version": "1.5.0",
          "state": {
            "_dom_classes": [],
            "_model_module": "@jupyter-widgets/controls",
            "_model_module_version": "1.5.0",
            "_model_name": "FloatProgressModel",
            "_view_count": null,
            "_view_module": "@jupyter-widgets/controls",
            "_view_module_version": "1.5.0",
            "_view_name": "ProgressView",
            "bar_style": "success",
            "description": "",
            "description_tooltip": null,
            "layout": "IPY_MODEL_b1332619c1b54a9a99a55900742c37a5",
            "max": 9912422,
            "min": 0,
            "orientation": "horizontal",
            "style": "IPY_MODEL_f5c31c8bc614411c9fa272e54f150c48",
            "value": 9912422
          }
        },
        "17893c4010a749eeb9effb45c215980b": {
          "model_module": "@jupyter-widgets/controls",
          "model_name": "HTMLModel",
          "model_module_version": "1.5.0",
          "state": {
            "_dom_classes": [],
            "_model_module": "@jupyter-widgets/controls",
            "_model_module_version": "1.5.0",
            "_model_name": "HTMLModel",
            "_view_count": null,
            "_view_module": "@jupyter-widgets/controls",
            "_view_module_version": "1.5.0",
            "_view_name": "HTMLView",
            "description": "",
            "description_tooltip": null,
            "layout": "IPY_MODEL_ddd24909dcde44289c3a8de78f6b1fcb",
            "placeholder": "​",
            "style": "IPY_MODEL_5164194c79d54173ae22d768177e9e05",
            "value": " 9912422/9912422 [00:00&lt;00:00, 49809250.19it/s]"
          }
        },
        "ec101eee139f40febb68a609fce59448": {
          "model_module": "@jupyter-widgets/base",
          "model_name": "LayoutModel",
          "model_module_version": "1.2.0",
          "state": {
            "_model_module": "@jupyter-widgets/base",
            "_model_module_version": "1.2.0",
            "_model_name": "LayoutModel",
            "_view_count": null,
            "_view_module": "@jupyter-widgets/base",
            "_view_module_version": "1.2.0",
            "_view_name": "LayoutView",
            "align_content": null,
            "align_items": null,
            "align_self": null,
            "border": null,
            "bottom": null,
            "display": null,
            "flex": null,
            "flex_flow": null,
            "grid_area": null,
            "grid_auto_columns": null,
            "grid_auto_flow": null,
            "grid_auto_rows": null,
            "grid_column": null,
            "grid_gap": null,
            "grid_row": null,
            "grid_template_areas": null,
            "grid_template_columns": null,
            "grid_template_rows": null,
            "height": null,
            "justify_content": null,
            "justify_items": null,
            "left": null,
            "margin": null,
            "max_height": null,
            "max_width": null,
            "min_height": null,
            "min_width": null,
            "object_fit": null,
            "object_position": null,
            "order": null,
            "overflow": null,
            "overflow_x": null,
            "overflow_y": null,
            "padding": null,
            "right": null,
            "top": null,
            "visibility": null,
            "width": null
          }
        },
        "d7592d6905c04915b376b7cc6cf0b4f9": {
          "model_module": "@jupyter-widgets/base",
          "model_name": "LayoutModel",
          "model_module_version": "1.2.0",
          "state": {
            "_model_module": "@jupyter-widgets/base",
            "_model_module_version": "1.2.0",
            "_model_name": "LayoutModel",
            "_view_count": null,
            "_view_module": "@jupyter-widgets/base",
            "_view_module_version": "1.2.0",
            "_view_name": "LayoutView",
            "align_content": null,
            "align_items": null,
            "align_self": null,
            "border": null,
            "bottom": null,
            "display": null,
            "flex": null,
            "flex_flow": null,
            "grid_area": null,
            "grid_auto_columns": null,
            "grid_auto_flow": null,
            "grid_auto_rows": null,
            "grid_column": null,
            "grid_gap": null,
            "grid_row": null,
            "grid_template_areas": null,
            "grid_template_columns": null,
            "grid_template_rows": null,
            "height": null,
            "justify_content": null,
            "justify_items": null,
            "left": null,
            "margin": null,
            "max_height": null,
            "max_width": null,
            "min_height": null,
            "min_width": null,
            "object_fit": null,
            "object_position": null,
            "order": null,
            "overflow": null,
            "overflow_x": null,
            "overflow_y": null,
            "padding": null,
            "right": null,
            "top": null,
            "visibility": null,
            "width": null
          }
        },
        "a7d0a5035dab46508a69d7d485f985c1": {
          "model_module": "@jupyter-widgets/controls",
          "model_name": "DescriptionStyleModel",
          "model_module_version": "1.5.0",
          "state": {
            "_model_module": "@jupyter-widgets/controls",
            "_model_module_version": "1.5.0",
            "_model_name": "DescriptionStyleModel",
            "_view_count": null,
            "_view_module": "@jupyter-widgets/base",
            "_view_module_version": "1.2.0",
            "_view_name": "StyleView",
            "description_width": ""
          }
        },
        "b1332619c1b54a9a99a55900742c37a5": {
          "model_module": "@jupyter-widgets/base",
          "model_name": "LayoutModel",
          "model_module_version": "1.2.0",
          "state": {
            "_model_module": "@jupyter-widgets/base",
            "_model_module_version": "1.2.0",
            "_model_name": "LayoutModel",
            "_view_count": null,
            "_view_module": "@jupyter-widgets/base",
            "_view_module_version": "1.2.0",
            "_view_name": "LayoutView",
            "align_content": null,
            "align_items": null,
            "align_self": null,
            "border": null,
            "bottom": null,
            "display": null,
            "flex": null,
            "flex_flow": null,
            "grid_area": null,
            "grid_auto_columns": null,
            "grid_auto_flow": null,
            "grid_auto_rows": null,
            "grid_column": null,
            "grid_gap": null,
            "grid_row": null,
            "grid_template_areas": null,
            "grid_template_columns": null,
            "grid_template_rows": null,
            "height": null,
            "justify_content": null,
            "justify_items": null,
            "left": null,
            "margin": null,
            "max_height": null,
            "max_width": null,
            "min_height": null,
            "min_width": null,
            "object_fit": null,
            "object_position": null,
            "order": null,
            "overflow": null,
            "overflow_x": null,
            "overflow_y": null,
            "padding": null,
            "right": null,
            "top": null,
            "visibility": null,
            "width": null
          }
        },
        "f5c31c8bc614411c9fa272e54f150c48": {
          "model_module": "@jupyter-widgets/controls",
          "model_name": "ProgressStyleModel",
          "model_module_version": "1.5.0",
          "state": {
            "_model_module": "@jupyter-widgets/controls",
            "_model_module_version": "1.5.0",
            "_model_name": "ProgressStyleModel",
            "_view_count": null,
            "_view_module": "@jupyter-widgets/base",
            "_view_module_version": "1.2.0",
            "_view_name": "StyleView",
            "bar_color": null,
            "description_width": ""
          }
        },
        "ddd24909dcde44289c3a8de78f6b1fcb": {
          "model_module": "@jupyter-widgets/base",
          "model_name": "LayoutModel",
          "model_module_version": "1.2.0",
          "state": {
            "_model_module": "@jupyter-widgets/base",
            "_model_module_version": "1.2.0",
            "_model_name": "LayoutModel",
            "_view_count": null,
            "_view_module": "@jupyter-widgets/base",
            "_view_module_version": "1.2.0",
            "_view_name": "LayoutView",
            "align_content": null,
            "align_items": null,
            "align_self": null,
            "border": null,
            "bottom": null,
            "display": null,
            "flex": null,
            "flex_flow": null,
            "grid_area": null,
            "grid_auto_columns": null,
            "grid_auto_flow": null,
            "grid_auto_rows": null,
            "grid_column": null,
            "grid_gap": null,
            "grid_row": null,
            "grid_template_areas": null,
            "grid_template_columns": null,
            "grid_template_rows": null,
            "height": null,
            "justify_content": null,
            "justify_items": null,
            "left": null,
            "margin": null,
            "max_height": null,
            "max_width": null,
            "min_height": null,
            "min_width": null,
            "object_fit": null,
            "object_position": null,
            "order": null,
            "overflow": null,
            "overflow_x": null,
            "overflow_y": null,
            "padding": null,
            "right": null,
            "top": null,
            "visibility": null,
            "width": null
          }
        },
        "5164194c79d54173ae22d768177e9e05": {
          "model_module": "@jupyter-widgets/controls",
          "model_name": "DescriptionStyleModel",
          "model_module_version": "1.5.0",
          "state": {
            "_model_module": "@jupyter-widgets/controls",
            "_model_module_version": "1.5.0",
            "_model_name": "DescriptionStyleModel",
            "_view_count": null,
            "_view_module": "@jupyter-widgets/base",
            "_view_module_version": "1.2.0",
            "_view_name": "StyleView",
            "description_width": ""
          }
        },
        "8266af15c4ea45b9a49f208203bc7758": {
          "model_module": "@jupyter-widgets/controls",
          "model_name": "HBoxModel",
          "model_module_version": "1.5.0",
          "state": {
            "_dom_classes": [],
            "_model_module": "@jupyter-widgets/controls",
            "_model_module_version": "1.5.0",
            "_model_name": "HBoxModel",
            "_view_count": null,
            "_view_module": "@jupyter-widgets/controls",
            "_view_module_version": "1.5.0",
            "_view_name": "HBoxView",
            "box_style": "",
            "children": [
              "IPY_MODEL_53158fc3b2344d789374fe7f726a7da0",
              "IPY_MODEL_4abb64399b4e440b9f61b7fe8d9ae231",
              "IPY_MODEL_2e25b3c920f640838497c674a2c98c66"
            ],
            "layout": "IPY_MODEL_90c5de7196d0464aaf44aa5881436156"
          }
        },
        "53158fc3b2344d789374fe7f726a7da0": {
          "model_module": "@jupyter-widgets/controls",
          "model_name": "HTMLModel",
          "model_module_version": "1.5.0",
          "state": {
            "_dom_classes": [],
            "_model_module": "@jupyter-widgets/controls",
            "_model_module_version": "1.5.0",
            "_model_name": "HTMLModel",
            "_view_count": null,
            "_view_module": "@jupyter-widgets/controls",
            "_view_module_version": "1.5.0",
            "_view_name": "HTMLView",
            "description": "",
            "description_tooltip": null,
            "layout": "IPY_MODEL_b985ec7d2f7a403787b343cc7bf1c062",
            "placeholder": "​",
            "style": "IPY_MODEL_cd2b29eb7b984125b2dc658ce4a72e3c",
            "value": "100%"
          }
        },
        "4abb64399b4e440b9f61b7fe8d9ae231": {
          "model_module": "@jupyter-widgets/controls",
          "model_name": "FloatProgressModel",
          "model_module_version": "1.5.0",
          "state": {
            "_dom_classes": [],
            "_model_module": "@jupyter-widgets/controls",
            "_model_module_version": "1.5.0",
            "_model_name": "FloatProgressModel",
            "_view_count": null,
            "_view_module": "@jupyter-widgets/controls",
            "_view_module_version": "1.5.0",
            "_view_name": "ProgressView",
            "bar_style": "success",
            "description": "",
            "description_tooltip": null,
            "layout": "IPY_MODEL_815e8dbc37d9403ea089e88b8d73b209",
            "max": 28881,
            "min": 0,
            "orientation": "horizontal",
            "style": "IPY_MODEL_7e6cf79cf1d940239fa1b23ff01420a2",
            "value": 28881
          }
        },
        "2e25b3c920f640838497c674a2c98c66": {
          "model_module": "@jupyter-widgets/controls",
          "model_name": "HTMLModel",
          "model_module_version": "1.5.0",
          "state": {
            "_dom_classes": [],
            "_model_module": "@jupyter-widgets/controls",
            "_model_module_version": "1.5.0",
            "_model_name": "HTMLModel",
            "_view_count": null,
            "_view_module": "@jupyter-widgets/controls",
            "_view_module_version": "1.5.0",
            "_view_name": "HTMLView",
            "description": "",
            "description_tooltip": null,
            "layout": "IPY_MODEL_7e1f08d064a44570a8c8249113340044",
            "placeholder": "​",
            "style": "IPY_MODEL_c65f0416b36442fe8a3257099a8a67b4",
            "value": " 28881/28881 [00:00&lt;00:00, 412190.20it/s]"
          }
        },
        "90c5de7196d0464aaf44aa5881436156": {
          "model_module": "@jupyter-widgets/base",
          "model_name": "LayoutModel",
          "model_module_version": "1.2.0",
          "state": {
            "_model_module": "@jupyter-widgets/base",
            "_model_module_version": "1.2.0",
            "_model_name": "LayoutModel",
            "_view_count": null,
            "_view_module": "@jupyter-widgets/base",
            "_view_module_version": "1.2.0",
            "_view_name": "LayoutView",
            "align_content": null,
            "align_items": null,
            "align_self": null,
            "border": null,
            "bottom": null,
            "display": null,
            "flex": null,
            "flex_flow": null,
            "grid_area": null,
            "grid_auto_columns": null,
            "grid_auto_flow": null,
            "grid_auto_rows": null,
            "grid_column": null,
            "grid_gap": null,
            "grid_row": null,
            "grid_template_areas": null,
            "grid_template_columns": null,
            "grid_template_rows": null,
            "height": null,
            "justify_content": null,
            "justify_items": null,
            "left": null,
            "margin": null,
            "max_height": null,
            "max_width": null,
            "min_height": null,
            "min_width": null,
            "object_fit": null,
            "object_position": null,
            "order": null,
            "overflow": null,
            "overflow_x": null,
            "overflow_y": null,
            "padding": null,
            "right": null,
            "top": null,
            "visibility": null,
            "width": null
          }
        },
        "b985ec7d2f7a403787b343cc7bf1c062": {
          "model_module": "@jupyter-widgets/base",
          "model_name": "LayoutModel",
          "model_module_version": "1.2.0",
          "state": {
            "_model_module": "@jupyter-widgets/base",
            "_model_module_version": "1.2.0",
            "_model_name": "LayoutModel",
            "_view_count": null,
            "_view_module": "@jupyter-widgets/base",
            "_view_module_version": "1.2.0",
            "_view_name": "LayoutView",
            "align_content": null,
            "align_items": null,
            "align_self": null,
            "border": null,
            "bottom": null,
            "display": null,
            "flex": null,
            "flex_flow": null,
            "grid_area": null,
            "grid_auto_columns": null,
            "grid_auto_flow": null,
            "grid_auto_rows": null,
            "grid_column": null,
            "grid_gap": null,
            "grid_row": null,
            "grid_template_areas": null,
            "grid_template_columns": null,
            "grid_template_rows": null,
            "height": null,
            "justify_content": null,
            "justify_items": null,
            "left": null,
            "margin": null,
            "max_height": null,
            "max_width": null,
            "min_height": null,
            "min_width": null,
            "object_fit": null,
            "object_position": null,
            "order": null,
            "overflow": null,
            "overflow_x": null,
            "overflow_y": null,
            "padding": null,
            "right": null,
            "top": null,
            "visibility": null,
            "width": null
          }
        },
        "cd2b29eb7b984125b2dc658ce4a72e3c": {
          "model_module": "@jupyter-widgets/controls",
          "model_name": "DescriptionStyleModel",
          "model_module_version": "1.5.0",
          "state": {
            "_model_module": "@jupyter-widgets/controls",
            "_model_module_version": "1.5.0",
            "_model_name": "DescriptionStyleModel",
            "_view_count": null,
            "_view_module": "@jupyter-widgets/base",
            "_view_module_version": "1.2.0",
            "_view_name": "StyleView",
            "description_width": ""
          }
        },
        "815e8dbc37d9403ea089e88b8d73b209": {
          "model_module": "@jupyter-widgets/base",
          "model_name": "LayoutModel",
          "model_module_version": "1.2.0",
          "state": {
            "_model_module": "@jupyter-widgets/base",
            "_model_module_version": "1.2.0",
            "_model_name": "LayoutModel",
            "_view_count": null,
            "_view_module": "@jupyter-widgets/base",
            "_view_module_version": "1.2.0",
            "_view_name": "LayoutView",
            "align_content": null,
            "align_items": null,
            "align_self": null,
            "border": null,
            "bottom": null,
            "display": null,
            "flex": null,
            "flex_flow": null,
            "grid_area": null,
            "grid_auto_columns": null,
            "grid_auto_flow": null,
            "grid_auto_rows": null,
            "grid_column": null,
            "grid_gap": null,
            "grid_row": null,
            "grid_template_areas": null,
            "grid_template_columns": null,
            "grid_template_rows": null,
            "height": null,
            "justify_content": null,
            "justify_items": null,
            "left": null,
            "margin": null,
            "max_height": null,
            "max_width": null,
            "min_height": null,
            "min_width": null,
            "object_fit": null,
            "object_position": null,
            "order": null,
            "overflow": null,
            "overflow_x": null,
            "overflow_y": null,
            "padding": null,
            "right": null,
            "top": null,
            "visibility": null,
            "width": null
          }
        },
        "7e6cf79cf1d940239fa1b23ff01420a2": {
          "model_module": "@jupyter-widgets/controls",
          "model_name": "ProgressStyleModel",
          "model_module_version": "1.5.0",
          "state": {
            "_model_module": "@jupyter-widgets/controls",
            "_model_module_version": "1.5.0",
            "_model_name": "ProgressStyleModel",
            "_view_count": null,
            "_view_module": "@jupyter-widgets/base",
            "_view_module_version": "1.2.0",
            "_view_name": "StyleView",
            "bar_color": null,
            "description_width": ""
          }
        },
        "7e1f08d064a44570a8c8249113340044": {
          "model_module": "@jupyter-widgets/base",
          "model_name": "LayoutModel",
          "model_module_version": "1.2.0",
          "state": {
            "_model_module": "@jupyter-widgets/base",
            "_model_module_version": "1.2.0",
            "_model_name": "LayoutModel",
            "_view_count": null,
            "_view_module": "@jupyter-widgets/base",
            "_view_module_version": "1.2.0",
            "_view_name": "LayoutView",
            "align_content": null,
            "align_items": null,
            "align_self": null,
            "border": null,
            "bottom": null,
            "display": null,
            "flex": null,
            "flex_flow": null,
            "grid_area": null,
            "grid_auto_columns": null,
            "grid_auto_flow": null,
            "grid_auto_rows": null,
            "grid_column": null,
            "grid_gap": null,
            "grid_row": null,
            "grid_template_areas": null,
            "grid_template_columns": null,
            "grid_template_rows": null,
            "height": null,
            "justify_content": null,
            "justify_items": null,
            "left": null,
            "margin": null,
            "max_height": null,
            "max_width": null,
            "min_height": null,
            "min_width": null,
            "object_fit": null,
            "object_position": null,
            "order": null,
            "overflow": null,
            "overflow_x": null,
            "overflow_y": null,
            "padding": null,
            "right": null,
            "top": null,
            "visibility": null,
            "width": null
          }
        },
        "c65f0416b36442fe8a3257099a8a67b4": {
          "model_module": "@jupyter-widgets/controls",
          "model_name": "DescriptionStyleModel",
          "model_module_version": "1.5.0",
          "state": {
            "_model_module": "@jupyter-widgets/controls",
            "_model_module_version": "1.5.0",
            "_model_name": "DescriptionStyleModel",
            "_view_count": null,
            "_view_module": "@jupyter-widgets/base",
            "_view_module_version": "1.2.0",
            "_view_name": "StyleView",
            "description_width": ""
          }
        },
        "2db9e7aa4fe44af79f75bdd6dc7abb8a": {
          "model_module": "@jupyter-widgets/controls",
          "model_name": "HBoxModel",
          "model_module_version": "1.5.0",
          "state": {
            "_dom_classes": [],
            "_model_module": "@jupyter-widgets/controls",
            "_model_module_version": "1.5.0",
            "_model_name": "HBoxModel",
            "_view_count": null,
            "_view_module": "@jupyter-widgets/controls",
            "_view_module_version": "1.5.0",
            "_view_name": "HBoxView",
            "box_style": "",
            "children": [
              "IPY_MODEL_bb88e61919764ad48b861dc8530c04d0",
              "IPY_MODEL_41304614fe0c44c9b100058e1c840b38",
              "IPY_MODEL_ee3022de2df849d8bd334614d5691c35"
            ],
            "layout": "IPY_MODEL_71afb26eac134f74b756bab6ed78a1d5"
          }
        },
        "bb88e61919764ad48b861dc8530c04d0": {
          "model_module": "@jupyter-widgets/controls",
          "model_name": "HTMLModel",
          "model_module_version": "1.5.0",
          "state": {
            "_dom_classes": [],
            "_model_module": "@jupyter-widgets/controls",
            "_model_module_version": "1.5.0",
            "_model_name": "HTMLModel",
            "_view_count": null,
            "_view_module": "@jupyter-widgets/controls",
            "_view_module_version": "1.5.0",
            "_view_name": "HTMLView",
            "description": "",
            "description_tooltip": null,
            "layout": "IPY_MODEL_d8c0bbdd732b45f1820c5646a22fe194",
            "placeholder": "​",
            "style": "IPY_MODEL_cb7f79146c34440da0362c12a8d0c657",
            "value": "100%"
          }
        },
        "41304614fe0c44c9b100058e1c840b38": {
          "model_module": "@jupyter-widgets/controls",
          "model_name": "FloatProgressModel",
          "model_module_version": "1.5.0",
          "state": {
            "_dom_classes": [],
            "_model_module": "@jupyter-widgets/controls",
            "_model_module_version": "1.5.0",
            "_model_name": "FloatProgressModel",
            "_view_count": null,
            "_view_module": "@jupyter-widgets/controls",
            "_view_module_version": "1.5.0",
            "_view_name": "ProgressView",
            "bar_style": "success",
            "description": "",
            "description_tooltip": null,
            "layout": "IPY_MODEL_390d55e2c2104697ae517960b36c9ca9",
            "max": 1648877,
            "min": 0,
            "orientation": "horizontal",
            "style": "IPY_MODEL_45bd5db52e6d4a9aaa52de9b08e3b61f",
            "value": 1648877
          }
        },
        "ee3022de2df849d8bd334614d5691c35": {
          "model_module": "@jupyter-widgets/controls",
          "model_name": "HTMLModel",
          "model_module_version": "1.5.0",
          "state": {
            "_dom_classes": [],
            "_model_module": "@jupyter-widgets/controls",
            "_model_module_version": "1.5.0",
            "_model_name": "HTMLModel",
            "_view_count": null,
            "_view_module": "@jupyter-widgets/controls",
            "_view_module_version": "1.5.0",
            "_view_name": "HTMLView",
            "description": "",
            "description_tooltip": null,
            "layout": "IPY_MODEL_a8615e056d2948c7831924be59db4c4c",
            "placeholder": "​",
            "style": "IPY_MODEL_a6cec741cef748cbb8868489903160c8",
            "value": " 1648877/1648877 [00:00&lt;00:00, 19851574.13it/s]"
          }
        },
        "71afb26eac134f74b756bab6ed78a1d5": {
          "model_module": "@jupyter-widgets/base",
          "model_name": "LayoutModel",
          "model_module_version": "1.2.0",
          "state": {
            "_model_module": "@jupyter-widgets/base",
            "_model_module_version": "1.2.0",
            "_model_name": "LayoutModel",
            "_view_count": null,
            "_view_module": "@jupyter-widgets/base",
            "_view_module_version": "1.2.0",
            "_view_name": "LayoutView",
            "align_content": null,
            "align_items": null,
            "align_self": null,
            "border": null,
            "bottom": null,
            "display": null,
            "flex": null,
            "flex_flow": null,
            "grid_area": null,
            "grid_auto_columns": null,
            "grid_auto_flow": null,
            "grid_auto_rows": null,
            "grid_column": null,
            "grid_gap": null,
            "grid_row": null,
            "grid_template_areas": null,
            "grid_template_columns": null,
            "grid_template_rows": null,
            "height": null,
            "justify_content": null,
            "justify_items": null,
            "left": null,
            "margin": null,
            "max_height": null,
            "max_width": null,
            "min_height": null,
            "min_width": null,
            "object_fit": null,
            "object_position": null,
            "order": null,
            "overflow": null,
            "overflow_x": null,
            "overflow_y": null,
            "padding": null,
            "right": null,
            "top": null,
            "visibility": null,
            "width": null
          }
        },
        "d8c0bbdd732b45f1820c5646a22fe194": {
          "model_module": "@jupyter-widgets/base",
          "model_name": "LayoutModel",
          "model_module_version": "1.2.0",
          "state": {
            "_model_module": "@jupyter-widgets/base",
            "_model_module_version": "1.2.0",
            "_model_name": "LayoutModel",
            "_view_count": null,
            "_view_module": "@jupyter-widgets/base",
            "_view_module_version": "1.2.0",
            "_view_name": "LayoutView",
            "align_content": null,
            "align_items": null,
            "align_self": null,
            "border": null,
            "bottom": null,
            "display": null,
            "flex": null,
            "flex_flow": null,
            "grid_area": null,
            "grid_auto_columns": null,
            "grid_auto_flow": null,
            "grid_auto_rows": null,
            "grid_column": null,
            "grid_gap": null,
            "grid_row": null,
            "grid_template_areas": null,
            "grid_template_columns": null,
            "grid_template_rows": null,
            "height": null,
            "justify_content": null,
            "justify_items": null,
            "left": null,
            "margin": null,
            "max_height": null,
            "max_width": null,
            "min_height": null,
            "min_width": null,
            "object_fit": null,
            "object_position": null,
            "order": null,
            "overflow": null,
            "overflow_x": null,
            "overflow_y": null,
            "padding": null,
            "right": null,
            "top": null,
            "visibility": null,
            "width": null
          }
        },
        "cb7f79146c34440da0362c12a8d0c657": {
          "model_module": "@jupyter-widgets/controls",
          "model_name": "DescriptionStyleModel",
          "model_module_version": "1.5.0",
          "state": {
            "_model_module": "@jupyter-widgets/controls",
            "_model_module_version": "1.5.0",
            "_model_name": "DescriptionStyleModel",
            "_view_count": null,
            "_view_module": "@jupyter-widgets/base",
            "_view_module_version": "1.2.0",
            "_view_name": "StyleView",
            "description_width": ""
          }
        },
        "390d55e2c2104697ae517960b36c9ca9": {
          "model_module": "@jupyter-widgets/base",
          "model_name": "LayoutModel",
          "model_module_version": "1.2.0",
          "state": {
            "_model_module": "@jupyter-widgets/base",
            "_model_module_version": "1.2.0",
            "_model_name": "LayoutModel",
            "_view_count": null,
            "_view_module": "@jupyter-widgets/base",
            "_view_module_version": "1.2.0",
            "_view_name": "LayoutView",
            "align_content": null,
            "align_items": null,
            "align_self": null,
            "border": null,
            "bottom": null,
            "display": null,
            "flex": null,
            "flex_flow": null,
            "grid_area": null,
            "grid_auto_columns": null,
            "grid_auto_flow": null,
            "grid_auto_rows": null,
            "grid_column": null,
            "grid_gap": null,
            "grid_row": null,
            "grid_template_areas": null,
            "grid_template_columns": null,
            "grid_template_rows": null,
            "height": null,
            "justify_content": null,
            "justify_items": null,
            "left": null,
            "margin": null,
            "max_height": null,
            "max_width": null,
            "min_height": null,
            "min_width": null,
            "object_fit": null,
            "object_position": null,
            "order": null,
            "overflow": null,
            "overflow_x": null,
            "overflow_y": null,
            "padding": null,
            "right": null,
            "top": null,
            "visibility": null,
            "width": null
          }
        },
        "45bd5db52e6d4a9aaa52de9b08e3b61f": {
          "model_module": "@jupyter-widgets/controls",
          "model_name": "ProgressStyleModel",
          "model_module_version": "1.5.0",
          "state": {
            "_model_module": "@jupyter-widgets/controls",
            "_model_module_version": "1.5.0",
            "_model_name": "ProgressStyleModel",
            "_view_count": null,
            "_view_module": "@jupyter-widgets/base",
            "_view_module_version": "1.2.0",
            "_view_name": "StyleView",
            "bar_color": null,
            "description_width": ""
          }
        },
        "a8615e056d2948c7831924be59db4c4c": {
          "model_module": "@jupyter-widgets/base",
          "model_name": "LayoutModel",
          "model_module_version": "1.2.0",
          "state": {
            "_model_module": "@jupyter-widgets/base",
            "_model_module_version": "1.2.0",
            "_model_name": "LayoutModel",
            "_view_count": null,
            "_view_module": "@jupyter-widgets/base",
            "_view_module_version": "1.2.0",
            "_view_name": "LayoutView",
            "align_content": null,
            "align_items": null,
            "align_self": null,
            "border": null,
            "bottom": null,
            "display": null,
            "flex": null,
            "flex_flow": null,
            "grid_area": null,
            "grid_auto_columns": null,
            "grid_auto_flow": null,
            "grid_auto_rows": null,
            "grid_column": null,
            "grid_gap": null,
            "grid_row": null,
            "grid_template_areas": null,
            "grid_template_columns": null,
            "grid_template_rows": null,
            "height": null,
            "justify_content": null,
            "justify_items": null,
            "left": null,
            "margin": null,
            "max_height": null,
            "max_width": null,
            "min_height": null,
            "min_width": null,
            "object_fit": null,
            "object_position": null,
            "order": null,
            "overflow": null,
            "overflow_x": null,
            "overflow_y": null,
            "padding": null,
            "right": null,
            "top": null,
            "visibility": null,
            "width": null
          }
        },
        "a6cec741cef748cbb8868489903160c8": {
          "model_module": "@jupyter-widgets/controls",
          "model_name": "DescriptionStyleModel",
          "model_module_version": "1.5.0",
          "state": {
            "_model_module": "@jupyter-widgets/controls",
            "_model_module_version": "1.5.0",
            "_model_name": "DescriptionStyleModel",
            "_view_count": null,
            "_view_module": "@jupyter-widgets/base",
            "_view_module_version": "1.2.0",
            "_view_name": "StyleView",
            "description_width": ""
          }
        },
        "2c84349bc0e744f4a326e33bd66aa7ee": {
          "model_module": "@jupyter-widgets/controls",
          "model_name": "HBoxModel",
          "model_module_version": "1.5.0",
          "state": {
            "_dom_classes": [],
            "_model_module": "@jupyter-widgets/controls",
            "_model_module_version": "1.5.0",
            "_model_name": "HBoxModel",
            "_view_count": null,
            "_view_module": "@jupyter-widgets/controls",
            "_view_module_version": "1.5.0",
            "_view_name": "HBoxView",
            "box_style": "",
            "children": [
              "IPY_MODEL_7e3f9d7a739b4cdea6d3352d8d9a30da",
              "IPY_MODEL_1ca2d8c921394a5f9b7438d8e6f642fb",
              "IPY_MODEL_a90eda7d99c04f9a8c56f4f5fdc88c64"
            ],
            "layout": "IPY_MODEL_aea51ed7b7d4418e98f36d2a950d3572"
          }
        },
        "7e3f9d7a739b4cdea6d3352d8d9a30da": {
          "model_module": "@jupyter-widgets/controls",
          "model_name": "HTMLModel",
          "model_module_version": "1.5.0",
          "state": {
            "_dom_classes": [],
            "_model_module": "@jupyter-widgets/controls",
            "_model_module_version": "1.5.0",
            "_model_name": "HTMLModel",
            "_view_count": null,
            "_view_module": "@jupyter-widgets/controls",
            "_view_module_version": "1.5.0",
            "_view_name": "HTMLView",
            "description": "",
            "description_tooltip": null,
            "layout": "IPY_MODEL_0e550c49604146ea91a0ad06716a929d",
            "placeholder": "​",
            "style": "IPY_MODEL_f4f36ebc72dd4839a9bd8b5f29caeecb",
            "value": "100%"
          }
        },
        "1ca2d8c921394a5f9b7438d8e6f642fb": {
          "model_module": "@jupyter-widgets/controls",
          "model_name": "FloatProgressModel",
          "model_module_version": "1.5.0",
          "state": {
            "_dom_classes": [],
            "_model_module": "@jupyter-widgets/controls",
            "_model_module_version": "1.5.0",
            "_model_name": "FloatProgressModel",
            "_view_count": null,
            "_view_module": "@jupyter-widgets/controls",
            "_view_module_version": "1.5.0",
            "_view_name": "ProgressView",
            "bar_style": "success",
            "description": "",
            "description_tooltip": null,
            "layout": "IPY_MODEL_6561731e7dfa4fd1be165e40a1c1df29",
            "max": 4542,
            "min": 0,
            "orientation": "horizontal",
            "style": "IPY_MODEL_8a06a132acc24d14996c8dc22f6accdc",
            "value": 4542
          }
        },
        "a90eda7d99c04f9a8c56f4f5fdc88c64": {
          "model_module": "@jupyter-widgets/controls",
          "model_name": "HTMLModel",
          "model_module_version": "1.5.0",
          "state": {
            "_dom_classes": [],
            "_model_module": "@jupyter-widgets/controls",
            "_model_module_version": "1.5.0",
            "_model_name": "HTMLModel",
            "_view_count": null,
            "_view_module": "@jupyter-widgets/controls",
            "_view_module_version": "1.5.0",
            "_view_name": "HTMLView",
            "description": "",
            "description_tooltip": null,
            "layout": "IPY_MODEL_d231bf8a1f3f450cab3bd3c1e8c1ca4d",
            "placeholder": "​",
            "style": "IPY_MODEL_d0ba18f256864d92823113a334e7abee",
            "value": " 4542/4542 [00:00&lt;00:00, 34578.29it/s]"
          }
        },
        "aea51ed7b7d4418e98f36d2a950d3572": {
          "model_module": "@jupyter-widgets/base",
          "model_name": "LayoutModel",
          "model_module_version": "1.2.0",
          "state": {
            "_model_module": "@jupyter-widgets/base",
            "_model_module_version": "1.2.0",
            "_model_name": "LayoutModel",
            "_view_count": null,
            "_view_module": "@jupyter-widgets/base",
            "_view_module_version": "1.2.0",
            "_view_name": "LayoutView",
            "align_content": null,
            "align_items": null,
            "align_self": null,
            "border": null,
            "bottom": null,
            "display": null,
            "flex": null,
            "flex_flow": null,
            "grid_area": null,
            "grid_auto_columns": null,
            "grid_auto_flow": null,
            "grid_auto_rows": null,
            "grid_column": null,
            "grid_gap": null,
            "grid_row": null,
            "grid_template_areas": null,
            "grid_template_columns": null,
            "grid_template_rows": null,
            "height": null,
            "justify_content": null,
            "justify_items": null,
            "left": null,
            "margin": null,
            "max_height": null,
            "max_width": null,
            "min_height": null,
            "min_width": null,
            "object_fit": null,
            "object_position": null,
            "order": null,
            "overflow": null,
            "overflow_x": null,
            "overflow_y": null,
            "padding": null,
            "right": null,
            "top": null,
            "visibility": null,
            "width": null
          }
        },
        "0e550c49604146ea91a0ad06716a929d": {
          "model_module": "@jupyter-widgets/base",
          "model_name": "LayoutModel",
          "model_module_version": "1.2.0",
          "state": {
            "_model_module": "@jupyter-widgets/base",
            "_model_module_version": "1.2.0",
            "_model_name": "LayoutModel",
            "_view_count": null,
            "_view_module": "@jupyter-widgets/base",
            "_view_module_version": "1.2.0",
            "_view_name": "LayoutView",
            "align_content": null,
            "align_items": null,
            "align_self": null,
            "border": null,
            "bottom": null,
            "display": null,
            "flex": null,
            "flex_flow": null,
            "grid_area": null,
            "grid_auto_columns": null,
            "grid_auto_flow": null,
            "grid_auto_rows": null,
            "grid_column": null,
            "grid_gap": null,
            "grid_row": null,
            "grid_template_areas": null,
            "grid_template_columns": null,
            "grid_template_rows": null,
            "height": null,
            "justify_content": null,
            "justify_items": null,
            "left": null,
            "margin": null,
            "max_height": null,
            "max_width": null,
            "min_height": null,
            "min_width": null,
            "object_fit": null,
            "object_position": null,
            "order": null,
            "overflow": null,
            "overflow_x": null,
            "overflow_y": null,
            "padding": null,
            "right": null,
            "top": null,
            "visibility": null,
            "width": null
          }
        },
        "f4f36ebc72dd4839a9bd8b5f29caeecb": {
          "model_module": "@jupyter-widgets/controls",
          "model_name": "DescriptionStyleModel",
          "model_module_version": "1.5.0",
          "state": {
            "_model_module": "@jupyter-widgets/controls",
            "_model_module_version": "1.5.0",
            "_model_name": "DescriptionStyleModel",
            "_view_count": null,
            "_view_module": "@jupyter-widgets/base",
            "_view_module_version": "1.2.0",
            "_view_name": "StyleView",
            "description_width": ""
          }
        },
        "6561731e7dfa4fd1be165e40a1c1df29": {
          "model_module": "@jupyter-widgets/base",
          "model_name": "LayoutModel",
          "model_module_version": "1.2.0",
          "state": {
            "_model_module": "@jupyter-widgets/base",
            "_model_module_version": "1.2.0",
            "_model_name": "LayoutModel",
            "_view_count": null,
            "_view_module": "@jupyter-widgets/base",
            "_view_module_version": "1.2.0",
            "_view_name": "LayoutView",
            "align_content": null,
            "align_items": null,
            "align_self": null,
            "border": null,
            "bottom": null,
            "display": null,
            "flex": null,
            "flex_flow": null,
            "grid_area": null,
            "grid_auto_columns": null,
            "grid_auto_flow": null,
            "grid_auto_rows": null,
            "grid_column": null,
            "grid_gap": null,
            "grid_row": null,
            "grid_template_areas": null,
            "grid_template_columns": null,
            "grid_template_rows": null,
            "height": null,
            "justify_content": null,
            "justify_items": null,
            "left": null,
            "margin": null,
            "max_height": null,
            "max_width": null,
            "min_height": null,
            "min_width": null,
            "object_fit": null,
            "object_position": null,
            "order": null,
            "overflow": null,
            "overflow_x": null,
            "overflow_y": null,
            "padding": null,
            "right": null,
            "top": null,
            "visibility": null,
            "width": null
          }
        },
        "8a06a132acc24d14996c8dc22f6accdc": {
          "model_module": "@jupyter-widgets/controls",
          "model_name": "ProgressStyleModel",
          "model_module_version": "1.5.0",
          "state": {
            "_model_module": "@jupyter-widgets/controls",
            "_model_module_version": "1.5.0",
            "_model_name": "ProgressStyleModel",
            "_view_count": null,
            "_view_module": "@jupyter-widgets/base",
            "_view_module_version": "1.2.0",
            "_view_name": "StyleView",
            "bar_color": null,
            "description_width": ""
          }
        },
        "d231bf8a1f3f450cab3bd3c1e8c1ca4d": {
          "model_module": "@jupyter-widgets/base",
          "model_name": "LayoutModel",
          "model_module_version": "1.2.0",
          "state": {
            "_model_module": "@jupyter-widgets/base",
            "_model_module_version": "1.2.0",
            "_model_name": "LayoutModel",
            "_view_count": null,
            "_view_module": "@jupyter-widgets/base",
            "_view_module_version": "1.2.0",
            "_view_name": "LayoutView",
            "align_content": null,
            "align_items": null,
            "align_self": null,
            "border": null,
            "bottom": null,
            "display": null,
            "flex": null,
            "flex_flow": null,
            "grid_area": null,
            "grid_auto_columns": null,
            "grid_auto_flow": null,
            "grid_auto_rows": null,
            "grid_column": null,
            "grid_gap": null,
            "grid_row": null,
            "grid_template_areas": null,
            "grid_template_columns": null,
            "grid_template_rows": null,
            "height": null,
            "justify_content": null,
            "justify_items": null,
            "left": null,
            "margin": null,
            "max_height": null,
            "max_width": null,
            "min_height": null,
            "min_width": null,
            "object_fit": null,
            "object_position": null,
            "order": null,
            "overflow": null,
            "overflow_x": null,
            "overflow_y": null,
            "padding": null,
            "right": null,
            "top": null,
            "visibility": null,
            "width": null
          }
        },
        "d0ba18f256864d92823113a334e7abee": {
          "model_module": "@jupyter-widgets/controls",
          "model_name": "DescriptionStyleModel",
          "model_module_version": "1.5.0",
          "state": {
            "_model_module": "@jupyter-widgets/controls",
            "_model_module_version": "1.5.0",
            "_model_name": "DescriptionStyleModel",
            "_view_count": null,
            "_view_module": "@jupyter-widgets/base",
            "_view_module_version": "1.2.0",
            "_view_name": "StyleView",
            "description_width": ""
          }
        }
      }
    }
  },
  "cells": [
    {
      "cell_type": "code",
      "execution_count": 1,
      "metadata": {
        "id": "zXc1kK0rwqh1"
      },
      "outputs": [],
      "source": [
        "import numpy\n",
        "import torch\n",
        "import torch.nn as nn\n",
        "import torchvision.models as models\n",
        "from torchvision import datasets\n",
        "from torch.utils.data import DataLoader"
      ]
    },
    {
      "cell_type": "code",
      "source": [
        "dataset = datasets.MNIST('.', download=True)"
      ],
      "metadata": {
        "colab": {
          "base_uri": "https://localhost:8080/",
          "height": 423,
          "referenced_widgets": [
            "2ec0b71cb66b467b81b25c9c156e705e",
            "20d4b397ba9f4aa2907ed3a65817ffd4",
            "cbdb6886582a463fb80e8c4ea973946b",
            "17893c4010a749eeb9effb45c215980b",
            "ec101eee139f40febb68a609fce59448",
            "d7592d6905c04915b376b7cc6cf0b4f9",
            "a7d0a5035dab46508a69d7d485f985c1",
            "b1332619c1b54a9a99a55900742c37a5",
            "f5c31c8bc614411c9fa272e54f150c48",
            "ddd24909dcde44289c3a8de78f6b1fcb",
            "5164194c79d54173ae22d768177e9e05",
            "8266af15c4ea45b9a49f208203bc7758",
            "53158fc3b2344d789374fe7f726a7da0",
            "4abb64399b4e440b9f61b7fe8d9ae231",
            "2e25b3c920f640838497c674a2c98c66",
            "90c5de7196d0464aaf44aa5881436156",
            "b985ec7d2f7a403787b343cc7bf1c062",
            "cd2b29eb7b984125b2dc658ce4a72e3c",
            "815e8dbc37d9403ea089e88b8d73b209",
            "7e6cf79cf1d940239fa1b23ff01420a2",
            "7e1f08d064a44570a8c8249113340044",
            "c65f0416b36442fe8a3257099a8a67b4",
            "2db9e7aa4fe44af79f75bdd6dc7abb8a",
            "bb88e61919764ad48b861dc8530c04d0",
            "41304614fe0c44c9b100058e1c840b38",
            "ee3022de2df849d8bd334614d5691c35",
            "71afb26eac134f74b756bab6ed78a1d5",
            "d8c0bbdd732b45f1820c5646a22fe194",
            "cb7f79146c34440da0362c12a8d0c657",
            "390d55e2c2104697ae517960b36c9ca9",
            "45bd5db52e6d4a9aaa52de9b08e3b61f",
            "a8615e056d2948c7831924be59db4c4c",
            "a6cec741cef748cbb8868489903160c8",
            "2c84349bc0e744f4a326e33bd66aa7ee",
            "7e3f9d7a739b4cdea6d3352d8d9a30da",
            "1ca2d8c921394a5f9b7438d8e6f642fb",
            "a90eda7d99c04f9a8c56f4f5fdc88c64",
            "aea51ed7b7d4418e98f36d2a950d3572",
            "0e550c49604146ea91a0ad06716a929d",
            "f4f36ebc72dd4839a9bd8b5f29caeecb",
            "6561731e7dfa4fd1be165e40a1c1df29",
            "8a06a132acc24d14996c8dc22f6accdc",
            "d231bf8a1f3f450cab3bd3c1e8c1ca4d",
            "d0ba18f256864d92823113a334e7abee"
          ]
        },
        "id": "cNoKtyFbxTED",
        "outputId": "0dc9cd8a-1de9-4be3-b579-5a887a072f08"
      },
      "execution_count": 2,
      "outputs": [
        {
          "output_type": "stream",
          "name": "stdout",
          "text": [
            "Downloading http://yann.lecun.com/exdb/mnist/train-images-idx3-ubyte.gz\n",
            "Downloading http://yann.lecun.com/exdb/mnist/train-images-idx3-ubyte.gz to ./MNIST/raw/train-images-idx3-ubyte.gz\n"
          ]
        },
        {
          "output_type": "display_data",
          "data": {
            "text/plain": [
              "  0%|          | 0/9912422 [00:00<?, ?it/s]"
            ],
            "application/vnd.jupyter.widget-view+json": {
              "version_major": 2,
              "version_minor": 0,
              "model_id": "2ec0b71cb66b467b81b25c9c156e705e"
            }
          },
          "metadata": {}
        },
        {
          "output_type": "stream",
          "name": "stdout",
          "text": [
            "Extracting ./MNIST/raw/train-images-idx3-ubyte.gz to ./MNIST/raw\n",
            "\n",
            "Downloading http://yann.lecun.com/exdb/mnist/train-labels-idx1-ubyte.gz\n",
            "Downloading http://yann.lecun.com/exdb/mnist/train-labels-idx1-ubyte.gz to ./MNIST/raw/train-labels-idx1-ubyte.gz\n"
          ]
        },
        {
          "output_type": "display_data",
          "data": {
            "text/plain": [
              "  0%|          | 0/28881 [00:00<?, ?it/s]"
            ],
            "application/vnd.jupyter.widget-view+json": {
              "version_major": 2,
              "version_minor": 0,
              "model_id": "8266af15c4ea45b9a49f208203bc7758"
            }
          },
          "metadata": {}
        },
        {
          "output_type": "stream",
          "name": "stdout",
          "text": [
            "Extracting ./MNIST/raw/train-labels-idx1-ubyte.gz to ./MNIST/raw\n",
            "\n",
            "Downloading http://yann.lecun.com/exdb/mnist/t10k-images-idx3-ubyte.gz\n",
            "Downloading http://yann.lecun.com/exdb/mnist/t10k-images-idx3-ubyte.gz to ./MNIST/raw/t10k-images-idx3-ubyte.gz\n"
          ]
        },
        {
          "output_type": "display_data",
          "data": {
            "text/plain": [
              "  0%|          | 0/1648877 [00:00<?, ?it/s]"
            ],
            "application/vnd.jupyter.widget-view+json": {
              "version_major": 2,
              "version_minor": 0,
              "model_id": "2db9e7aa4fe44af79f75bdd6dc7abb8a"
            }
          },
          "metadata": {}
        },
        {
          "output_type": "stream",
          "name": "stdout",
          "text": [
            "Extracting ./MNIST/raw/t10k-images-idx3-ubyte.gz to ./MNIST/raw\n",
            "\n",
            "Downloading http://yann.lecun.com/exdb/mnist/t10k-labels-idx1-ubyte.gz\n",
            "Downloading http://yann.lecun.com/exdb/mnist/t10k-labels-idx1-ubyte.gz to ./MNIST/raw/t10k-labels-idx1-ubyte.gz\n"
          ]
        },
        {
          "output_type": "display_data",
          "data": {
            "text/plain": [
              "  0%|          | 0/4542 [00:00<?, ?it/s]"
            ],
            "application/vnd.jupyter.widget-view+json": {
              "version_major": 2,
              "version_minor": 0,
              "model_id": "2c84349bc0e744f4a326e33bd66aa7ee"
            }
          },
          "metadata": {}
        },
        {
          "output_type": "stream",
          "name": "stdout",
          "text": [
            "Extracting ./MNIST/raw/t10k-labels-idx1-ubyte.gz to ./MNIST/raw\n",
            "\n"
          ]
        }
      ]
    },
    {
      "cell_type": "code",
      "source": [
        "dataset[3]"
      ],
      "metadata": {
        "colab": {
          "base_uri": "https://localhost:8080/"
        },
        "id": "Ow_Byd92xkLp",
        "outputId": "505c3cd5-81d6-44b8-bc2f-650c86de9337"
      },
      "execution_count": 3,
      "outputs": [
        {
          "output_type": "execute_result",
          "data": {
            "text/plain": [
              "(<PIL.Image.Image image mode=L size=28x28 at 0x7F78CD0095B0>, 1)"
            ]
          },
          "metadata": {},
          "execution_count": 3
        }
      ]
    },
    {
      "cell_type": "code",
      "source": [
        "import matplotlib.pyplot as plt\n",
        "\n",
        "plt.imshow(dataset.data[3].detach().numpy())\n",
        "plt.show()"
      ],
      "metadata": {
        "colab": {
          "base_uri": "https://localhost:8080/",
          "height": 265
        },
        "id": "HkKnAAdMxkSA",
        "outputId": "6b189682-394a-4fb9-9796-3d8a2355fccd"
      },
      "execution_count": 4,
      "outputs": [
        {
          "output_type": "display_data",
          "data": {
            "text/plain": [
              "<Figure size 432x288 with 1 Axes>"
            ],
            "image/png": "[encoded data removed]"
          },
          "metadata": {
            "needs_background": "light"
          }
        }
      ]
    },
    {
      "cell_type": "code",
      "source": [
        "#Попробуем проверить как инициализация весов влияет на результат\n",
        "\n",
        "class LinearModel(nn.Module):\n",
        "    def __init__(self, input_dim, hidden_dim1, hidden_dim2, output_dim, dropout_p=0.1):\n",
        "        \n",
        "        super().__init__()        \n",
        "\n",
        "        self.linear1 = nn.Linear(input_dim, hidden_dim1)\n",
        "        nn.init.xavier_normal_(self.linear1.weight)\n",
        "        self.do1 = nn.Dropout(dropout_p)\n",
        "        self.linear2 = nn.Linear(hidden_dim1, hidden_dim2)\n",
        "        nn.init.xavier_normal_(self.linear2.weight)\n",
        "        self.do2 = nn.Dropout(dropout_p)\n",
        "        self.linear3 = nn.Linear(hidden_dim2, output_dim)\n",
        "\n",
        "        self.activation = nn.Sigmoid()\n",
        "\n",
        "    def forward(self, x):\n",
        "        x = self.linear1(x)\n",
        "        x = self.activation(x)\n",
        "        x = self.do1(x)\n",
        "        x = self.linear2(x)\n",
        "        x = self.activation(x)\n",
        "        x = self.do2(x)\n",
        "        x = self.linear3(x)\n",
        "\n",
        "        return x"
      ],
      "metadata": {
        "id": "1tIR7XH4xkUQ"
      },
      "execution_count": 5,
      "outputs": []
    },
    {
      "cell_type": "code",
      "source": [],
      "metadata": {
        "id": "Xa-BUnJqSVY7"
      },
      "execution_count": null,
      "outputs": []
    },
    {
      "cell_type": "code",
      "source": [
        "def collate_fn(data: list):\n",
        "    pics = []\n",
        "    target = []\n",
        "    for item in data:\n",
        "        pics.append(numpy.array(item[0]))\n",
        "        target.append(item[1])\n",
        "    pics = torch.from_numpy(numpy.array(pics)).float() / 255\n",
        "    target = torch.from_numpy(numpy.array(target))\n",
        "\n",
        "    return {\n",
        "        'data': pics.view(pics.size(0), -1), \n",
        "        'target': target,\n",
        "    }"
      ],
      "metadata": {
        "id": "yeBfE9Z0xkWn"
      },
      "execution_count": 6,
      "outputs": []
    },
    {
      "cell_type": "code",
      "source": [
        "# hyperparams\n",
        "inp_dim = 28 * 28\n",
        "hidden1 = 256\n",
        "hidden2 = 128\n",
        "out_dim = 10\n",
        "device_id = -1\n",
        "device = 'cpu' if device_id == -1 else 'mps' # 'cuda:1' id GPU\n",
        "n_epochs = 10\n",
        "batch_size = 128"
      ],
      "metadata": {
        "id": "rFT5P4Mjxkbd"
      },
      "execution_count": 7,
      "outputs": []
    },
    {
      "cell_type": "code",
      "source": [
        "model = LinearModel(inp_dim, hidden1, hidden2, out_dim).to(device)\n",
        "model.train() \n",
        "optim = torch.optim.Adam(model.parameters())\n",
        "loss_func = nn.CrossEntropyLoss()"
      ],
      "metadata": {
        "id": "VRVdyMz2Q_qp"
      },
      "execution_count": 8,
      "outputs": []
    },
    {
      "cell_type": "code",
      "source": [
        "for epoch in range(n_epochs):\n",
        "    dataloader = DataLoader(dataset, \n",
        "                            batch_size, \n",
        "                            shuffle=True, \n",
        "                            collate_fn=collate_fn,\n",
        "                            drop_last = True,\n",
        "                            )\n",
        "    for i, batch in enumerate(dataloader):\n",
        "        optim.zero_grad()\n",
        "\n",
        "        predict = model(batch['data'].to(device))\n",
        "        loss = loss_func(predict, batch['target'].to(device))\n",
        "        loss.backward()\n",
        "        optim.step()\n",
        "        if i % 200 == 0:\n",
        "            print(f'epoch: {epoch}, step: {i}, loss: {loss.item()}')\n",
        "    #save every epoch\n",
        "    torch.save(model.state_dict(), f'./chkpt_cv1_{epoch}.pth')"
      ],
      "metadata": {
        "colab": {
          "base_uri": "https://localhost:8080/"
        },
        "id": "aorTuKYbRlw1",
        "outputId": "ad6cf501-6bfe-4dff-d2a4-749aab20371b"
      },
      "execution_count": 9,
      "outputs": [
        {
          "output_type": "stream",
          "name": "stdout",
          "text": [
            "epoch: 0, step: 0, loss: 2.3436450958251953\n",
            "epoch: 0, step: 200, loss: 0.4710894227027893\n",
            "epoch: 0, step: 400, loss: 0.3661273419857025\n",
            "epoch: 1, step: 0, loss: 0.2531581521034241\n",
            "epoch: 1, step: 200, loss: 0.1955329030752182\n",
            "epoch: 1, step: 400, loss: 0.1692223995923996\n",
            "epoch: 2, step: 0, loss: 0.19018015265464783\n",
            "epoch: 2, step: 200, loss: 0.18985116481781006\n",
            "epoch: 2, step: 400, loss: 0.1299697309732437\n",
            "epoch: 3, step: 0, loss: 0.1172601580619812\n",
            "epoch: 3, step: 200, loss: 0.08305978029966354\n",
            "epoch: 3, step: 400, loss: 0.16998785734176636\n",
            "epoch: 4, step: 0, loss: 0.07599933445453644\n",
            "epoch: 4, step: 200, loss: 0.1042262613773346\n",
            "epoch: 4, step: 400, loss: 0.08966232091188431\n",
            "epoch: 5, step: 0, loss: 0.12169651687145233\n",
            "epoch: 5, step: 200, loss: 0.059022124856710434\n",
            "epoch: 5, step: 400, loss: 0.028674175962805748\n",
            "epoch: 6, step: 0, loss: 0.07590712606906891\n",
            "epoch: 6, step: 200, loss: 0.0912594422698021\n",
            "epoch: 6, step: 400, loss: 0.09946417063474655\n",
            "epoch: 7, step: 0, loss: 0.1194007396697998\n",
            "epoch: 7, step: 200, loss: 0.07805348932743073\n",
            "epoch: 7, step: 400, loss: 0.06831926852464676\n",
            "epoch: 8, step: 0, loss: 0.04498730227351189\n",
            "epoch: 8, step: 200, loss: 0.04287439584732056\n",
            "epoch: 8, step: 400, loss: 0.07925516366958618\n",
            "epoch: 9, step: 0, loss: 0.029105128720402718\n",
            "epoch: 9, step: 200, loss: 0.07042933255434036\n",
            "epoch: 9, step: 400, loss: 0.039907123893499374\n"
          ]
        }
      ]
    },
    {
      "cell_type": "code",
      "source": [
        "class LinearModel(nn.Module):\n",
        "    def __init__(self, input_dim, hidden_dim1, hidden_dim2, output_dim, dropout_p=0.1):\n",
        "        \n",
        "        super().__init__()        \n",
        "\n",
        "        self.linear1 = nn.Linear(input_dim, hidden_dim1)\n",
        "        nn.init.kaiming_normal_(self.linear1.weight)\n",
        "        self.do1 = nn.Dropout(dropout_p)\n",
        "        self.linear2 = nn.Linear(hidden_dim1, hidden_dim2)\n",
        "        nn.init.kaiming_normal_(self.linear2.weight)\n",
        "        self.do2 = nn.Dropout(dropout_p)\n",
        "        self.linear3 = nn.Linear(hidden_dim2, output_dim)\n",
        "\n",
        "        self.activation = nn.ReLU()\n",
        "\n",
        "    def forward(self, x):\n",
        "        x = self.linear1(x)\n",
        "        x = self.activation(x)\n",
        "        x = self.do1(x)\n",
        "        x = self.linear2(x)\n",
        "        x = self.activation(x)\n",
        "        x = self.do2(x)\n",
        "        x = self.linear3(x)\n",
        "\n",
        "        return x"
      ],
      "metadata": {
        "id": "_YLq5X_-RoCW"
      },
      "execution_count": 12,
      "outputs": []
    },
    {
      "cell_type": "code",
      "source": [
        "def collate_fn(data: list):\n",
        "    pics = []\n",
        "    target = []\n",
        "    for item in data:\n",
        "        pics.append(numpy.array(item[0]))\n",
        "        target.append(item[1])\n",
        "    pics = torch.from_numpy(numpy.array(pics)).float() / 255\n",
        "    target = torch.from_numpy(numpy.array(target))\n",
        "\n",
        "    return {\n",
        "        'data': pics.view(pics.size(0), -1), \n",
        "        'target': target,\n",
        "    }"
      ],
      "metadata": {
        "id": "WW5jx9H-7LcF"
      },
      "execution_count": 13,
      "outputs": []
    },
    {
      "cell_type": "code",
      "source": [
        "inp_dim = 28 * 28\n",
        "hidden1 = 256\n",
        "hidden2 = 128\n",
        "out_dim = 10\n",
        "device_id = -1\n",
        "device = 'cpu' if device_id == -1 else 'mps' # 'cuda:1' id GPU\n",
        "n_epochs = 10\n",
        "batch_size = 128"
      ],
      "metadata": {
        "id": "iIJ-aSOK7MHH"
      },
      "execution_count": 14,
      "outputs": []
    },
    {
      "cell_type": "code",
      "source": [
        "model = LinearModel(inp_dim, hidden1, hidden2, out_dim).to(device)\n",
        "model.train() \n",
        "optim = torch.optim.Adam(model.parameters())\n",
        "loss_func = nn.CrossEntropyLoss()"
      ],
      "metadata": {
        "id": "6FVs-p597NhB"
      },
      "execution_count": 15,
      "outputs": []
    },
    {
      "cell_type": "code",
      "source": [
        "for epoch in range(n_epochs):\n",
        "    dataloader = DataLoader(dataset, \n",
        "                            batch_size, \n",
        "                            shuffle=True, \n",
        "                            collate_fn=collate_fn,\n",
        "                            drop_last = True,\n",
        "                            )\n",
        "    for i, batch in enumerate(dataloader):\n",
        "        optim.zero_grad()\n",
        "\n",
        "        predict = model(batch['data'].to(device))\n",
        "        loss = loss_func(predict, batch['target'].to(device))\n",
        "        loss.backward()\n",
        "        optim.step()\n",
        "        if i % 200 == 0:\n",
        "            print(f'epoch: {epoch}, step: {i}, loss: {loss.item()}')\n",
        "    #save every epoch\n",
        "    torch.save(model.state_dict(), f'./chkpt_cv1_{epoch}.pth')"
      ],
      "metadata": {
        "colab": {
          "base_uri": "https://localhost:8080/"
        },
        "id": "bFHGvZcb7N3c",
        "outputId": "915765bf-5fef-42c9-8642-7ae899b51edf"
      },
      "execution_count": 16,
      "outputs": [
        {
          "output_type": "stream",
          "name": "stdout",
          "text": [
            "epoch: 0, step: 0, loss: 2.3303771018981934\n",
            "epoch: 0, step: 200, loss: 0.26541221141815186\n",
            "epoch: 0, step: 400, loss: 0.0981278344988823\n",
            "epoch: 1, step: 0, loss: 0.14893732964992523\n",
            "epoch: 1, step: 200, loss: 0.09058111906051636\n",
            "epoch: 1, step: 400, loss: 0.22693492472171783\n",
            "epoch: 2, step: 0, loss: 0.14515860378742218\n",
            "epoch: 2, step: 200, loss: 0.12533257901668549\n",
            "epoch: 2, step: 400, loss: 0.16396212577819824\n",
            "epoch: 3, step: 0, loss: 0.07628566771745682\n",
            "epoch: 3, step: 200, loss: 0.043295059353113174\n",
            "epoch: 3, step: 400, loss: 0.10594609379768372\n",
            "epoch: 4, step: 0, loss: 0.03971737250685692\n",
            "epoch: 4, step: 200, loss: 0.04657706990838051\n",
            "epoch: 4, step: 400, loss: 0.039784085005521774\n",
            "epoch: 5, step: 0, loss: 0.05933729186654091\n",
            "epoch: 5, step: 200, loss: 0.03858305886387825\n",
            "epoch: 5, step: 400, loss: 0.017133982852101326\n",
            "epoch: 6, step: 0, loss: 0.03676781803369522\n",
            "epoch: 6, step: 200, loss: 0.06276845186948776\n",
            "epoch: 6, step: 400, loss: 0.05521468073129654\n",
            "epoch: 7, step: 0, loss: 0.03770843520760536\n",
            "epoch: 7, step: 200, loss: 0.030916104093194008\n",
            "epoch: 7, step: 400, loss: 0.018810629844665527\n",
            "epoch: 8, step: 0, loss: 0.014614952728152275\n",
            "epoch: 8, step: 200, loss: 0.01992318220436573\n",
            "epoch: 8, step: 400, loss: 0.03417874500155449\n",
            "epoch: 9, step: 0, loss: 0.01604807749390602\n",
            "epoch: 9, step: 200, loss: 0.022233422845602036\n",
            "epoch: 9, step: 400, loss: 0.0017194513930007815\n"
          ]
        }
      ]
    },
    {
      "cell_type": "code",
      "source": [
        "class ConvModel(nn.Module):\n",
        "  def __init__(self, input_ch, hidden_ch, output_dim, dropout_p=0.1):\n",
        "    super().__init__()\n",
        "    # уменьшит размер картинки в 2 раза\n",
        "    self.conv1 = nn.Conv2d(input_ch, hidden_ch, kernel_size=5, padding=2, stride=2)\n",
        "    nn.init.xavier_normal_(self.conv1.weight)\n",
        "    self.bn1 = nn.BatchNorm2d(hidden_ch)\n",
        "    self.pool = nn.MaxPool2d(kernel_size=3,padding=1,stride=1)\n",
        "    self.conv2 = nn.Conv2d(hidden_ch, hidden_ch, kernel_size=3, padding=1, stride=1)\n",
        "    nn.init.xavier_normal_(self.conv2.weight)\n",
        "    nn.init.kaiming_normal_(self.conv2.weight)\n",
        "    self.bn2 = nn.BatchNorm2d(hidden_ch)\n",
        "    self.conv3 = nn.Conv2d(hidden_ch, 5, kernel_size=3, padding=1, stride=1)\n",
        "    nn.init.xavier_normal_(self.conv3.weight)\n",
        "    self.classifier = nn.Linear(5 * 14 *14, output_dim)\n",
        "    self.do1 = nn.Dropout(dropout_p)\n",
        "    self.do2 = nn.Dropout(dropout_p)\n",
        "\n",
        "    self.activation = nn.Sigmoid()\n",
        "\n",
        "  def forward(self, x):\n",
        "    x = self.conv1(x)\n",
        "    x = self.bn1(x)\n",
        "    x = self.activation(x)\n",
        "    x = self.do1(x)\n",
        "    x = self.pool(x)\n",
        "    x = self.conv2(x)\n",
        "    x = self.bn2(x)\n",
        "    x = self.activation(x)\n",
        "    x = self.do2(x)\n",
        "    x = self.conv3(x)\n",
        "    x = self.classifier(x.view(x.size(0), -1))\n",
        "\n",
        "    return x"
      ],
      "metadata": {
        "id": "7pkM6fgFDvs_"
      },
      "execution_count": 3,
      "outputs": []
    },
    {
      "cell_type": "code",
      "source": [
        "# hyperparams\n",
        "input_ch = 1\n",
        "hidden_ch = 128\n",
        "out_dim = 10\n",
        "device_id = 0\n",
        "device = 'cpu' if device_id == -1 else f'cuda:{device_id}'\n",
        "n_epochs = 10\n",
        "batch_size = 128"
      ],
      "metadata": {
        "id": "7YF-7W62Dwij"
      },
      "execution_count": 4,
      "outputs": []
    },
    {
      "cell_type": "code",
      "source": [
        "def collate_fn_conv(data: list):\n",
        "  # data = [(pic, target)...]\n",
        "  pics = []\n",
        "  target = []\n",
        "  for item in data:\n",
        "    pics.append(numpy.array(item[0]))\n",
        "    target.append(item[1])\n",
        "  pics = torch.from_numpy(numpy.array(pics)).float() / 255 # B x W x H\n",
        "  target = torch.from_numpy(numpy.array(target))\n",
        "\n",
        "  return {\n",
        "      'data': pics.unsqueeze(1), # B x 1 x W x H\n",
        "      'target': target.long(),\n",
        "      }"
      ],
      "metadata": {
        "id": "fez2PvM0Dwyx"
      },
      "execution_count": 5,
      "outputs": []
    },
    {
      "cell_type": "code",
      "source": [
        "model_conv = ConvModel(input_ch, hidden_ch, out_dim).to(device)\n",
        "optim = torch.optim.Adam(model_conv.parameters())\n",
        "loss_func = nn.CrossEntropyLoss()"
      ],
      "metadata": {
        "id": "zwRAD_WMDxBt"
      },
      "execution_count": 6,
      "outputs": []
    },
    {
      "cell_type": "code",
      "source": [
        "for epoch in range(n_epochs):\n",
        "    dataloader = DataLoader(dataset, \n",
        "                          batch_size, \n",
        "                          shuffle=True, \n",
        "                          collate_fn=collate_fn_conv,\n",
        "                          drop_last = True,\n",
        "                          )\n",
        "    for i, batch in enumerate(dataloader):\n",
        "        optim.zero_grad()\n",
        "\n",
        "        predict = model_conv(batch['data'].to(device))\n",
        "        loss = loss_func(predict, batch['target'].to(device))\n",
        "        loss.backward()\n",
        "        optim.step()\n",
        "        if i % 200 == 0:\n",
        "            print(f'epoch: {epoch}, step: {i}, loss: {loss.item()}')\n",
        "    #save every epoch\n",
        "    torch.save(model_conv.state_dict(), f'./chkpt_cv1_conv_{epoch}.pth')"
      ],
      "metadata": {
        "colab": {
          "base_uri": "https://localhost:8080/"
        },
        "id": "Ss76vPidDxQY",
        "outputId": "61efb836-d883-4d8f-9c31-b9a376b3952d"
      },
      "execution_count": 7,
      "outputs": [
        {
          "output_type": "stream",
          "name": "stdout",
          "text": [
            "epoch: 0, step: 0, loss: 2.3426761627197266\n",
            "epoch: 0, step: 200, loss: 0.10622569918632507\n",
            "epoch: 0, step: 400, loss: 0.03801621124148369\n",
            "epoch: 1, step: 0, loss: 0.04566780850291252\n",
            "epoch: 1, step: 200, loss: 0.12006907165050507\n",
            "epoch: 1, step: 400, loss: 0.05368940532207489\n",
            "epoch: 2, step: 0, loss: 0.041816238313913345\n",
            "epoch: 2, step: 200, loss: 0.01114704366773367\n",
            "epoch: 2, step: 400, loss: 0.019321106374263763\n",
            "epoch: 3, step: 0, loss: 0.04683506861329079\n",
            "epoch: 3, step: 200, loss: 0.02425997518002987\n",
            "epoch: 3, step: 400, loss: 0.13436539471149445\n",
            "epoch: 4, step: 0, loss: 0.02089267037808895\n",
            "epoch: 4, step: 200, loss: 0.037079982459545135\n",
            "epoch: 4, step: 400, loss: 0.04794299602508545\n",
            "epoch: 5, step: 0, loss: 0.03716443479061127\n",
            "epoch: 5, step: 200, loss: 0.029030630365014076\n",
            "epoch: 5, step: 400, loss: 0.04807890206575394\n",
            "epoch: 6, step: 0, loss: 0.015587721019983292\n",
            "epoch: 6, step: 200, loss: 0.06817211210727692\n",
            "epoch: 6, step: 400, loss: 0.022316699847579002\n",
            "epoch: 7, step: 0, loss: 0.06000596657395363\n",
            "epoch: 7, step: 200, loss: 0.02115466259419918\n",
            "epoch: 7, step: 400, loss: 0.07089325040578842\n",
            "epoch: 8, step: 0, loss: 0.015478075481951237\n",
            "epoch: 8, step: 200, loss: 0.02780981920659542\n",
            "epoch: 8, step: 400, loss: 0.04239165782928467\n",
            "epoch: 9, step: 0, loss: 0.008580165915191174\n",
            "epoch: 9, step: 200, loss: 0.008895759470760822\n",
            "epoch: 9, step: 400, loss: 0.006303761620074511\n"
          ]
        }
      ]
    },
    {
      "cell_type": "code",
      "source": [
        "class ConvModel(nn.Module):\n",
        "  def __init__(self, input_ch, hidden_ch, output_dim, dropout_p=0.1):\n",
        "    super().__init__()\n",
        "    # уменьшит размер картинки в 2 раза\n",
        "    self.conv1 = nn.Conv2d(input_ch, hidden_ch, kernel_size=5, padding=2, stride=2)\n",
        "    nn.init.kaiming_normal_(self.conv1.weight)\n",
        "    self.bn1 = nn.BatchNorm2d(hidden_ch)\n",
        "    \n",
        "    self.conv2 = nn.Conv2d(hidden_ch, hidden_ch, kernel_size=3, padding=1, stride=1)\n",
        "    nn.init.kaiming_normal_(self.conv2.weight)\n",
        "    \n",
        "    self.bn2 = nn.BatchNorm2d(hidden_ch)\n",
        "    self.conv3 = nn.Conv2d(hidden_ch, 5, kernel_size=3, padding=1, stride=1)\n",
        "    nn.init.kaiming_normal_(self.conv3.weight)\n",
        "    self.classifier = nn.Linear(5 * 14 *14, output_dim)\n",
        "    self.do1 = nn.Dropout(dropout_p)\n",
        "    self.do2 = nn.Dropout(dropout_p)\n",
        "\n",
        "    self.activation = nn.ReLU()\n",
        "\n",
        "  def forward(self, x):\n",
        "    x = self.conv1(x)\n",
        "    x = self.bn1(x)\n",
        "    x = self.activation(x)\n",
        "    x = self.do1(x)\n",
        "   \n",
        "    x = self.conv2(x)\n",
        "    x = self.bn2(x)\n",
        "    x = self.activation(x)\n",
        "    x = self.do2(x)\n",
        "    x = self.conv3(x)\n",
        "    x = self.classifier(x.view(x.size(0), -1))\n",
        "\n",
        "    return x"
      ],
      "metadata": {
        "id": "u0a3E9oeDxfR"
      },
      "execution_count": 8,
      "outputs": []
    },
    {
      "cell_type": "code",
      "source": [
        "model_conv = ConvModel(input_ch, hidden_ch, out_dim).to(device)\n",
        "optim = torch.optim.Adam(model_conv.parameters())\n",
        "loss_func = nn.CrossEntropyLoss()"
      ],
      "metadata": {
        "id": "1wPTw4sJDxwA"
      },
      "execution_count": 9,
      "outputs": []
    },
    {
      "cell_type": "code",
      "source": [
        "for epoch in range(n_epochs):\n",
        "    dataloader = DataLoader(dataset, \n",
        "                          batch_size, \n",
        "                          shuffle=True, \n",
        "                          collate_fn=collate_fn_conv,\n",
        "                          drop_last = True,\n",
        "                          )\n",
        "    for i, batch in enumerate(dataloader):\n",
        "        optim.zero_grad()\n",
        "\n",
        "        predict = model_conv(batch['data'].to(device))\n",
        "        loss = loss_func(predict, batch['target'].to(device))\n",
        "        loss.backward()\n",
        "        optim.step()\n",
        "        if i % 200 == 0:\n",
        "            print(f'epoch: {epoch}, step: {i}, loss: {loss.item()}')\n",
        "    #save every epoch\n",
        "    torch.save(model_conv.state_dict(), f'./chkpt_cv1_conv_{epoch}.pth')"
      ],
      "metadata": {
        "colab": {
          "base_uri": "https://localhost:8080/"
        },
        "id": "rq-ezk59DyR4",
        "outputId": "1164c119-0e97-4b52-aa79-70be3c588878"
      },
      "execution_count": 10,
      "outputs": [
        {
          "output_type": "stream",
          "name": "stdout",
          "text": [
            "epoch: 0, step: 0, loss: 2.4074602127075195\n",
            "epoch: 0, step: 200, loss: 0.06738412380218506\n",
            "epoch: 0, step: 400, loss: 0.08533280342817307\n",
            "epoch: 1, step: 0, loss: 0.054815374314785004\n",
            "epoch: 1, step: 200, loss: 0.0413183830678463\n",
            "epoch: 1, step: 400, loss: 0.05850709602236748\n",
            "epoch: 2, step: 0, loss: 0.08637173473834991\n",
            "epoch: 2, step: 200, loss: 0.01913127303123474\n",
            "epoch: 2, step: 400, loss: 0.05568951368331909\n",
            "epoch: 3, step: 0, loss: 0.008073397912085056\n",
            "epoch: 3, step: 200, loss: 0.017599310725927353\n",
            "epoch: 3, step: 400, loss: 0.01840038225054741\n",
            "epoch: 4, step: 0, loss: 0.07642791420221329\n",
            "epoch: 4, step: 200, loss: 0.011122613213956356\n",
            "epoch: 4, step: 400, loss: 0.06396744400262833\n",
            "epoch: 5, step: 0, loss: 0.03853827714920044\n",
            "epoch: 5, step: 200, loss: 0.01626107282936573\n",
            "epoch: 5, step: 400, loss: 0.012743202969431877\n",
            "epoch: 6, step: 0, loss: 0.0031970608979463577\n",
            "epoch: 6, step: 200, loss: 0.023377856239676476\n",
            "epoch: 6, step: 400, loss: 0.007203073240816593\n",
            "epoch: 7, step: 0, loss: 0.03142063692212105\n",
            "epoch: 7, step: 200, loss: 0.007216234225779772\n",
            "epoch: 7, step: 400, loss: 0.017320604994893074\n",
            "epoch: 8, step: 0, loss: 0.024502014741301537\n",
            "epoch: 8, step: 200, loss: 0.027721334248781204\n",
            "epoch: 8, step: 400, loss: 0.032352082431316376\n",
            "epoch: 9, step: 0, loss: 0.01582581363618374\n",
            "epoch: 9, step: 200, loss: 0.013204495422542095\n",
            "epoch: 9, step: 400, loss: 0.005858160555362701\n"
          ]
        }
      ]
    },
    {
      "cell_type": "code",
      "source": [],
      "metadata": {
        "id": "dZO1kMHUDyoA"
      },
      "execution_count": 16,
      "outputs": []
    },
    {
      "cell_type": "code",
      "source": [],
      "metadata": {
        "id": "fCG23Wy_Dy4f"
      },
      "execution_count": 16,
      "outputs": []
    },
    {
      "cell_type": "code",
      "source": [],
      "metadata": {
        "id": "j32zvT1rDzIK"
      },
      "execution_count": 16,
      "outputs": []
    },
    {
      "cell_type": "code",
      "source": [],
      "metadata": {
        "id": "EW2rbsBdDzay"
      },
      "execution_count": null,
      "outputs": []
    }
  ]
}