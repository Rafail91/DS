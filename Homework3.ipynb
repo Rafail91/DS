{
 "cells": [
  {
   "cell_type": "markdown",
   "id": "92b03587",
   "metadata": {
    "toc": true
   },
   "source": [
    "<h1>Table of Contents<span class=\"tocSkip\"></span></h1>\n",
    "<div class=\"toc\"><ul class=\"toc-item\"></ul></div>"
   ]
  },
  {
   "cell_type": "code",
   "execution_count": 32,
   "id": "d8048568",
   "metadata": {},
   "outputs": [],
   "source": [
    "import requests\n",
    "import pandas as pd\n",
    "import csv\n",
    "from tqdm.auto import tqdm\n",
    "from functools import reduce"
   ]
  },
  {
   "cell_type": "code",
   "execution_count": 12,
   "id": "ea6b9410",
   "metadata": {},
   "outputs": [],
   "source": []
  },
  {
   "cell_type": "code",
   "execution_count": 13,
   "id": "8a7f8776",
   "metadata": {},
   "outputs": [],
   "source": []
  },
  {
   "cell_type": "code",
   "execution_count": 50,
   "id": "a254508c",
   "metadata": {},
   "outputs": [],
   "source": [
    "class DomIdLoader:\n",
    "    def __init__(self):\n",
    "        self.offset_ = 0\n",
    "        self.limit_ = 100\n",
    "        self.objIds = []\n",
    "        self.objects_data = {}\n",
    "        self.objIds_temp2 = []\n",
    "    def get_ids(self):\n",
    "        while self.offset_ <= 10500:\n",
    "            url = f'https://xn--80az8a.xn--d1aqf.xn--p1ai/%D1%81%D0%B5%D1%80%D0%B2%D0%B8%D1%81%D1%8B/api/kn/object?offset={self.offset_}&limit={self.limit_}&sortField=devId.devShortCleanNm&sortType=asc&objStatus=0'\n",
    "            res = requests.get(url)\n",
    "            res.json()\n",
    "            self.objects_data = res.json()\n",
    "            objects_list = self.objects_data.get('data').get('list')\n",
    "            objects_list\n",
    "            objIds_temp = [x.get('objId') for x in objects_list]\n",
    "            self.objIds_temp2.append(objIds_temp)\n",
    "    \n",
    "            self.objIds = reduce(lambda x,y: x+y, self.objIds_temp2)\n",
    "    \n",
    "            self.offset_ += 100\n",
    "        return self.objIds\n",
    "    def show_ids(self):        \n",
    "        print('Собрано ' + str(len(self.objIds)) + ' id объектов')"
   ]
  },
  {
   "cell_type": "code",
   "execution_count": 53,
   "id": "4d46efb2",
   "metadata": {},
   "outputs": [
    {
     "name": "stdout",
     "output_type": "stream",
     "text": [
      "Собрано 10600 id объектов\n"
     ]
    }
   ],
   "source": []
  },
  {
   "cell_type": "code",
   "execution_count": 52,
   "id": "88ca76bc",
   "metadata": {},
   "outputs": [
    {
     "name": "stdout",
     "output_type": "stream",
     "text": [
      "Собрано 0 id объектов\n"
     ]
    }
   ],
   "source": []
  },
  {
   "cell_type": "code",
   "execution_count": 68,
   "id": "220c47a9",
   "metadata": {},
   "outputs": [],
   "source": [
    "class ObjectInfoExtractor:\n",
    "\n",
    "    def __init__(self, Ids):\n",
    "        self.Ids = Ids\n",
    "        self.d = []\n",
    "        \n",
    "        \n",
    "    def load_data(self):\n",
    "        list_d = []\n",
    "        for obj in tqdm(self.Ids):\n",
    "            url = f'https://xn--80az8a.xn--d1aqf.xn--p1ai/%D1%81%D0%B5%D1%80%D0%B2%D0%B8%D1%81%D1%8B/api/object/{obj}'\n",
    "            res = requests.get(url)\n",
    "            list_d.append(res.json())\n",
    "            self.d = pd.json_normalize(list_d)\n",
    "        return self.d\n",
    "    "
   ]
  },
  {
   "cell_type": "code",
   "execution_count": 1,
   "id": "b06f4a3e",
   "metadata": {},
   "outputs": [
    {
     "ename": "NameError",
     "evalue": "name 'ObjectInfoExtractor' is not defined",
     "output_type": "error",
     "traceback": [
      "\u001b[1;31m---------------------------------------------------------------------------\u001b[0m",
      "\u001b[1;31mNameError\u001b[0m                                 Traceback (most recent call last)",
      "\u001b[1;32m<ipython-input-1-1d56c5bc7fb5>\u001b[0m in \u001b[0;36m<module>\u001b[1;34m\u001b[0m\n\u001b[1;32m----> 1\u001b[1;33m \u001b[0mrfdf\u001b[0m \u001b[1;33m=\u001b[0m \u001b[0mObjectInfoExtractor\u001b[0m\u001b[1;33m(\u001b[0m\u001b[0mIds\u001b[0m\u001b[1;33m.\u001b[0m\u001b[0mobjIds\u001b[0m\u001b[1;33m)\u001b[0m\u001b[1;33m\u001b[0m\u001b[1;33m\u001b[0m\u001b[0m\n\u001b[0m\u001b[0;32m      2\u001b[0m \u001b[0mrfdf\u001b[0m\u001b[1;33m.\u001b[0m\u001b[0mload_data\u001b[0m\u001b[1;33m(\u001b[0m\u001b[1;33m)\u001b[0m\u001b[1;33m\u001b[0m\u001b[1;33m\u001b[0m\u001b[0m\n",
      "\u001b[1;31mNameError\u001b[0m: name 'ObjectInfoExtractor' is not defined"
     ]
    }
   ],
   "source": []
  },
  {
   "cell_type": "code",
   "execution_count": 2,
   "id": "79dc6a52",
   "metadata": {},
   "outputs": [],
   "source": [
    "class Saver:\n",
    "    def __init__(self, data):\n",
    "        self.data = data\n",
    "        \n",
    "        \n",
    "    def save_csv(self):\n",
    "        self.data.to_csv(\"nashdom.csv\")\n",
    "\n",
    "    def save_xl(self):\n",
    "        self.data.to_excel(\"nashdom.xlsx\")\n",
    "\n",
    "    def save_sql(self):\n",
    "        self.data.to_sql('nashdom', con=engine)"
   ]
  },
  {
   "cell_type": "code",
   "execution_count": null,
   "id": "4d0c8b62",
   "metadata": {},
   "outputs": [],
   "source": []
  },
  {
   "cell_type": "code",
   "execution_count": null,
   "id": "c44fa0ee",
   "metadata": {},
   "outputs": [],
   "source": []
  },
  {
   "cell_type": "code",
   "execution_count": null,
   "id": "5c2aa0d5",
   "metadata": {},
   "outputs": [],
   "source": []
  },
  {
   "cell_type": "code",
   "execution_count": null,
   "id": "02017af3",
   "metadata": {},
   "outputs": [],
   "source": []
  },
  {
   "cell_type": "code",
   "execution_count": null,
   "id": "9745ae64",
   "metadata": {},
   "outputs": [],
   "source": []
  },
  {
   "cell_type": "code",
   "execution_count": null,
   "id": "7031be0c",
   "metadata": {},
   "outputs": [],
   "source": []
  },
  {
   "cell_type": "code",
   "execution_count": null,
   "id": "0bae4dce",
   "metadata": {},
   "outputs": [],
   "source": []
  },
  {
   "cell_type": "code",
   "execution_count": null,
   "id": "37252b50",
   "metadata": {},
   "outputs": [],
   "source": []
  }
 ],
 "metadata": {
  "kernelspec": {
   "display_name": "Python 3",
   "language": "python",
   "name": "python3"
  },
  "language_info": {
   "codemirror_mode": {
    "name": "ipython",
    "version": 3
   },
   "file_extension": ".py",
   "mimetype": "text/x-python",
   "name": "python",
   "nbconvert_exporter": "python",
   "pygments_lexer": "ipython3",
   "version": "3.8.8"
  },
  "toc": {
   "base_numbering": 1,
   "nav_menu": {},
   "number_sections": true,
   "sideBar": true,
   "skip_h1_title": false,
   "title_cell": "Table of Contents",
   "title_sidebar": "Contents",
   "toc_cell": true,
   "toc_position": {},
   "toc_section_display": true,
   "toc_window_display": false
  }
 },
 "nbformat": 4,
 "nbformat_minor": 5
}
